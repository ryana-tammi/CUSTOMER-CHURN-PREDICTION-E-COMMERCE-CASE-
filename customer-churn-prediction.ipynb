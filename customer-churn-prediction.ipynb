{
  "cells": [
    {
      "cell_type": "markdown",
      "metadata": {
        "id": "view-in-github",
        "colab_type": "text"
      },
      "source": [
        "<a href=\"https://colab.research.google.com/github/ryana-tammi/CUSTOMER-CHURN-PREDICTION-E-COMMERCE-CASE-/blob/main/customer-churn-prediction.ipynb\" target=\"_parent\"><img src=\"https://colab.research.google.com/assets/colab-badge.svg\" alt=\"Open In Colab\"/></a>"
      ]
    },
    {
      "cell_type": "markdown",
      "id": "b195f9c4-e3fa-44d1-9751-8150e0fe2b03",
      "metadata": {
        "id": "b195f9c4-e3fa-44d1-9751-8150e0fe2b03"
      },
      "source": [
        "# Stage 1 - Exploratory Data Analysis"
      ]
    },
    {
      "cell_type": "markdown",
      "id": "71785998-1ec5-40d2-931f-e68495336b14",
      "metadata": {
        "id": "71785998-1ec5-40d2-931f-e68495336b14"
      },
      "source": [
        "Import Libraries and Dataset first!"
      ]
    },
    {
      "cell_type": "code",
      "execution_count": null,
      "id": "feed156f-9b2a-472a-bc5f-0a7dede70599",
      "metadata": {
        "id": "feed156f-9b2a-472a-bc5f-0a7dede70599"
      },
      "outputs": [],
      "source": [
        "import pandas as pd\n",
        "import numpy as np\n",
        "import matplotlib.pyplot as plt\n",
        "import seaborn as sns\n",
        "import scipy.stats as st\n",
        "# sklearn import for data pre-processing\n",
        "from sklearn.preprocessing import OneHotEncoder, StandardScaler\n",
        "from sklearn.impute import SimpleImputer, KNNImputer\n",
        "\n",
        "# sklearn import for LogisticRegression and RandomForest algorithms\n",
        "from sklearn.linear_model import LogisticRegression\n",
        "from sklearn.ensemble import RandomForestClassifier\n",
        "\n",
        "# ignore warnings( not suggested for real-life projects)\n",
        "import warnings\n",
        "warnings.filterwarnings('ignore')\n"
      ]
    },
    {
      "cell_type": "code",
      "execution_count": null,
      "id": "9a7c039d-cc23-480e-a6cf-d19bc4e91996",
      "metadata": {
        "id": "9a7c039d-cc23-480e-a6cf-d19bc4e91996"
      },
      "outputs": [],
      "source": [
        "from matplotlib import rcParams\n",
        "\n",
        "rcParams['figure.figsize'] = 12, 6\n",
        "rcParams['lines.linewidth'] = 3\n",
        "rcParams['xtick.labelsize'] = 'x-large'\n",
        "rcParams['ytick.labelsize'] = 'x-large'"
      ]
    },
    {
      "cell_type": "markdown",
      "id": "390dOlI86qcR",
      "metadata": {
        "id": "390dOlI86qcR",
        "jp-MarkdownHeadingCollapsed": true,
        "tags": []
      },
      "source": [
        "### LOAD DATSET"
      ]
    },
    {
      "cell_type": "markdown",
      "id": "cIBeLNEOAzZE",
      "metadata": {
        "id": "cIBeLNEOAzZE"
      },
      "source": [
        "1. Dari GDRIVE"
      ]
    },
    {
      "cell_type": "code",
      "execution_count": null,
      "id": "8a076592-f520-480d-9b66-44767c1fac75",
      "metadata": {
        "colab": {
          "base_uri": "https://localhost:8080/"
        },
        "id": "8a076592-f520-480d-9b66-44767c1fac75",
        "outputId": "8b244719-3726-463b-a6a9-4e4e88c97163"
      },
      "outputs": [
        {
          "output_type": "stream",
          "name": "stdout",
          "text": [
            "Mounted at /content/gdrive\n"
          ]
        }
      ],
      "source": [
        "from google.colab import drive\n",
        "drive.mount(\"/content/gdrive\")"
      ]
    },
    {
      "cell_type": "code",
      "execution_count": null,
      "id": "c549ddbe-2d4d-45be-9524-df901b466bc1",
      "metadata": {
        "id": "c549ddbe-2d4d-45be-9524-df901b466bc1",
        "colab": {
          "base_uri": "https://localhost:8080/",
          "height": 305
        },
        "outputId": "81f3d7b4-69e2-4ad2-b090-faa320eb5e4d"
      },
      "outputs": [
        {
          "output_type": "execute_result",
          "data": {
            "text/plain": [
              "   CustomerID  Churn  Tenure PreferredLoginDevice  CityTier  WarehouseToHome  \\\n",
              "0       50001      1     4.0         Mobile Phone         3              6.0   \n",
              "1       50002      1     NaN                Phone         1              8.0   \n",
              "2       50003      1     NaN                Phone         1             30.0   \n",
              "3       50004      1     0.0                Phone         3             15.0   \n",
              "4       50005      1     0.0                Phone         1             12.0   \n",
              "\n",
              "  PreferredPaymentMode  Gender  HourSpendOnApp  NumberOfDeviceRegistered  \\\n",
              "0           Debit Card  Female             3.0                         3   \n",
              "1                  UPI    Male             3.0                         4   \n",
              "2           Debit Card    Male             2.0                         4   \n",
              "3           Debit Card    Male             2.0                         4   \n",
              "4                   CC    Male             NaN                         3   \n",
              "\n",
              "     PreferedOrderCat  SatisfactionScore MaritalStatus  NumberOfAddress  \\\n",
              "0  Laptop & Accessory                  2        Single                9   \n",
              "1              Mobile                  3        Single                7   \n",
              "2              Mobile                  3        Single                6   \n",
              "3  Laptop & Accessory                  5        Single                8   \n",
              "4              Mobile                  5        Single                3   \n",
              "\n",
              "   Complain  OrderAmountHikeFromlastYear  CouponUsed  OrderCount  \\\n",
              "0         1                         11.0         1.0         1.0   \n",
              "1         1                         15.0         0.0         1.0   \n",
              "2         1                         14.0         0.0         1.0   \n",
              "3         0                         23.0         0.0         1.0   \n",
              "4         0                         11.0         1.0         1.0   \n",
              "\n",
              "   DaySinceLastOrder  CashbackAmount  \n",
              "0                5.0          159.93  \n",
              "1                0.0          120.90  \n",
              "2                3.0          120.28  \n",
              "3                3.0          134.07  \n",
              "4                3.0          129.60  "
            ],
            "text/html": [
              "\n",
              "  <div id=\"df-9a54ead2-771f-4cbb-bc3a-7c71c275f300\">\n",
              "    <div class=\"colab-df-container\">\n",
              "      <div>\n",
              "<style scoped>\n",
              "    .dataframe tbody tr th:only-of-type {\n",
              "        vertical-align: middle;\n",
              "    }\n",
              "\n",
              "    .dataframe tbody tr th {\n",
              "        vertical-align: top;\n",
              "    }\n",
              "\n",
              "    .dataframe thead th {\n",
              "        text-align: right;\n",
              "    }\n",
              "</style>\n",
              "<table border=\"1\" class=\"dataframe\">\n",
              "  <thead>\n",
              "    <tr style=\"text-align: right;\">\n",
              "      <th></th>\n",
              "      <th>CustomerID</th>\n",
              "      <th>Churn</th>\n",
              "      <th>Tenure</th>\n",
              "      <th>PreferredLoginDevice</th>\n",
              "      <th>CityTier</th>\n",
              "      <th>WarehouseToHome</th>\n",
              "      <th>PreferredPaymentMode</th>\n",
              "      <th>Gender</th>\n",
              "      <th>HourSpendOnApp</th>\n",
              "      <th>NumberOfDeviceRegistered</th>\n",
              "      <th>PreferedOrderCat</th>\n",
              "      <th>SatisfactionScore</th>\n",
              "      <th>MaritalStatus</th>\n",
              "      <th>NumberOfAddress</th>\n",
              "      <th>Complain</th>\n",
              "      <th>OrderAmountHikeFromlastYear</th>\n",
              "      <th>CouponUsed</th>\n",
              "      <th>OrderCount</th>\n",
              "      <th>DaySinceLastOrder</th>\n",
              "      <th>CashbackAmount</th>\n",
              "    </tr>\n",
              "  </thead>\n",
              "  <tbody>\n",
              "    <tr>\n",
              "      <th>0</th>\n",
              "      <td>50001</td>\n",
              "      <td>1</td>\n",
              "      <td>4.0</td>\n",
              "      <td>Mobile Phone</td>\n",
              "      <td>3</td>\n",
              "      <td>6.0</td>\n",
              "      <td>Debit Card</td>\n",
              "      <td>Female</td>\n",
              "      <td>3.0</td>\n",
              "      <td>3</td>\n",
              "      <td>Laptop &amp; Accessory</td>\n",
              "      <td>2</td>\n",
              "      <td>Single</td>\n",
              "      <td>9</td>\n",
              "      <td>1</td>\n",
              "      <td>11.0</td>\n",
              "      <td>1.0</td>\n",
              "      <td>1.0</td>\n",
              "      <td>5.0</td>\n",
              "      <td>159.93</td>\n",
              "    </tr>\n",
              "    <tr>\n",
              "      <th>1</th>\n",
              "      <td>50002</td>\n",
              "      <td>1</td>\n",
              "      <td>NaN</td>\n",
              "      <td>Phone</td>\n",
              "      <td>1</td>\n",
              "      <td>8.0</td>\n",
              "      <td>UPI</td>\n",
              "      <td>Male</td>\n",
              "      <td>3.0</td>\n",
              "      <td>4</td>\n",
              "      <td>Mobile</td>\n",
              "      <td>3</td>\n",
              "      <td>Single</td>\n",
              "      <td>7</td>\n",
              "      <td>1</td>\n",
              "      <td>15.0</td>\n",
              "      <td>0.0</td>\n",
              "      <td>1.0</td>\n",
              "      <td>0.0</td>\n",
              "      <td>120.90</td>\n",
              "    </tr>\n",
              "    <tr>\n",
              "      <th>2</th>\n",
              "      <td>50003</td>\n",
              "      <td>1</td>\n",
              "      <td>NaN</td>\n",
              "      <td>Phone</td>\n",
              "      <td>1</td>\n",
              "      <td>30.0</td>\n",
              "      <td>Debit Card</td>\n",
              "      <td>Male</td>\n",
              "      <td>2.0</td>\n",
              "      <td>4</td>\n",
              "      <td>Mobile</td>\n",
              "      <td>3</td>\n",
              "      <td>Single</td>\n",
              "      <td>6</td>\n",
              "      <td>1</td>\n",
              "      <td>14.0</td>\n",
              "      <td>0.0</td>\n",
              "      <td>1.0</td>\n",
              "      <td>3.0</td>\n",
              "      <td>120.28</td>\n",
              "    </tr>\n",
              "    <tr>\n",
              "      <th>3</th>\n",
              "      <td>50004</td>\n",
              "      <td>1</td>\n",
              "      <td>0.0</td>\n",
              "      <td>Phone</td>\n",
              "      <td>3</td>\n",
              "      <td>15.0</td>\n",
              "      <td>Debit Card</td>\n",
              "      <td>Male</td>\n",
              "      <td>2.0</td>\n",
              "      <td>4</td>\n",
              "      <td>Laptop &amp; Accessory</td>\n",
              "      <td>5</td>\n",
              "      <td>Single</td>\n",
              "      <td>8</td>\n",
              "      <td>0</td>\n",
              "      <td>23.0</td>\n",
              "      <td>0.0</td>\n",
              "      <td>1.0</td>\n",
              "      <td>3.0</td>\n",
              "      <td>134.07</td>\n",
              "    </tr>\n",
              "    <tr>\n",
              "      <th>4</th>\n",
              "      <td>50005</td>\n",
              "      <td>1</td>\n",
              "      <td>0.0</td>\n",
              "      <td>Phone</td>\n",
              "      <td>1</td>\n",
              "      <td>12.0</td>\n",
              "      <td>CC</td>\n",
              "      <td>Male</td>\n",
              "      <td>NaN</td>\n",
              "      <td>3</td>\n",
              "      <td>Mobile</td>\n",
              "      <td>5</td>\n",
              "      <td>Single</td>\n",
              "      <td>3</td>\n",
              "      <td>0</td>\n",
              "      <td>11.0</td>\n",
              "      <td>1.0</td>\n",
              "      <td>1.0</td>\n",
              "      <td>3.0</td>\n",
              "      <td>129.60</td>\n",
              "    </tr>\n",
              "  </tbody>\n",
              "</table>\n",
              "</div>\n",
              "      <button class=\"colab-df-convert\" onclick=\"convertToInteractive('df-9a54ead2-771f-4cbb-bc3a-7c71c275f300')\"\n",
              "              title=\"Convert this dataframe to an interactive table.\"\n",
              "              style=\"display:none;\">\n",
              "        \n",
              "  <svg xmlns=\"http://www.w3.org/2000/svg\" height=\"24px\"viewBox=\"0 0 24 24\"\n",
              "       width=\"24px\">\n",
              "    <path d=\"M0 0h24v24H0V0z\" fill=\"none\"/>\n",
              "    <path d=\"M18.56 5.44l.94 2.06.94-2.06 2.06-.94-2.06-.94-.94-2.06-.94 2.06-2.06.94zm-11 1L8.5 8.5l.94-2.06 2.06-.94-2.06-.94L8.5 2.5l-.94 2.06-2.06.94zm10 10l.94 2.06.94-2.06 2.06-.94-2.06-.94-.94-2.06-.94 2.06-2.06.94z\"/><path d=\"M17.41 7.96l-1.37-1.37c-.4-.4-.92-.59-1.43-.59-.52 0-1.04.2-1.43.59L10.3 9.45l-7.72 7.72c-.78.78-.78 2.05 0 2.83L4 21.41c.39.39.9.59 1.41.59.51 0 1.02-.2 1.41-.59l7.78-7.78 2.81-2.81c.8-.78.8-2.07 0-2.86zM5.41 20L4 18.59l7.72-7.72 1.47 1.35L5.41 20z\"/>\n",
              "  </svg>\n",
              "      </button>\n",
              "      \n",
              "  <style>\n",
              "    .colab-df-container {\n",
              "      display:flex;\n",
              "      flex-wrap:wrap;\n",
              "      gap: 12px;\n",
              "    }\n",
              "\n",
              "    .colab-df-convert {\n",
              "      background-color: #E8F0FE;\n",
              "      border: none;\n",
              "      border-radius: 50%;\n",
              "      cursor: pointer;\n",
              "      display: none;\n",
              "      fill: #1967D2;\n",
              "      height: 32px;\n",
              "      padding: 0 0 0 0;\n",
              "      width: 32px;\n",
              "    }\n",
              "\n",
              "    .colab-df-convert:hover {\n",
              "      background-color: #E2EBFA;\n",
              "      box-shadow: 0px 1px 2px rgba(60, 64, 67, 0.3), 0px 1px 3px 1px rgba(60, 64, 67, 0.15);\n",
              "      fill: #174EA6;\n",
              "    }\n",
              "\n",
              "    [theme=dark] .colab-df-convert {\n",
              "      background-color: #3B4455;\n",
              "      fill: #D2E3FC;\n",
              "    }\n",
              "\n",
              "    [theme=dark] .colab-df-convert:hover {\n",
              "      background-color: #434B5C;\n",
              "      box-shadow: 0px 1px 3px 1px rgba(0, 0, 0, 0.15);\n",
              "      filter: drop-shadow(0px 1px 2px rgba(0, 0, 0, 0.3));\n",
              "      fill: #FFFFFF;\n",
              "    }\n",
              "  </style>\n",
              "\n",
              "      <script>\n",
              "        const buttonEl =\n",
              "          document.querySelector('#df-9a54ead2-771f-4cbb-bc3a-7c71c275f300 button.colab-df-convert');\n",
              "        buttonEl.style.display =\n",
              "          google.colab.kernel.accessAllowed ? 'block' : 'none';\n",
              "\n",
              "        async function convertToInteractive(key) {\n",
              "          const element = document.querySelector('#df-9a54ead2-771f-4cbb-bc3a-7c71c275f300');\n",
              "          const dataTable =\n",
              "            await google.colab.kernel.invokeFunction('convertToInteractive',\n",
              "                                                     [key], {});\n",
              "          if (!dataTable) return;\n",
              "\n",
              "          const docLinkHtml = 'Like what you see? Visit the ' +\n",
              "            '<a target=\"_blank\" href=https://colab.research.google.com/notebooks/data_table.ipynb>data table notebook</a>'\n",
              "            + ' to learn more about interactive tables.';\n",
              "          element.innerHTML = '';\n",
              "          dataTable['output_type'] = 'display_data';\n",
              "          await google.colab.output.renderOutput(dataTable, element);\n",
              "          const docLink = document.createElement('div');\n",
              "          docLink.innerHTML = docLinkHtml;\n",
              "          element.appendChild(docLink);\n",
              "        }\n",
              "      </script>\n",
              "    </div>\n",
              "  </div>\n",
              "  "
            ]
          },
          "metadata": {},
          "execution_count": 30
        }
      ],
      "source": [
        "import pandas as pd\n",
        "df = pd.read_excel('/content/gdrive/My Drive/FINAL PROJECT Kel 2 Batch 22/E Commerce Dataset.xlsx', sheet_name = 'E Comm')\n",
        "df_stg1 = df.copy()\n",
        "df_stg1.head()"
      ]
    },
    {
      "cell_type": "markdown",
      "id": "ff214bcc-a5dd-4763-a82c-79fdfc9d48f2",
      "metadata": {
        "id": "ff214bcc-a5dd-4763-a82c-79fdfc9d48f2",
        "jp-MarkdownHeadingCollapsed": true,
        "tags": []
      },
      "source": [
        "## CHURN "
      ]
    },
    {
      "cell_type": "code",
      "execution_count": null,
      "id": "4bfc205b-7c25-45a1-b395-91b00b9d3316",
      "metadata": {
        "id": "4bfc205b-7c25-45a1-b395-91b00b9d3316",
        "colab": {
          "base_uri": "https://localhost:8080/"
        },
        "outputId": "6dcd1f1d-91f3-4a3b-b691-647690d7065f"
      },
      "outputs": [
        {
          "output_type": "execute_result",
          "data": {
            "text/plain": [
              "948"
            ]
          },
          "metadata": {},
          "execution_count": 22
        }
      ],
      "source": [
        "churn = df[df['Churn']==1]\n",
        "jumlah_churn = churn['Churn'].sum()\n",
        "jumlah_churn"
      ]
    },
    {
      "cell_type": "code",
      "execution_count": null,
      "id": "56991866-f1ab-4142-bdc7-b48cd6b24279",
      "metadata": {
        "id": "56991866-f1ab-4142-bdc7-b48cd6b24279",
        "colab": {
          "base_uri": "https://localhost:8080/"
        },
        "outputId": "65fe2d93-7257-423e-a955-a27f15596e9c"
      },
      "outputs": [
        {
          "output_type": "execute_result",
          "data": {
            "text/plain": [
              "5630"
            ]
          },
          "metadata": {},
          "execution_count": 23
        }
      ],
      "source": [
        "total_customer = df['CustomerID'].nunique()\n",
        "total_customer"
      ]
    },
    {
      "cell_type": "code",
      "execution_count": null,
      "id": "8e3bc2f2-98d9-4966-a266-e79da0017185",
      "metadata": {
        "id": "8e3bc2f2-98d9-4966-a266-e79da0017185",
        "colab": {
          "base_uri": "https://localhost:8080/"
        },
        "outputId": "15028f5e-0cd7-4763-daee-33497b004a14"
      },
      "outputs": [
        {
          "output_type": "stream",
          "name": "stdout",
          "text": [
            "Churn Ratenya adalah 16.838365896980463 %\n"
          ]
        }
      ],
      "source": [
        "print('Churn Ratenya adalah', jumlah_churn/total_customer*100,'%')"
      ]
    },
    {
      "cell_type": "code",
      "execution_count": null,
      "id": "90348173-8406-4021-abaa-8fd30d28f95c",
      "metadata": {
        "id": "90348173-8406-4021-abaa-8fd30d28f95c",
        "colab": {
          "base_uri": "https://localhost:8080/",
          "height": 112
        },
        "outputId": "1cccfd0a-1e87-4f6b-966a-862789145c3f"
      },
      "outputs": [
        {
          "output_type": "execute_result",
          "data": {
            "text/plain": [
              "   Churn  CustomerID  Persentase(%)\n",
              "0      0        4682      83.161634\n",
              "1      1         948      16.838366"
            ],
            "text/html": [
              "\n",
              "  <div id=\"df-c23b08db-b2f6-4274-8691-2f5a68f32a82\">\n",
              "    <div class=\"colab-df-container\">\n",
              "      <div>\n",
              "<style scoped>\n",
              "    .dataframe tbody tr th:only-of-type {\n",
              "        vertical-align: middle;\n",
              "    }\n",
              "\n",
              "    .dataframe tbody tr th {\n",
              "        vertical-align: top;\n",
              "    }\n",
              "\n",
              "    .dataframe thead th {\n",
              "        text-align: right;\n",
              "    }\n",
              "</style>\n",
              "<table border=\"1\" class=\"dataframe\">\n",
              "  <thead>\n",
              "    <tr style=\"text-align: right;\">\n",
              "      <th></th>\n",
              "      <th>Churn</th>\n",
              "      <th>CustomerID</th>\n",
              "      <th>Persentase(%)</th>\n",
              "    </tr>\n",
              "  </thead>\n",
              "  <tbody>\n",
              "    <tr>\n",
              "      <th>0</th>\n",
              "      <td>0</td>\n",
              "      <td>4682</td>\n",
              "      <td>83.161634</td>\n",
              "    </tr>\n",
              "    <tr>\n",
              "      <th>1</th>\n",
              "      <td>1</td>\n",
              "      <td>948</td>\n",
              "      <td>16.838366</td>\n",
              "    </tr>\n",
              "  </tbody>\n",
              "</table>\n",
              "</div>\n",
              "      <button class=\"colab-df-convert\" onclick=\"convertToInteractive('df-c23b08db-b2f6-4274-8691-2f5a68f32a82')\"\n",
              "              title=\"Convert this dataframe to an interactive table.\"\n",
              "              style=\"display:none;\">\n",
              "        \n",
              "  <svg xmlns=\"http://www.w3.org/2000/svg\" height=\"24px\"viewBox=\"0 0 24 24\"\n",
              "       width=\"24px\">\n",
              "    <path d=\"M0 0h24v24H0V0z\" fill=\"none\"/>\n",
              "    <path d=\"M18.56 5.44l.94 2.06.94-2.06 2.06-.94-2.06-.94-.94-2.06-.94 2.06-2.06.94zm-11 1L8.5 8.5l.94-2.06 2.06-.94-2.06-.94L8.5 2.5l-.94 2.06-2.06.94zm10 10l.94 2.06.94-2.06 2.06-.94-2.06-.94-.94-2.06-.94 2.06-2.06.94z\"/><path d=\"M17.41 7.96l-1.37-1.37c-.4-.4-.92-.59-1.43-.59-.52 0-1.04.2-1.43.59L10.3 9.45l-7.72 7.72c-.78.78-.78 2.05 0 2.83L4 21.41c.39.39.9.59 1.41.59.51 0 1.02-.2 1.41-.59l7.78-7.78 2.81-2.81c.8-.78.8-2.07 0-2.86zM5.41 20L4 18.59l7.72-7.72 1.47 1.35L5.41 20z\"/>\n",
              "  </svg>\n",
              "      </button>\n",
              "      \n",
              "  <style>\n",
              "    .colab-df-container {\n",
              "      display:flex;\n",
              "      flex-wrap:wrap;\n",
              "      gap: 12px;\n",
              "    }\n",
              "\n",
              "    .colab-df-convert {\n",
              "      background-color: #E8F0FE;\n",
              "      border: none;\n",
              "      border-radius: 50%;\n",
              "      cursor: pointer;\n",
              "      display: none;\n",
              "      fill: #1967D2;\n",
              "      height: 32px;\n",
              "      padding: 0 0 0 0;\n",
              "      width: 32px;\n",
              "    }\n",
              "\n",
              "    .colab-df-convert:hover {\n",
              "      background-color: #E2EBFA;\n",
              "      box-shadow: 0px 1px 2px rgba(60, 64, 67, 0.3), 0px 1px 3px 1px rgba(60, 64, 67, 0.15);\n",
              "      fill: #174EA6;\n",
              "    }\n",
              "\n",
              "    [theme=dark] .colab-df-convert {\n",
              "      background-color: #3B4455;\n",
              "      fill: #D2E3FC;\n",
              "    }\n",
              "\n",
              "    [theme=dark] .colab-df-convert:hover {\n",
              "      background-color: #434B5C;\n",
              "      box-shadow: 0px 1px 3px 1px rgba(0, 0, 0, 0.15);\n",
              "      filter: drop-shadow(0px 1px 2px rgba(0, 0, 0, 0.3));\n",
              "      fill: #FFFFFF;\n",
              "    }\n",
              "  </style>\n",
              "\n",
              "      <script>\n",
              "        const buttonEl =\n",
              "          document.querySelector('#df-c23b08db-b2f6-4274-8691-2f5a68f32a82 button.colab-df-convert');\n",
              "        buttonEl.style.display =\n",
              "          google.colab.kernel.accessAllowed ? 'block' : 'none';\n",
              "\n",
              "        async function convertToInteractive(key) {\n",
              "          const element = document.querySelector('#df-c23b08db-b2f6-4274-8691-2f5a68f32a82');\n",
              "          const dataTable =\n",
              "            await google.colab.kernel.invokeFunction('convertToInteractive',\n",
              "                                                     [key], {});\n",
              "          if (!dataTable) return;\n",
              "\n",
              "          const docLinkHtml = 'Like what you see? Visit the ' +\n",
              "            '<a target=\"_blank\" href=https://colab.research.google.com/notebooks/data_table.ipynb>data table notebook</a>'\n",
              "            + ' to learn more about interactive tables.';\n",
              "          element.innerHTML = '';\n",
              "          dataTable['output_type'] = 'display_data';\n",
              "          await google.colab.output.renderOutput(dataTable, element);\n",
              "          const docLink = document.createElement('div');\n",
              "          docLink.innerHTML = docLinkHtml;\n",
              "          element.appendChild(docLink);\n",
              "        }\n",
              "      </script>\n",
              "    </div>\n",
              "  </div>\n",
              "  "
            ]
          },
          "metadata": {},
          "execution_count": 25
        }
      ],
      "source": [
        "a = df.groupby(['Churn'])['CustomerID'].count().reset_index()\n",
        "a['Persentase(%)'] = a['CustomerID']/total_customer*100\n",
        "a"
      ]
    },
    {
      "cell_type": "code",
      "execution_count": null,
      "id": "wyyjxRmy2Czo",
      "metadata": {
        "id": "wyyjxRmy2Czo",
        "colab": {
          "base_uri": "https://localhost:8080/",
          "height": 305
        },
        "outputId": "c82607e3-ffd2-4c32-d7e5-d107bff6ab18"
      },
      "outputs": [
        {
          "output_type": "display_data",
          "data": {
            "text/plain": [
              "<Figure size 576x288 with 1 Axes>"
            ],
            "image/png": "[encoded data removed]"
          },
          "metadata": {
            "needs_background": "light"
          }
        }
      ],
      "source": [
        "plt.figure(figsize = (8,4))\n",
        "sns.barplot(x='Churn', y = 'CustomerID', data = a)\n",
        "plt.title('Customer Churn', fontsize = 16)\n",
        "plt.xlabel('Churn', size =14)\n",
        "plt.ylabel('Customer', size = 14)\n",
        "plt.ylim(500,6000);"
      ]
    },
    {
      "cell_type": "markdown",
      "id": "d93557cc-3909-4dc7-af63-377463685e46",
      "metadata": {
        "id": "d93557cc-3909-4dc7-af63-377463685e46",
        "tags": []
      },
      "source": [
        "## <b> 1. Descriptive Statistics"
      ]
    },
    {
      "cell_type": "markdown",
      "id": "rQZAoJ0i7LnR",
      "metadata": {
        "id": "rQZAoJ0i7LnR"
      },
      "source": [
        "informasi general tentang dataframe"
      ]
    },
    {
      "cell_type": "code",
      "execution_count": null,
      "id": "e18a3753-10a1-4244-af45-7a4feb1c0608",
      "metadata": {
        "id": "e18a3753-10a1-4244-af45-7a4feb1c0608",
        "colab": {
          "base_uri": "https://localhost:8080/"
        },
        "outputId": "6fcb8380-df26-4c4b-d2d9-45f23010d75b"
      },
      "outputs": [
        {
          "output_type": "stream",
          "name": "stdout",
          "text": [
            "<class 'pandas.core.frame.DataFrame'>\n",
            "RangeIndex: 5630 entries, 0 to 5629\n",
            "Data columns (total 20 columns):\n",
            " #   Column                       Non-Null Count  Dtype  \n",
            "---  ------                       --------------  -----  \n",
            " 0   CustomerID                   5630 non-null   int64  \n",
            " 1   Churn                        5630 non-null   int64  \n",
            " 2   Tenure                       5366 non-null   float64\n",
            " 3   PreferredLoginDevice         5630 non-null   object \n",
            " 4   CityTier                     5630 non-null   int64  \n",
            " 5   WarehouseToHome              5379 non-null   float64\n",
            " 6   PreferredPaymentMode         5630 non-null   object \n",
            " 7   Gender                       5630 non-null   object \n",
            " 8   HourSpendOnApp               5375 non-null   float64\n",
            " 9   NumberOfDeviceRegistered     5630 non-null   int64  \n",
            " 10  PreferedOrderCat             5630 non-null   object \n",
            " 11  SatisfactionScore            5630 non-null   int64  \n",
            " 12  MaritalStatus                5630 non-null   object \n",
            " 13  NumberOfAddress              5630 non-null   int64  \n",
            " 14  Complain                     5630 non-null   int64  \n",
            " 15  OrderAmountHikeFromlastYear  5365 non-null   float64\n",
            " 16  CouponUsed                   5374 non-null   float64\n",
            " 17  OrderCount                   5372 non-null   float64\n",
            " 18  DaySinceLastOrder            5323 non-null   float64\n",
            " 19  CashbackAmount               5630 non-null   float64\n",
            "dtypes: float64(8), int64(7), object(5)\n",
            "memory usage: 879.8+ KB\n"
          ]
        }
      ],
      "source": [
        "df_stg1.info()"
      ]
    },
    {
      "cell_type": "code",
      "execution_count": null,
      "id": "d81ecc8c-df57-40dd-8bb4-3d8f07a63887",
      "metadata": {
        "colab": {
          "base_uri": "https://localhost:8080/"
        },
        "id": "d81ecc8c-df57-40dd-8bb4-3d8f07a63887",
        "outputId": "8d5ca368-1b57-43d1-c389-09ecd8a9b08d"
      },
      "outputs": [
        {
          "output_type": "stream",
          "name": "stdout",
          "text": [
            "Data yang duplikat =  0\n"
          ]
        }
      ],
      "source": [
        "print('Data yang duplikat = ', df_stg1.duplicated().sum())"
      ]
    },
    {
      "cell_type": "markdown",
      "id": "33163d08-f913-4ebb-8662-8bab606fcff9",
      "metadata": {
        "id": "33163d08-f913-4ebb-8662-8bab606fcff9"
      },
      "source": [
        "<b> Kolom yang memiliki Missing value"
      ]
    },
    {
      "cell_type": "code",
      "execution_count": null,
      "id": "5b45d11c-58da-4e08-a466-ed99c5ac2522",
      "metadata": {
        "colab": {
          "base_uri": "https://localhost:8080/"
        },
        "id": "5b45d11c-58da-4e08-a466-ed99c5ac2522",
        "outputId": "070e08ef-3a10-4a5f-f9bc-8107dd3d05d1"
      },
      "outputs": [
        {
          "output_type": "execute_result",
          "data": {
            "text/plain": [
              "DaySinceLastOrder              307\n",
              "OrderAmountHikeFromlastYear    265\n",
              "Tenure                         264\n",
              "OrderCount                     258\n",
              "CouponUsed                     256\n",
              "HourSpendOnApp                 255\n",
              "WarehouseToHome                251\n",
              "CustomerID                       0\n",
              "MaritalStatus                    0\n",
              "Complain                         0\n",
              "NumberOfAddress                  0\n",
              "PreferedOrderCat                 0\n",
              "SatisfactionScore                0\n",
              "Churn                            0\n",
              "NumberOfDeviceRegistered         0\n",
              "Gender                           0\n",
              "PreferredPaymentMode             0\n",
              "CityTier                         0\n",
              "PreferredLoginDevice             0\n",
              "CashbackAmount                   0\n",
              "dtype: int64"
            ]
          },
          "metadata": {},
          "execution_count": 29
        }
      ],
      "source": [
        "df_stg1.isna().sum().sort_values(ascending=False)"
      ]
    },
    {
      "cell_type": "markdown",
      "id": "07ae606f-3e35-4e30-bfe8-b7189526162a",
      "metadata": {
        "id": "07ae606f-3e35-4e30-bfe8-b7189526162a"
      },
      "source": [
        "<b> Pengamatan:\n",
        "1. Data terdiri dari 5630 baris dengan total 20 kolom\n",
        "2. Terdapat null/missing values pada kolom: `DaySinceLastOrder`,`OrderAmountHikeFromlastYear`,`Tenure`,`OrderCount`,`CouponUsed`,`HourSpendOnApp`,`WarehouseToHome`\n",
        "3. Untuk tipe data churn dan complain, ada baiknya seharusnya bertipe boolean. akan tetapi dalam case ini tidak terlalu mengganggu proses pengolahan data nantinya. Sepertinya tidak ada issue yang mencolok pada tipe data untuk setiap kolom (<b> Semua tipe data sudah sesuai)\n",
        "4. Tidak ada duplicate data antar baris."
      ]
    },
    {
      "cell_type": "markdown",
      "id": "0759d485-394a-4c4e-85ff-1b219e31a0f6",
      "metadata": {
        "id": "0759d485-394a-4c4e-85ff-1b219e31a0f6"
      },
      "source": [
        "### UNDERSTAND THE DATA\n",
        "- Customer ID ---> berisikan ID dari customer\n",
        "- Churn ----> Churn atau tidak?\n",
        "- Tenure ---> Berapa lama customer menggunakan layanan (loyalitas)\n",
        "- PreferredloginDevice ---> customer lebih memilih login dengan device komputer, handphone dll\n",
        "- CityTier ---> kode kota\n",
        "- WareHousetoHome ---> jarak gudang e commercenya ke rumah pelanggan\n",
        "- PreferredPaymentMod ---> Metode pembayaran yang lebih dipilih untuk digunakan\n",
        "- Gender ---> jenis kelamin\n",
        "- HourSpendOnApp ---> waktu yang dihabiskan untuk menjelajah di aplikasi (dalam jam)\n",
        "- Number of Device Registerd -----> no hp yang diregistrasi\n",
        "- PreferedOrderCat ---> katalog yang sering diorder\n",
        "- SatisfactionScore ----> tingkat kepuasan\n",
        "- MaritalStatus ----> status pernikahan\n",
        "- NumberOfAddress  ---> no alamat\n",
        "- OrderAmountHikeFromlastYear -----> Kenaikan Jumlah Pesanan Dari Tahun Lalu\n",
        "- CouponUsed ----> Kupon yang digunakan\n",
        "- OrderCount ----> jumlah order\n",
        "- DaySinceLastOrder -----> Jarak hari ini dengan hari terakhir/rentang waktu customer order pesanan. \n",
        "- CashbackAmount ----> Jumlah cashback"
      ]
    },
    {
      "cell_type": "code",
      "execution_count": null,
      "id": "a5344ec9-65fd-47df-a45f-4650dc32c22c",
      "metadata": {
        "id": "a5344ec9-65fd-47df-a45f-4650dc32c22c",
        "colab": {
          "base_uri": "https://localhost:8080/"
        },
        "outputId": "f0e85b91-d99c-4e3a-a0f1-0cb0cbf22929"
      },
      "outputs": [
        {
          "output_type": "execute_result",
          "data": {
            "text/plain": [
              "                              count          mean          std      min  \\\n",
              "CustomerID                   5630.0  52815.500000  1625.385339  50001.0   \n",
              "Churn                        5630.0      0.168384     0.374240      0.0   \n",
              "Tenure                       5366.0     10.189899     8.557241      0.0   \n",
              "CityTier                     5630.0      1.654707     0.915389      1.0   \n",
              "WarehouseToHome              5379.0     15.639896     8.531475      5.0   \n",
              "HourSpendOnApp               5375.0      2.931535     0.721926      0.0   \n",
              "NumberOfDeviceRegistered     5630.0      3.688988     1.023999      1.0   \n",
              "SatisfactionScore            5630.0      3.066785     1.380194      1.0   \n",
              "NumberOfAddress              5630.0      4.214032     2.583586      1.0   \n",
              "Complain                     5630.0      0.284902     0.451408      0.0   \n",
              "OrderAmountHikeFromlastYear  5365.0     15.707922     3.675485     11.0   \n",
              "CouponUsed                   5374.0      1.751023     1.894621      0.0   \n",
              "OrderCount                   5372.0      3.008004     2.939680      1.0   \n",
              "DaySinceLastOrder            5323.0      4.543491     3.654433      0.0   \n",
              "CashbackAmount               5630.0    177.223030    49.207036      0.0   \n",
              "\n",
              "                                  25%       50%         75%       max  \n",
              "CustomerID                   51408.25  52815.50  54222.7500  55630.00  \n",
              "Churn                            0.00      0.00      0.0000      1.00  \n",
              "Tenure                           2.00      9.00     16.0000     61.00  \n",
              "CityTier                         1.00      1.00      3.0000      3.00  \n",
              "WarehouseToHome                  9.00     14.00     20.0000    127.00  \n",
              "HourSpendOnApp                   2.00      3.00      3.0000      5.00  \n",
              "NumberOfDeviceRegistered         3.00      4.00      4.0000      6.00  \n",
              "SatisfactionScore                2.00      3.00      4.0000      5.00  \n",
              "NumberOfAddress                  2.00      3.00      6.0000     22.00  \n",
              "Complain                         0.00      0.00      1.0000      1.00  \n",
              "OrderAmountHikeFromlastYear     13.00     15.00     18.0000     26.00  \n",
              "CouponUsed                       1.00      1.00      2.0000     16.00  \n",
              "OrderCount                       1.00      2.00      3.0000     16.00  \n",
              "DaySinceLastOrder                2.00      3.00      7.0000     46.00  \n",
              "CashbackAmount                 145.77    163.28    196.3925    324.99  "
            ],
            "text/html": [
              "\n",
              "  <div id=\"df-8bf85936-70a3-4c85-a7dc-5d19a25f7d95\">\n",
              "    <div class=\"colab-df-container\">\n",
              "      <div>\n",
              "<style scoped>\n",
              "    .dataframe tbody tr th:only-of-type {\n",
              "        vertical-align: middle;\n",
              "    }\n",
              "\n",
              "    .dataframe tbody tr th {\n",
              "        vertical-align: top;\n",
              "    }\n",
              "\n",
              "    .dataframe thead th {\n",
              "        text-align: right;\n",
              "    }\n",
              "</style>\n",
              "<table border=\"1\" class=\"dataframe\">\n",
              "  <thead>\n",
              "    <tr style=\"text-align: right;\">\n",
              "      <th></th>\n",
              "      <th>count</th>\n",
              "      <th>mean</th>\n",
              "      <th>std</th>\n",
              "      <th>min</th>\n",
              "      <th>25%</th>\n",
              "      <th>50%</th>\n",
              "      <th>75%</th>\n",
              "      <th>max</th>\n",
              "    </tr>\n",
              "  </thead>\n",
              "  <tbody>\n",
              "    <tr>\n",
              "      <th>CustomerID</th>\n",
              "      <td>5630.0</td>\n",
              "      <td>52815.500000</td>\n",
              "      <td>1625.385339</td>\n",
              "      <td>50001.0</td>\n",
              "      <td>51408.25</td>\n",
              "      <td>52815.50</td>\n",
              "      <td>54222.7500</td>\n",
              "      <td>55630.00</td>\n",
              "    </tr>\n",
              "    <tr>\n",
              "      <th>Churn</th>\n",
              "      <td>5630.0</td>\n",
              "      <td>0.168384</td>\n",
              "      <td>0.374240</td>\n",
              "      <td>0.0</td>\n",
              "      <td>0.00</td>\n",
              "      <td>0.00</td>\n",
              "      <td>0.0000</td>\n",
              "      <td>1.00</td>\n",
              "    </tr>\n",
              "    <tr>\n",
              "      <th>Tenure</th>\n",
              "      <td>5366.0</td>\n",
              "      <td>10.189899</td>\n",
              "      <td>8.557241</td>\n",
              "      <td>0.0</td>\n",
              "      <td>2.00</td>\n",
              "      <td>9.00</td>\n",
              "      <td>16.0000</td>\n",
              "      <td>61.00</td>\n",
              "    </tr>\n",
              "    <tr>\n",
              "      <th>CityTier</th>\n",
              "      <td>5630.0</td>\n",
              "      <td>1.654707</td>\n",
              "      <td>0.915389</td>\n",
              "      <td>1.0</td>\n",
              "      <td>1.00</td>\n",
              "      <td>1.00</td>\n",
              "      <td>3.0000</td>\n",
              "      <td>3.00</td>\n",
              "    </tr>\n",
              "    <tr>\n",
              "      <th>WarehouseToHome</th>\n",
              "      <td>5379.0</td>\n",
              "      <td>15.639896</td>\n",
              "      <td>8.531475</td>\n",
              "      <td>5.0</td>\n",
              "      <td>9.00</td>\n",
              "      <td>14.00</td>\n",
              "      <td>20.0000</td>\n",
              "      <td>127.00</td>\n",
              "    </tr>\n",
              "    <tr>\n",
              "      <th>HourSpendOnApp</th>\n",
              "      <td>5375.0</td>\n",
              "      <td>2.931535</td>\n",
              "      <td>0.721926</td>\n",
              "      <td>0.0</td>\n",
              "      <td>2.00</td>\n",
              "      <td>3.00</td>\n",
              "      <td>3.0000</td>\n",
              "      <td>5.00</td>\n",
              "    </tr>\n",
              "    <tr>\n",
              "      <th>NumberOfDeviceRegistered</th>\n",
              "      <td>5630.0</td>\n",
              "      <td>3.688988</td>\n",
              "      <td>1.023999</td>\n",
              "      <td>1.0</td>\n",
              "      <td>3.00</td>\n",
              "      <td>4.00</td>\n",
              "      <td>4.0000</td>\n",
              "      <td>6.00</td>\n",
              "    </tr>\n",
              "    <tr>\n",
              "      <th>SatisfactionScore</th>\n",
              "      <td>5630.0</td>\n",
              "      <td>3.066785</td>\n",
              "      <td>1.380194</td>\n",
              "      <td>1.0</td>\n",
              "      <td>2.00</td>\n",
              "      <td>3.00</td>\n",
              "      <td>4.0000</td>\n",
              "      <td>5.00</td>\n",
              "    </tr>\n",
              "    <tr>\n",
              "      <th>NumberOfAddress</th>\n",
              "      <td>5630.0</td>\n",
              "      <td>4.214032</td>\n",
              "      <td>2.583586</td>\n",
              "      <td>1.0</td>\n",
              "      <td>2.00</td>\n",
              "      <td>3.00</td>\n",
              "      <td>6.0000</td>\n",
              "      <td>22.00</td>\n",
              "    </tr>\n",
              "    <tr>\n",
              "      <th>Complain</th>\n",
              "      <td>5630.0</td>\n",
              "      <td>0.284902</td>\n",
              "      <td>0.451408</td>\n",
              "      <td>0.0</td>\n",
              "      <td>0.00</td>\n",
              "      <td>0.00</td>\n",
              "      <td>1.0000</td>\n",
              "      <td>1.00</td>\n",
              "    </tr>\n",
              "    <tr>\n",
              "      <th>OrderAmountHikeFromlastYear</th>\n",
              "      <td>5365.0</td>\n",
              "      <td>15.707922</td>\n",
              "      <td>3.675485</td>\n",
              "      <td>11.0</td>\n",
              "      <td>13.00</td>\n",
              "      <td>15.00</td>\n",
              "      <td>18.0000</td>\n",
              "      <td>26.00</td>\n",
              "    </tr>\n",
              "    <tr>\n",
              "      <th>CouponUsed</th>\n",
              "      <td>5374.0</td>\n",
              "      <td>1.751023</td>\n",
              "      <td>1.894621</td>\n",
              "      <td>0.0</td>\n",
              "      <td>1.00</td>\n",
              "      <td>1.00</td>\n",
              "      <td>2.0000</td>\n",
              "      <td>16.00</td>\n",
              "    </tr>\n",
              "    <tr>\n",
              "      <th>OrderCount</th>\n",
              "      <td>5372.0</td>\n",
              "      <td>3.008004</td>\n",
              "      <td>2.939680</td>\n",
              "      <td>1.0</td>\n",
              "      <td>1.00</td>\n",
              "      <td>2.00</td>\n",
              "      <td>3.0000</td>\n",
              "      <td>16.00</td>\n",
              "    </tr>\n",
              "    <tr>\n",
              "      <th>DaySinceLastOrder</th>\n",
              "      <td>5323.0</td>\n",
              "      <td>4.543491</td>\n",
              "      <td>3.654433</td>\n",
              "      <td>0.0</td>\n",
              "      <td>2.00</td>\n",
              "      <td>3.00</td>\n",
              "      <td>7.0000</td>\n",
              "      <td>46.00</td>\n",
              "    </tr>\n",
              "    <tr>\n",
              "      <th>CashbackAmount</th>\n",
              "      <td>5630.0</td>\n",
              "      <td>177.223030</td>\n",
              "      <td>49.207036</td>\n",
              "      <td>0.0</td>\n",
              "      <td>145.77</td>\n",
              "      <td>163.28</td>\n",
              "      <td>196.3925</td>\n",
              "      <td>324.99</td>\n",
              "    </tr>\n",
              "  </tbody>\n",
              "</table>\n",
              "</div>\n",
              "      <button class=\"colab-df-convert\" onclick=\"convertToInteractive('df-8bf85936-70a3-4c85-a7dc-5d19a25f7d95')\"\n",
              "              title=\"Convert this dataframe to an interactive table.\"\n",
              "              style=\"display:none;\">\n",
              "        \n",
              "  <svg xmlns=\"http://www.w3.org/2000/svg\" height=\"24px\"viewBox=\"0 0 24 24\"\n",
              "       width=\"24px\">\n",
              "    <path d=\"M0 0h24v24H0V0z\" fill=\"none\"/>\n",
              "    <path d=\"M18.56 5.44l.94 2.06.94-2.06 2.06-.94-2.06-.94-.94-2.06-.94 2.06-2.06.94zm-11 1L8.5 8.5l.94-2.06 2.06-.94-2.06-.94L8.5 2.5l-.94 2.06-2.06.94zm10 10l.94 2.06.94-2.06 2.06-.94-2.06-.94-.94-2.06-.94 2.06-2.06.94z\"/><path d=\"M17.41 7.96l-1.37-1.37c-.4-.4-.92-.59-1.43-.59-.52 0-1.04.2-1.43.59L10.3 9.45l-7.72 7.72c-.78.78-.78 2.05 0 2.83L4 21.41c.39.39.9.59 1.41.59.51 0 1.02-.2 1.41-.59l7.78-7.78 2.81-2.81c.8-.78.8-2.07 0-2.86zM5.41 20L4 18.59l7.72-7.72 1.47 1.35L5.41 20z\"/>\n",
              "  </svg>\n",
              "      </button>\n",
              "      \n",
              "  <style>\n",
              "    .colab-df-container {\n",
              "      display:flex;\n",
              "      flex-wrap:wrap;\n",
              "      gap: 12px;\n",
              "    }\n",
              "\n",
              "    .colab-df-convert {\n",
              "      background-color: #E8F0FE;\n",
              "      border: none;\n",
              "      border-radius: 50%;\n",
              "      cursor: pointer;\n",
              "      display: none;\n",
              "      fill: #1967D2;\n",
              "      height: 32px;\n",
              "      padding: 0 0 0 0;\n",
              "      width: 32px;\n",
              "    }\n",
              "\n",
              "    .colab-df-convert:hover {\n",
              "      background-color: #E2EBFA;\n",
              "      box-shadow: 0px 1px 2px rgba(60, 64, 67, 0.3), 0px 1px 3px 1px rgba(60, 64, 67, 0.15);\n",
              "      fill: #174EA6;\n",
              "    }\n",
              "\n",
              "    [theme=dark] .colab-df-convert {\n",
              "      background-color: #3B4455;\n",
              "      fill: #D2E3FC;\n",
              "    }\n",
              "\n",
              "    [theme=dark] .colab-df-convert:hover {\n",
              "      background-color: #434B5C;\n",
              "      box-shadow: 0px 1px 3px 1px rgba(0, 0, 0, 0.15);\n",
              "      filter: drop-shadow(0px 1px 2px rgba(0, 0, 0, 0.3));\n",
              "      fill: #FFFFFF;\n",
              "    }\n",
              "  </style>\n",
              "\n",
              "      <script>\n",
              "        const buttonEl =\n",
              "          document.querySelector('#df-8bf85936-70a3-4c85-a7dc-5d19a25f7d95 button.colab-df-convert');\n",
              "        buttonEl.style.display =\n",
              "          google.colab.kernel.accessAllowed ? 'block' : 'none';\n",
              "\n",
              "        async function convertToInteractive(key) {\n",
              "          const element = document.querySelector('#df-8bf85936-70a3-4c85-a7dc-5d19a25f7d95');\n",
              "          const dataTable =\n",
              "            await google.colab.kernel.invokeFunction('convertToInteractive',\n",
              "                                                     [key], {});\n",
              "          if (!dataTable) return;\n",
              "\n",
              "          const docLinkHtml = 'Like what you see? Visit the ' +\n",
              "            '<a target=\"_blank\" href=https://colab.research.google.com/notebooks/data_table.ipynb>data table notebook</a>'\n",
              "            + ' to learn more about interactive tables.';\n",
              "          element.innerHTML = '';\n",
              "          dataTable['output_type'] = 'display_data';\n",
              "          await google.colab.output.renderOutput(dataTable, element);\n",
              "          const docLink = document.createElement('div');\n",
              "          docLink.innerHTML = docLinkHtml;\n",
              "          element.appendChild(docLink);\n",
              "        }\n",
              "      </script>\n",
              "    </div>\n",
              "  </div>\n",
              "  "
            ]
          },
          "metadata": {},
          "execution_count": 30
        }
      ],
      "source": [
        "df_stg1.describe().transpose()"
      ]
    },
    {
      "cell_type": "code",
      "execution_count": null,
      "id": "a34f8b36-8d23-47d3-b407-6b1b2d35caa0",
      "metadata": {
        "id": "a34f8b36-8d23-47d3-b407-6b1b2d35caa0",
        "colab": {
          "base_uri": "https://localhost:8080/"
        },
        "outputId": "80cb7f8d-82fe-4805-b233-d46eb499eae5"
      },
      "outputs": [
        {
          "output_type": "execute_result",
          "data": {
            "text/plain": [
              "DaySinceLastOrder              5.452931\n",
              "OrderAmountHikeFromlastYear    4.706927\n",
              "Tenure                         4.689165\n",
              "OrderCount                     4.582593\n",
              "CouponUsed                     4.547069\n",
              "HourSpendOnApp                 4.529307\n",
              "WarehouseToHome                4.458259\n",
              "CustomerID                     0.000000\n",
              "MaritalStatus                  0.000000\n",
              "Complain                       0.000000\n",
              "NumberOfAddress                0.000000\n",
              "PreferedOrderCat               0.000000\n",
              "SatisfactionScore              0.000000\n",
              "Churn                          0.000000\n",
              "NumberOfDeviceRegistered       0.000000\n",
              "Gender                         0.000000\n",
              "PreferredPaymentMode           0.000000\n",
              "CityTier                       0.000000\n",
              "PreferredLoginDevice           0.000000\n",
              "CashbackAmount                 0.000000\n",
              "dtype: float64"
            ]
          },
          "metadata": {},
          "execution_count": 31
        }
      ],
      "source": [
        "percentage_of_null_values = ((df_stg1.isnull().sum())*100/len(df)).sort_values(ascending = False)\n",
        "percentage_of_null_values"
      ]
    },
    {
      "cell_type": "markdown",
      "id": "a8cb8dc8-c634-4e5c-bd40-120eb1f71df7",
      "metadata": {
        "tags": [],
        "id": "a8cb8dc8-c634-4e5c-bd40-120eb1f71df7"
      },
      "source": [
        "<b> Untuk kolom/feature yang memiliki missing value, karena nilai null > 5% data, maka akan dilakukan imputation berdasarkan sebaran/distribusi datanya. jika data skew ke kanan (mean>median), maka digunakan nilai median karena nilai median robust terhadap outlier. atau opsi lain, digunakan nilai IQR (Q3-Q1) yang juga robust terhadap outlier. "
      ]
    },
    {
      "cell_type": "markdown",
      "id": "367bdb84-f2f3-4020-ba0c-fae020eaf834",
      "metadata": {
        "id": "367bdb84-f2f3-4020-ba0c-fae020eaf834",
        "tags": []
      },
      "source": [
        "#### <b> Data Snippet"
      ]
    },
    {
      "cell_type": "code",
      "execution_count": null,
      "id": "761adfd0-2c69-4d25-8f25-8f6ab0d70264",
      "metadata": {
        "id": "761adfd0-2c69-4d25-8f25-8f6ab0d70264",
        "colab": {
          "base_uri": "https://localhost:8080/"
        },
        "outputId": "e379f7ad-11b4-4e02-a186-21023e91dcd4"
      },
      "outputs": [
        {
          "output_type": "execute_result",
          "data": {
            "text/plain": [
              "      CustomerID  Churn  Tenure PreferredLoginDevice  CityTier  \\\n",
              "2520       52521      0    12.0         Mobile Phone         1   \n",
              "3867       53868      0    24.0         Mobile Phone         1   \n",
              "1770       51771      0    23.0         Mobile Phone         1   \n",
              "1156       51157      1     0.0         Mobile Phone         3   \n",
              "623        50624      1     0.0             Computer         3   \n",
              "\n",
              "      WarehouseToHome PreferredPaymentMode  Gender  HourSpendOnApp  \\\n",
              "2520             18.0          Credit Card    Male             3.0   \n",
              "3867             24.0           Debit Card  Female             3.0   \n",
              "1770             35.0           Debit Card    Male             2.0   \n",
              "1156             33.0           Debit Card    Male             2.0   \n",
              "623              35.0          Credit Card    Male             3.0   \n",
              "\n",
              "      NumberOfDeviceRegistered    PreferedOrderCat  SatisfactionScore  \\\n",
              "2520                         3  Laptop & Accessory                  4   \n",
              "3867                         5             Fashion                  5   \n",
              "1770                         4             Grocery                  3   \n",
              "1156                         3  Laptop & Accessory                  1   \n",
              "623                          5  Laptop & Accessory                  5   \n",
              "\n",
              "     MaritalStatus  NumberOfAddress  Complain  OrderAmountHikeFromlastYear  \\\n",
              "2520       Married                5         0                         21.0   \n",
              "3867       Married                7         0                         16.0   \n",
              "1770       Married                1         0                         15.0   \n",
              "1156        Single                2         1                         18.0   \n",
              "623         Single                9         0                         18.0   \n",
              "\n",
              "      CouponUsed  OrderCount  DaySinceLastOrder  CashbackAmount  \n",
              "2520         1.0         1.0                0.0          152.95  \n",
              "3867         2.0         NaN               12.0          257.69  \n",
              "1770         NaN        15.0                7.0          270.46  \n",
              "1156         0.0         7.0                7.0          158.13  \n",
              "623          0.0         2.0                2.0          149.69  "
            ],
            "text/html": [
              "\n",
              "  <div id=\"df-195dbd0e-b332-4cb4-b88b-e5bf3a4e8c93\">\n",
              "    <div class=\"colab-df-container\">\n",
              "      <div>\n",
              "<style scoped>\n",
              "    .dataframe tbody tr th:only-of-type {\n",
              "        vertical-align: middle;\n",
              "    }\n",
              "\n",
              "    .dataframe tbody tr th {\n",
              "        vertical-align: top;\n",
              "    }\n",
              "\n",
              "    .dataframe thead th {\n",
              "        text-align: right;\n",
              "    }\n",
              "</style>\n",
              "<table border=\"1\" class=\"dataframe\">\n",
              "  <thead>\n",
              "    <tr style=\"text-align: right;\">\n",
              "      <th></th>\n",
              "      <th>CustomerID</th>\n",
              "      <th>Churn</th>\n",
              "      <th>Tenure</th>\n",
              "      <th>PreferredLoginDevice</th>\n",
              "      <th>CityTier</th>\n",
              "      <th>WarehouseToHome</th>\n",
              "      <th>PreferredPaymentMode</th>\n",
              "      <th>Gender</th>\n",
              "      <th>HourSpendOnApp</th>\n",
              "      <th>NumberOfDeviceRegistered</th>\n",
              "      <th>PreferedOrderCat</th>\n",
              "      <th>SatisfactionScore</th>\n",
              "      <th>MaritalStatus</th>\n",
              "      <th>NumberOfAddress</th>\n",
              "      <th>Complain</th>\n",
              "      <th>OrderAmountHikeFromlastYear</th>\n",
              "      <th>CouponUsed</th>\n",
              "      <th>OrderCount</th>\n",
              "      <th>DaySinceLastOrder</th>\n",
              "      <th>CashbackAmount</th>\n",
              "    </tr>\n",
              "  </thead>\n",
              "  <tbody>\n",
              "    <tr>\n",
              "      <th>2520</th>\n",
              "      <td>52521</td>\n",
              "      <td>0</td>\n",
              "      <td>12.0</td>\n",
              "      <td>Mobile Phone</td>\n",
              "      <td>1</td>\n",
              "      <td>18.0</td>\n",
              "      <td>Credit Card</td>\n",
              "      <td>Male</td>\n",
              "      <td>3.0</td>\n",
              "      <td>3</td>\n",
              "      <td>Laptop &amp; Accessory</td>\n",
              "      <td>4</td>\n",
              "      <td>Married</td>\n",
              "      <td>5</td>\n",
              "      <td>0</td>\n",
              "      <td>21.0</td>\n",
              "      <td>1.0</td>\n",
              "      <td>1.0</td>\n",
              "      <td>0.0</td>\n",
              "      <td>152.95</td>\n",
              "    </tr>\n",
              "    <tr>\n",
              "      <th>3867</th>\n",
              "      <td>53868</td>\n",
              "      <td>0</td>\n",
              "      <td>24.0</td>\n",
              "      <td>Mobile Phone</td>\n",
              "      <td>1</td>\n",
              "      <td>24.0</td>\n",
              "      <td>Debit Card</td>\n",
              "      <td>Female</td>\n",
              "      <td>3.0</td>\n",
              "      <td>5</td>\n",
              "      <td>Fashion</td>\n",
              "      <td>5</td>\n",
              "      <td>Married</td>\n",
              "      <td>7</td>\n",
              "      <td>0</td>\n",
              "      <td>16.0</td>\n",
              "      <td>2.0</td>\n",
              "      <td>NaN</td>\n",
              "      <td>12.0</td>\n",
              "      <td>257.69</td>\n",
              "    </tr>\n",
              "    <tr>\n",
              "      <th>1770</th>\n",
              "      <td>51771</td>\n",
              "      <td>0</td>\n",
              "      <td>23.0</td>\n",
              "      <td>Mobile Phone</td>\n",
              "      <td>1</td>\n",
              "      <td>35.0</td>\n",
              "      <td>Debit Card</td>\n",
              "      <td>Male</td>\n",
              "      <td>2.0</td>\n",
              "      <td>4</td>\n",
              "      <td>Grocery</td>\n",
              "      <td>3</td>\n",
              "      <td>Married</td>\n",
              "      <td>1</td>\n",
              "      <td>0</td>\n",
              "      <td>15.0</td>\n",
              "      <td>NaN</td>\n",
              "      <td>15.0</td>\n",
              "      <td>7.0</td>\n",
              "      <td>270.46</td>\n",
              "    </tr>\n",
              "    <tr>\n",
              "      <th>1156</th>\n",
              "      <td>51157</td>\n",
              "      <td>1</td>\n",
              "      <td>0.0</td>\n",
              "      <td>Mobile Phone</td>\n",
              "      <td>3</td>\n",
              "      <td>33.0</td>\n",
              "      <td>Debit Card</td>\n",
              "      <td>Male</td>\n",
              "      <td>2.0</td>\n",
              "      <td>3</td>\n",
              "      <td>Laptop &amp; Accessory</td>\n",
              "      <td>1</td>\n",
              "      <td>Single</td>\n",
              "      <td>2</td>\n",
              "      <td>1</td>\n",
              "      <td>18.0</td>\n",
              "      <td>0.0</td>\n",
              "      <td>7.0</td>\n",
              "      <td>7.0</td>\n",
              "      <td>158.13</td>\n",
              "    </tr>\n",
              "    <tr>\n",
              "      <th>623</th>\n",
              "      <td>50624</td>\n",
              "      <td>1</td>\n",
              "      <td>0.0</td>\n",
              "      <td>Computer</td>\n",
              "      <td>3</td>\n",
              "      <td>35.0</td>\n",
              "      <td>Credit Card</td>\n",
              "      <td>Male</td>\n",
              "      <td>3.0</td>\n",
              "      <td>5</td>\n",
              "      <td>Laptop &amp; Accessory</td>\n",
              "      <td>5</td>\n",
              "      <td>Single</td>\n",
              "      <td>9</td>\n",
              "      <td>0</td>\n",
              "      <td>18.0</td>\n",
              "      <td>0.0</td>\n",
              "      <td>2.0</td>\n",
              "      <td>2.0</td>\n",
              "      <td>149.69</td>\n",
              "    </tr>\n",
              "  </tbody>\n",
              "</table>\n",
              "</div>\n",
              "      <button class=\"colab-df-convert\" onclick=\"convertToInteractive('df-195dbd0e-b332-4cb4-b88b-e5bf3a4e8c93')\"\n",
              "              title=\"Convert this dataframe to an interactive table.\"\n",
              "              style=\"display:none;\">\n",
              "        \n",
              "  <svg xmlns=\"http://www.w3.org/2000/svg\" height=\"24px\"viewBox=\"0 0 24 24\"\n",
              "       width=\"24px\">\n",
              "    <path d=\"M0 0h24v24H0V0z\" fill=\"none\"/>\n",
              "    <path d=\"M18.56 5.44l.94 2.06.94-2.06 2.06-.94-2.06-.94-.94-2.06-.94 2.06-2.06.94zm-11 1L8.5 8.5l.94-2.06 2.06-.94-2.06-.94L8.5 2.5l-.94 2.06-2.06.94zm10 10l.94 2.06.94-2.06 2.06-.94-2.06-.94-.94-2.06-.94 2.06-2.06.94z\"/><path d=\"M17.41 7.96l-1.37-1.37c-.4-.4-.92-.59-1.43-.59-.52 0-1.04.2-1.43.59L10.3 9.45l-7.72 7.72c-.78.78-.78 2.05 0 2.83L4 21.41c.39.39.9.59 1.41.59.51 0 1.02-.2 1.41-.59l7.78-7.78 2.81-2.81c.8-.78.8-2.07 0-2.86zM5.41 20L4 18.59l7.72-7.72 1.47 1.35L5.41 20z\"/>\n",
              "  </svg>\n",
              "      </button>\n",
              "      \n",
              "  <style>\n",
              "    .colab-df-container {\n",
              "      display:flex;\n",
              "      flex-wrap:wrap;\n",
              "      gap: 12px;\n",
              "    }\n",
              "\n",
              "    .colab-df-convert {\n",
              "      background-color: #E8F0FE;\n",
              "      border: none;\n",
              "      border-radius: 50%;\n",
              "      cursor: pointer;\n",
              "      display: none;\n",
              "      fill: #1967D2;\n",
              "      height: 32px;\n",
              "      padding: 0 0 0 0;\n",
              "      width: 32px;\n",
              "    }\n",
              "\n",
              "    .colab-df-convert:hover {\n",
              "      background-color: #E2EBFA;\n",
              "      box-shadow: 0px 1px 2px rgba(60, 64, 67, 0.3), 0px 1px 3px 1px rgba(60, 64, 67, 0.15);\n",
              "      fill: #174EA6;\n",
              "    }\n",
              "\n",
              "    [theme=dark] .colab-df-convert {\n",
              "      background-color: #3B4455;\n",
              "      fill: #D2E3FC;\n",
              "    }\n",
              "\n",
              "    [theme=dark] .colab-df-convert:hover {\n",
              "      background-color: #434B5C;\n",
              "      box-shadow: 0px 1px 3px 1px rgba(0, 0, 0, 0.15);\n",
              "      filter: drop-shadow(0px 1px 2px rgba(0, 0, 0, 0.3));\n",
              "      fill: #FFFFFF;\n",
              "    }\n",
              "  </style>\n",
              "\n",
              "      <script>\n",
              "        const buttonEl =\n",
              "          document.querySelector('#df-195dbd0e-b332-4cb4-b88b-e5bf3a4e8c93 button.colab-df-convert');\n",
              "        buttonEl.style.display =\n",
              "          google.colab.kernel.accessAllowed ? 'block' : 'none';\n",
              "\n",
              "        async function convertToInteractive(key) {\n",
              "          const element = document.querySelector('#df-195dbd0e-b332-4cb4-b88b-e5bf3a4e8c93');\n",
              "          const dataTable =\n",
              "            await google.colab.kernel.invokeFunction('convertToInteractive',\n",
              "                                                     [key], {});\n",
              "          if (!dataTable) return;\n",
              "\n",
              "          const docLinkHtml = 'Like what you see? Visit the ' +\n",
              "            '<a target=\"_blank\" href=https://colab.research.google.com/notebooks/data_table.ipynb>data table notebook</a>'\n",
              "            + ' to learn more about interactive tables.';\n",
              "          element.innerHTML = '';\n",
              "          dataTable['output_type'] = 'display_data';\n",
              "          await google.colab.output.renderOutput(dataTable, element);\n",
              "          const docLink = document.createElement('div');\n",
              "          docLink.innerHTML = docLinkHtml;\n",
              "          element.appendChild(docLink);\n",
              "        }\n",
              "      </script>\n",
              "    </div>\n",
              "  </div>\n",
              "  "
            ]
          },
          "metadata": {},
          "execution_count": 32
        }
      ],
      "source": [
        "df_stg1.sample(5)"
      ]
    },
    {
      "cell_type": "markdown",
      "id": "1w589aYn7fKF",
      "metadata": {
        "id": "1w589aYn7fKF",
        "tags": []
      },
      "source": [
        "### STATISTICAL SUMMARY"
      ]
    },
    {
      "cell_type": "markdown",
      "id": "57465064-4829-4e8d-9dde-fb481d7cb817",
      "metadata": {
        "id": "57465064-4829-4e8d-9dde-fb481d7cb817"
      },
      "source": [
        "#### <b> Grouping by Data Variable Type (Pick + Separate Columns)"
      ]
    },
    {
      "cell_type": "code",
      "execution_count": null,
      "id": "d08f682e-7602-436a-97ef-5e29296ebb34",
      "metadata": {
        "id": "d08f682e-7602-436a-97ef-5e29296ebb34"
      },
      "outputs": [],
      "source": [
        "# pengelompokan kolom berdasarkan jenisnya\n",
        "nums = ['Tenure','CityTier', 'WarehouseToHome', 'HourSpendOnApp', 'NumberOfDeviceRegistered','SatisfactionScore', 'DaySinceLastOrder','NumberOfAddress', 'OrderAmountHikeFromlastYear', 'CouponUsed', 'OrderCount', 'CashbackAmount']\n",
        "cats = ['PreferredLoginDevice', 'PreferredPaymentMode', 'Gender', 'PreferedOrderCat', 'MaritalStatus']"
      ]
    },
    {
      "cell_type": "markdown",
      "id": "c841a25e-da86-432c-9741-facfccc87c88",
      "metadata": {
        "id": "c841a25e-da86-432c-9741-facfccc87c88"
      },
      "source": [
        "<b> A. DATA NUMERICAL"
      ]
    },
    {
      "cell_type": "code",
      "execution_count": null,
      "id": "dfcac332-0e46-482e-ab89-61124a5a92e9",
      "metadata": {
        "id": "dfcac332-0e46-482e-ab89-61124a5a92e9",
        "colab": {
          "base_uri": "https://localhost:8080/",
          "height": 426
        },
        "outputId": "26b144c2-d288-46ed-ebca-542d3627872f"
      },
      "outputs": [
        {
          "output_type": "execute_result",
          "data": {
            "text/plain": [
              "                              count        mean        std   min     25%  \\\n",
              "Tenure                       5366.0   10.189899   8.557241   0.0    2.00   \n",
              "CityTier                     5630.0    1.654707   0.915389   1.0    1.00   \n",
              "WarehouseToHome              5379.0   15.639896   8.531475   5.0    9.00   \n",
              "HourSpendOnApp               5375.0    2.931535   0.721926   0.0    2.00   \n",
              "NumberOfDeviceRegistered     5630.0    3.688988   1.023999   1.0    3.00   \n",
              "SatisfactionScore            5630.0    3.066785   1.380194   1.0    2.00   \n",
              "DaySinceLastOrder            5323.0    4.543491   3.654433   0.0    2.00   \n",
              "NumberOfAddress              5630.0    4.214032   2.583586   1.0    2.00   \n",
              "OrderAmountHikeFromlastYear  5365.0   15.707922   3.675485  11.0   13.00   \n",
              "CouponUsed                   5374.0    1.751023   1.894621   0.0    1.00   \n",
              "OrderCount                   5372.0    3.008004   2.939680   1.0    1.00   \n",
              "CashbackAmount               5630.0  177.223030  49.207036   0.0  145.77   \n",
              "\n",
              "                                50%       75%     max  \n",
              "Tenure                         9.00   16.0000   61.00  \n",
              "CityTier                       1.00    3.0000    3.00  \n",
              "WarehouseToHome               14.00   20.0000  127.00  \n",
              "HourSpendOnApp                 3.00    3.0000    5.00  \n",
              "NumberOfDeviceRegistered       4.00    4.0000    6.00  \n",
              "SatisfactionScore              3.00    4.0000    5.00  \n",
              "DaySinceLastOrder              3.00    7.0000   46.00  \n",
              "NumberOfAddress                3.00    6.0000   22.00  \n",
              "OrderAmountHikeFromlastYear   15.00   18.0000   26.00  \n",
              "CouponUsed                     1.00    2.0000   16.00  \n",
              "OrderCount                     2.00    3.0000   16.00  \n",
              "CashbackAmount               163.28  196.3925  324.99  "
            ],
            "text/html": [
              "\n",
              "  <div id=\"df-81388fb6-17f0-4eb1-b259-bab7748a5be0\">\n",
              "    <div class=\"colab-df-container\">\n",
              "      <div>\n",
              "<style scoped>\n",
              "    .dataframe tbody tr th:only-of-type {\n",
              "        vertical-align: middle;\n",
              "    }\n",
              "\n",
              "    .dataframe tbody tr th {\n",
              "        vertical-align: top;\n",
              "    }\n",
              "\n",
              "    .dataframe thead th {\n",
              "        text-align: right;\n",
              "    }\n",
              "</style>\n",
              "<table border=\"1\" class=\"dataframe\">\n",
              "  <thead>\n",
              "    <tr style=\"text-align: right;\">\n",
              "      <th></th>\n",
              "      <th>count</th>\n",
              "      <th>mean</th>\n",
              "      <th>std</th>\n",
              "      <th>min</th>\n",
              "      <th>25%</th>\n",
              "      <th>50%</th>\n",
              "      <th>75%</th>\n",
              "      <th>max</th>\n",
              "    </tr>\n",
              "  </thead>\n",
              "  <tbody>\n",
              "    <tr>\n",
              "      <th>Tenure</th>\n",
              "      <td>5366.0</td>\n",
              "      <td>10.189899</td>\n",
              "      <td>8.557241</td>\n",
              "      <td>0.0</td>\n",
              "      <td>2.00</td>\n",
              "      <td>9.00</td>\n",
              "      <td>16.0000</td>\n",
              "      <td>61.00</td>\n",
              "    </tr>\n",
              "    <tr>\n",
              "      <th>CityTier</th>\n",
              "      <td>5630.0</td>\n",
              "      <td>1.654707</td>\n",
              "      <td>0.915389</td>\n",
              "      <td>1.0</td>\n",
              "      <td>1.00</td>\n",
              "      <td>1.00</td>\n",
              "      <td>3.0000</td>\n",
              "      <td>3.00</td>\n",
              "    </tr>\n",
              "    <tr>\n",
              "      <th>WarehouseToHome</th>\n",
              "      <td>5379.0</td>\n",
              "      <td>15.639896</td>\n",
              "      <td>8.531475</td>\n",
              "      <td>5.0</td>\n",
              "      <td>9.00</td>\n",
              "      <td>14.00</td>\n",
              "      <td>20.0000</td>\n",
              "      <td>127.00</td>\n",
              "    </tr>\n",
              "    <tr>\n",
              "      <th>HourSpendOnApp</th>\n",
              "      <td>5375.0</td>\n",
              "      <td>2.931535</td>\n",
              "      <td>0.721926</td>\n",
              "      <td>0.0</td>\n",
              "      <td>2.00</td>\n",
              "      <td>3.00</td>\n",
              "      <td>3.0000</td>\n",
              "      <td>5.00</td>\n",
              "    </tr>\n",
              "    <tr>\n",
              "      <th>NumberOfDeviceRegistered</th>\n",
              "      <td>5630.0</td>\n",
              "      <td>3.688988</td>\n",
              "      <td>1.023999</td>\n",
              "      <td>1.0</td>\n",
              "      <td>3.00</td>\n",
              "      <td>4.00</td>\n",
              "      <td>4.0000</td>\n",
              "      <td>6.00</td>\n",
              "    </tr>\n",
              "    <tr>\n",
              "      <th>SatisfactionScore</th>\n",
              "      <td>5630.0</td>\n",
              "      <td>3.066785</td>\n",
              "      <td>1.380194</td>\n",
              "      <td>1.0</td>\n",
              "      <td>2.00</td>\n",
              "      <td>3.00</td>\n",
              "      <td>4.0000</td>\n",
              "      <td>5.00</td>\n",
              "    </tr>\n",
              "    <tr>\n",
              "      <th>DaySinceLastOrder</th>\n",
              "      <td>5323.0</td>\n",
              "      <td>4.543491</td>\n",
              "      <td>3.654433</td>\n",
              "      <td>0.0</td>\n",
              "      <td>2.00</td>\n",
              "      <td>3.00</td>\n",
              "      <td>7.0000</td>\n",
              "      <td>46.00</td>\n",
              "    </tr>\n",
              "    <tr>\n",
              "      <th>NumberOfAddress</th>\n",
              "      <td>5630.0</td>\n",
              "      <td>4.214032</td>\n",
              "      <td>2.583586</td>\n",
              "      <td>1.0</td>\n",
              "      <td>2.00</td>\n",
              "      <td>3.00</td>\n",
              "      <td>6.0000</td>\n",
              "      <td>22.00</td>\n",
              "    </tr>\n",
              "    <tr>\n",
              "      <th>OrderAmountHikeFromlastYear</th>\n",
              "      <td>5365.0</td>\n",
              "      <td>15.707922</td>\n",
              "      <td>3.675485</td>\n",
              "      <td>11.0</td>\n",
              "      <td>13.00</td>\n",
              "      <td>15.00</td>\n",
              "      <td>18.0000</td>\n",
              "      <td>26.00</td>\n",
              "    </tr>\n",
              "    <tr>\n",
              "      <th>CouponUsed</th>\n",
              "      <td>5374.0</td>\n",
              "      <td>1.751023</td>\n",
              "      <td>1.894621</td>\n",
              "      <td>0.0</td>\n",
              "      <td>1.00</td>\n",
              "      <td>1.00</td>\n",
              "      <td>2.0000</td>\n",
              "      <td>16.00</td>\n",
              "    </tr>\n",
              "    <tr>\n",
              "      <th>OrderCount</th>\n",
              "      <td>5372.0</td>\n",
              "      <td>3.008004</td>\n",
              "      <td>2.939680</td>\n",
              "      <td>1.0</td>\n",
              "      <td>1.00</td>\n",
              "      <td>2.00</td>\n",
              "      <td>3.0000</td>\n",
              "      <td>16.00</td>\n",
              "    </tr>\n",
              "    <tr>\n",
              "      <th>CashbackAmount</th>\n",
              "      <td>5630.0</td>\n",
              "      <td>177.223030</td>\n",
              "      <td>49.207036</td>\n",
              "      <td>0.0</td>\n",
              "      <td>145.77</td>\n",
              "      <td>163.28</td>\n",
              "      <td>196.3925</td>\n",
              "      <td>324.99</td>\n",
              "    </tr>\n",
              "  </tbody>\n",
              "</table>\n",
              "</div>\n",
              "      <button class=\"colab-df-convert\" onclick=\"convertToInteractive('df-81388fb6-17f0-4eb1-b259-bab7748a5be0')\"\n",
              "              title=\"Convert this dataframe to an interactive table.\"\n",
              "              style=\"display:none;\">\n",
              "        \n",
              "  <svg xmlns=\"http://www.w3.org/2000/svg\" height=\"24px\"viewBox=\"0 0 24 24\"\n",
              "       width=\"24px\">\n",
              "    <path d=\"M0 0h24v24H0V0z\" fill=\"none\"/>\n",
              "    <path d=\"M18.56 5.44l.94 2.06.94-2.06 2.06-.94-2.06-.94-.94-2.06-.94 2.06-2.06.94zm-11 1L8.5 8.5l.94-2.06 2.06-.94-2.06-.94L8.5 2.5l-.94 2.06-2.06.94zm10 10l.94 2.06.94-2.06 2.06-.94-2.06-.94-.94-2.06-.94 2.06-2.06.94z\"/><path d=\"M17.41 7.96l-1.37-1.37c-.4-.4-.92-.59-1.43-.59-.52 0-1.04.2-1.43.59L10.3 9.45l-7.72 7.72c-.78.78-.78 2.05 0 2.83L4 21.41c.39.39.9.59 1.41.59.51 0 1.02-.2 1.41-.59l7.78-7.78 2.81-2.81c.8-.78.8-2.07 0-2.86zM5.41 20L4 18.59l7.72-7.72 1.47 1.35L5.41 20z\"/>\n",
              "  </svg>\n",
              "      </button>\n",
              "      \n",
              "  <style>\n",
              "    .colab-df-container {\n",
              "      display:flex;\n",
              "      flex-wrap:wrap;\n",
              "      gap: 12px;\n",
              "    }\n",
              "\n",
              "    .colab-df-convert {\n",
              "      background-color: #E8F0FE;\n",
              "      border: none;\n",
              "      border-radius: 50%;\n",
              "      cursor: pointer;\n",
              "      display: none;\n",
              "      fill: #1967D2;\n",
              "      height: 32px;\n",
              "      padding: 0 0 0 0;\n",
              "      width: 32px;\n",
              "    }\n",
              "\n",
              "    .colab-df-convert:hover {\n",
              "      background-color: #E2EBFA;\n",
              "      box-shadow: 0px 1px 2px rgba(60, 64, 67, 0.3), 0px 1px 3px 1px rgba(60, 64, 67, 0.15);\n",
              "      fill: #174EA6;\n",
              "    }\n",
              "\n",
              "    [theme=dark] .colab-df-convert {\n",
              "      background-color: #3B4455;\n",
              "      fill: #D2E3FC;\n",
              "    }\n",
              "\n",
              "    [theme=dark] .colab-df-convert:hover {\n",
              "      background-color: #434B5C;\n",
              "      box-shadow: 0px 1px 3px 1px rgba(0, 0, 0, 0.15);\n",
              "      filter: drop-shadow(0px 1px 2px rgba(0, 0, 0, 0.3));\n",
              "      fill: #FFFFFF;\n",
              "    }\n",
              "  </style>\n",
              "\n",
              "      <script>\n",
              "        const buttonEl =\n",
              "          document.querySelector('#df-81388fb6-17f0-4eb1-b259-bab7748a5be0 button.colab-df-convert');\n",
              "        buttonEl.style.display =\n",
              "          google.colab.kernel.accessAllowed ? 'block' : 'none';\n",
              "\n",
              "        async function convertToInteractive(key) {\n",
              "          const element = document.querySelector('#df-81388fb6-17f0-4eb1-b259-bab7748a5be0');\n",
              "          const dataTable =\n",
              "            await google.colab.kernel.invokeFunction('convertToInteractive',\n",
              "                                                     [key], {});\n",
              "          if (!dataTable) return;\n",
              "\n",
              "          const docLinkHtml = 'Like what you see? Visit the ' +\n",
              "            '<a target=\"_blank\" href=https://colab.research.google.com/notebooks/data_table.ipynb>data table notebook</a>'\n",
              "            + ' to learn more about interactive tables.';\n",
              "          element.innerHTML = '';\n",
              "          dataTable['output_type'] = 'display_data';\n",
              "          await google.colab.output.renderOutput(dataTable, element);\n",
              "          const docLink = document.createElement('div');\n",
              "          docLink.innerHTML = docLinkHtml;\n",
              "          element.appendChild(docLink);\n",
              "        }\n",
              "      </script>\n",
              "    </div>\n",
              "  </div>\n",
              "  "
            ]
          },
          "metadata": {},
          "execution_count": 21
        }
      ],
      "source": [
        "df_stg1[nums].describe().transpose()"
      ]
    },
    {
      "cell_type": "markdown",
      "id": "8e1c6c7e-beca-4ec7-a8b4-166f71028911",
      "metadata": {
        "id": "8e1c6c7e-beca-4ec7-a8b4-166f71028911"
      },
      "source": [
        "Beberapa kolom/feature sudah cukup simetrik distribusinya (mean dan median tidak terlalu jauh), namun ada beberapa kolom yang  skew, dilihat dari nilai mean dan median ---->        \"mean>median\" = skew ke kanan (akan kita lihat visualisasi nya di bawah) yaitu kolom `Tenure`, `WareHouseToHome`, `OrderCount`,`DaySinceLastOrder`,`CashbackAmount`, `NumberOfAddress`, `OrderAmountHikeFromlastYear`  dst ."
      ]
    },
    {
      "cell_type": "markdown",
      "id": "225ec042-751e-4d35-ba34-7584022f97c1",
      "metadata": {
        "id": "225ec042-751e-4d35-ba34-7584022f97c1"
      },
      "source": [
        "<b> B. DATA CATEGORICAL"
      ]
    },
    {
      "cell_type": "code",
      "execution_count": null,
      "id": "0086584c-f47c-471c-baa4-9e2b6706965d",
      "metadata": {
        "id": "0086584c-f47c-471c-baa4-9e2b6706965d",
        "colab": {
          "base_uri": "https://localhost:8080/",
          "height": 206
        },
        "outputId": "5d6d2a26-2bb6-4c2e-fa8a-ff5a2aae8ec1"
      },
      "outputs": [
        {
          "output_type": "execute_result",
          "data": {
            "text/plain": [
              "                     count unique                 top  freq\n",
              "PreferredLoginDevice  5630      3        Mobile Phone  2765\n",
              "PreferredPaymentMode  5630      7          Debit Card  2314\n",
              "Gender                5630      2                Male  3384\n",
              "PreferedOrderCat      5630      6  Laptop & Accessory  2050\n",
              "MaritalStatus         5630      3             Married  2986"
            ],
            "text/html": [
              "\n",
              "  <div id=\"df-4e813ee3-0db0-421f-860f-a65a194f3b8a\">\n",
              "    <div class=\"colab-df-container\">\n",
              "      <div>\n",
              "<style scoped>\n",
              "    .dataframe tbody tr th:only-of-type {\n",
              "        vertical-align: middle;\n",
              "    }\n",
              "\n",
              "    .dataframe tbody tr th {\n",
              "        vertical-align: top;\n",
              "    }\n",
              "\n",
              "    .dataframe thead th {\n",
              "        text-align: right;\n",
              "    }\n",
              "</style>\n",
              "<table border=\"1\" class=\"dataframe\">\n",
              "  <thead>\n",
              "    <tr style=\"text-align: right;\">\n",
              "      <th></th>\n",
              "      <th>count</th>\n",
              "      <th>unique</th>\n",
              "      <th>top</th>\n",
              "      <th>freq</th>\n",
              "    </tr>\n",
              "  </thead>\n",
              "  <tbody>\n",
              "    <tr>\n",
              "      <th>PreferredLoginDevice</th>\n",
              "      <td>5630</td>\n",
              "      <td>3</td>\n",
              "      <td>Mobile Phone</td>\n",
              "      <td>2765</td>\n",
              "    </tr>\n",
              "    <tr>\n",
              "      <th>PreferredPaymentMode</th>\n",
              "      <td>5630</td>\n",
              "      <td>7</td>\n",
              "      <td>Debit Card</td>\n",
              "      <td>2314</td>\n",
              "    </tr>\n",
              "    <tr>\n",
              "      <th>Gender</th>\n",
              "      <td>5630</td>\n",
              "      <td>2</td>\n",
              "      <td>Male</td>\n",
              "      <td>3384</td>\n",
              "    </tr>\n",
              "    <tr>\n",
              "      <th>PreferedOrderCat</th>\n",
              "      <td>5630</td>\n",
              "      <td>6</td>\n",
              "      <td>Laptop &amp; Accessory</td>\n",
              "      <td>2050</td>\n",
              "    </tr>\n",
              "    <tr>\n",
              "      <th>MaritalStatus</th>\n",
              "      <td>5630</td>\n",
              "      <td>3</td>\n",
              "      <td>Married</td>\n",
              "      <td>2986</td>\n",
              "    </tr>\n",
              "  </tbody>\n",
              "</table>\n",
              "</div>\n",
              "      <button class=\"colab-df-convert\" onclick=\"convertToInteractive('df-4e813ee3-0db0-421f-860f-a65a194f3b8a')\"\n",
              "              title=\"Convert this dataframe to an interactive table.\"\n",
              "              style=\"display:none;\">\n",
              "        \n",
              "  <svg xmlns=\"http://www.w3.org/2000/svg\" height=\"24px\"viewBox=\"0 0 24 24\"\n",
              "       width=\"24px\">\n",
              "    <path d=\"M0 0h24v24H0V0z\" fill=\"none\"/>\n",
              "    <path d=\"M18.56 5.44l.94 2.06.94-2.06 2.06-.94-2.06-.94-.94-2.06-.94 2.06-2.06.94zm-11 1L8.5 8.5l.94-2.06 2.06-.94-2.06-.94L8.5 2.5l-.94 2.06-2.06.94zm10 10l.94 2.06.94-2.06 2.06-.94-2.06-.94-.94-2.06-.94 2.06-2.06.94z\"/><path d=\"M17.41 7.96l-1.37-1.37c-.4-.4-.92-.59-1.43-.59-.52 0-1.04.2-1.43.59L10.3 9.45l-7.72 7.72c-.78.78-.78 2.05 0 2.83L4 21.41c.39.39.9.59 1.41.59.51 0 1.02-.2 1.41-.59l7.78-7.78 2.81-2.81c.8-.78.8-2.07 0-2.86zM5.41 20L4 18.59l7.72-7.72 1.47 1.35L5.41 20z\"/>\n",
              "  </svg>\n",
              "      </button>\n",
              "      \n",
              "  <style>\n",
              "    .colab-df-container {\n",
              "      display:flex;\n",
              "      flex-wrap:wrap;\n",
              "      gap: 12px;\n",
              "    }\n",
              "\n",
              "    .colab-df-convert {\n",
              "      background-color: #E8F0FE;\n",
              "      border: none;\n",
              "      border-radius: 50%;\n",
              "      cursor: pointer;\n",
              "      display: none;\n",
              "      fill: #1967D2;\n",
              "      height: 32px;\n",
              "      padding: 0 0 0 0;\n",
              "      width: 32px;\n",
              "    }\n",
              "\n",
              "    .colab-df-convert:hover {\n",
              "      background-color: #E2EBFA;\n",
              "      box-shadow: 0px 1px 2px rgba(60, 64, 67, 0.3), 0px 1px 3px 1px rgba(60, 64, 67, 0.15);\n",
              "      fill: #174EA6;\n",
              "    }\n",
              "\n",
              "    [theme=dark] .colab-df-convert {\n",
              "      background-color: #3B4455;\n",
              "      fill: #D2E3FC;\n",
              "    }\n",
              "\n",
              "    [theme=dark] .colab-df-convert:hover {\n",
              "      background-color: #434B5C;\n",
              "      box-shadow: 0px 1px 3px 1px rgba(0, 0, 0, 0.15);\n",
              "      filter: drop-shadow(0px 1px 2px rgba(0, 0, 0, 0.3));\n",
              "      fill: #FFFFFF;\n",
              "    }\n",
              "  </style>\n",
              "\n",
              "      <script>\n",
              "        const buttonEl =\n",
              "          document.querySelector('#df-4e813ee3-0db0-421f-860f-a65a194f3b8a button.colab-df-convert');\n",
              "        buttonEl.style.display =\n",
              "          google.colab.kernel.accessAllowed ? 'block' : 'none';\n",
              "\n",
              "        async function convertToInteractive(key) {\n",
              "          const element = document.querySelector('#df-4e813ee3-0db0-421f-860f-a65a194f3b8a');\n",
              "          const dataTable =\n",
              "            await google.colab.kernel.invokeFunction('convertToInteractive',\n",
              "                                                     [key], {});\n",
              "          if (!dataTable) return;\n",
              "\n",
              "          const docLinkHtml = 'Like what you see? Visit the ' +\n",
              "            '<a target=\"_blank\" href=https://colab.research.google.com/notebooks/data_table.ipynb>data table notebook</a>'\n",
              "            + ' to learn more about interactive tables.';\n",
              "          element.innerHTML = '';\n",
              "          dataTable['output_type'] = 'display_data';\n",
              "          await google.colab.output.renderOutput(dataTable, element);\n",
              "          const docLink = document.createElement('div');\n",
              "          docLink.innerHTML = docLinkHtml;\n",
              "          element.appendChild(docLink);\n",
              "        }\n",
              "      </script>\n",
              "    </div>\n",
              "  </div>\n",
              "  "
            ]
          },
          "metadata": {},
          "execution_count": 22
        }
      ],
      "source": [
        "df_stg1[cats].describe().transpose()"
      ]
    },
    {
      "cell_type": "markdown",
      "id": "cf6f1c0a-4bd2-4726-9b22-f6864a64e9c9",
      "metadata": {
        "id": "cf6f1c0a-4bd2-4726-9b22-f6864a64e9c9"
      },
      "source": [
        "<b> Untuk Tipe data categorical, sekilas tidak ada yang aneh untuk descripstive statistic nya. akan tetapi jika divisualisasikan (di Univariate analysis), akan terdapat beberapa kateogori yang sebenarnya 1 pengertian, tapi justru dibuat 2 definisi. contoh : CC dan credit card pada fitur metode pembayaran (spoiler)."
      ]
    },
    {
      "cell_type": "code",
      "execution_count": null,
      "id": "OjmNaD7r50sE",
      "metadata": {
        "id": "OjmNaD7r50sE",
        "colab": {
          "base_uri": "https://localhost:8080/"
        },
        "outputId": "b5868772-9fb5-45f1-f2e0-37dbb5b994df"
      },
      "outputs": [
        {
          "output_type": "stream",
          "name": "stdout",
          "text": [
            "<class 'pandas.core.frame.DataFrame'>\n",
            "Int64Index: 4081 entries, 0 to 5629\n",
            "Data columns (total 12 columns):\n",
            " #   Column                       Non-Null Count  Dtype  \n",
            "---  ------                       --------------  -----  \n",
            " 0   Tenure                       4081 non-null   float64\n",
            " 1   CityTier                     4081 non-null   int64  \n",
            " 2   WarehouseToHome              4081 non-null   float64\n",
            " 3   HourSpendOnApp               4081 non-null   float64\n",
            " 4   NumberOfDeviceRegistered     4081 non-null   int64  \n",
            " 5   SatisfactionScore            4081 non-null   int64  \n",
            " 6   DaySinceLastOrder            3774 non-null   float64\n",
            " 7   NumberOfAddress              4081 non-null   int64  \n",
            " 8   OrderAmountHikeFromlastYear  4081 non-null   float64\n",
            " 9   CouponUsed                   4081 non-null   float64\n",
            " 10  OrderCount                   4081 non-null   float64\n",
            " 11  CashbackAmount               4081 non-null   float64\n",
            "dtypes: float64(8), int64(4)\n",
            "memory usage: 414.5 KB\n"
          ]
        }
      ],
      "source": [
        "df[nums].info()"
      ]
    },
    {
      "cell_type": "code",
      "execution_count": null,
      "id": "e27d0da1-71b0-43f7-ab56-acd7ad77defc",
      "metadata": {
        "id": "e27d0da1-71b0-43f7-ab56-acd7ad77defc",
        "colab": {
          "base_uri": "https://localhost:8080/"
        },
        "outputId": "e8fd9847-0f8e-4443-ebba-c07065e5ed07"
      },
      "outputs": [
        {
          "output_type": "stream",
          "name": "stdout",
          "text": [
            "<class 'pandas.core.frame.DataFrame'>\n",
            "Int64Index: 4081 entries, 0 to 5629\n",
            "Data columns (total 5 columns):\n",
            " #   Column                Non-Null Count  Dtype \n",
            "---  ------                --------------  ----- \n",
            " 0   PreferredLoginDevice  4081 non-null   object\n",
            " 1   PreferredPaymentMode  4081 non-null   object\n",
            " 2   Gender                4081 non-null   object\n",
            " 3   PreferedOrderCat      4081 non-null   object\n",
            " 4   MaritalStatus         4081 non-null   object\n",
            "dtypes: object(5)\n",
            "memory usage: 191.3+ KB\n"
          ]
        }
      ],
      "source": [
        "df[cats].info()"
      ]
    },
    {
      "cell_type": "markdown",
      "id": "d0bb1ea5-cedc-4538-838f-75ee9f58d8b9",
      "metadata": {
        "id": "d0bb1ea5-cedc-4538-838f-75ee9f58d8b9"
      },
      "source": [
        "#### <b> Value Counting"
      ]
    },
    {
      "cell_type": "code",
      "execution_count": null,
      "id": "ae3bda11-9c72-43ce-829a-e89c3dec3850",
      "metadata": {
        "id": "ae3bda11-9c72-43ce-829a-e89c3dec3850",
        "colab": {
          "base_uri": "https://localhost:8080/"
        },
        "outputId": "ac6ed128-4df5-4e5f-df5d-0f4a2bff3ebf"
      },
      "outputs": [
        {
          "output_type": "stream",
          "name": "stdout",
          "text": [
            "Value count column PreferredLoginDevice:\n",
            "Mobile Phone    2148\n",
            "Computer        1206\n",
            "Phone            727\n",
            "Name: PreferredLoginDevice, dtype: int64\n",
            "\n",
            "Value count column PreferredPaymentMode:\n",
            "Debit Card          1663\n",
            "Credit Card         1205\n",
            "E wallet             498\n",
            "COD                  301\n",
            "UPI                  300\n",
            "Cash on Delivery      79\n",
            "CC                    35\n",
            "Name: PreferredPaymentMode, dtype: int64\n",
            "\n",
            "Value count column Gender:\n",
            "Male      2456\n",
            "Female    1625\n",
            "Name: Gender, dtype: int64\n",
            "\n",
            "Value count column PreferedOrderCat:\n",
            "Laptop & Accessory    2014\n",
            "Mobile Phone          1227\n",
            "Fashion                678\n",
            "Mobile                 119\n",
            "Grocery                 25\n",
            "Others                  18\n",
            "Name: PreferedOrderCat, dtype: int64\n",
            "\n",
            "Value count column MaritalStatus:\n",
            "Married     2157\n",
            "Single      1332\n",
            "Divorced     592\n",
            "Name: MaritalStatus, dtype: int64\n",
            "\n"
          ]
        }
      ],
      "source": [
        "for col in cats:\n",
        "    print(f\"Value count column {col}:\")\n",
        "    print(df[col].value_counts())\n",
        "    print()"
      ]
    },
    {
      "cell_type": "markdown",
      "id": "3c1207bd-d4fe-467d-a15f-95ff6171358b",
      "metadata": {
        "id": "3c1207bd-d4fe-467d-a15f-95ff6171358b"
      },
      "source": []
    },
    {
      "cell_type": "markdown",
      "id": "42e23952-9ded-44c8-b7c6-6ffa3b149dac",
      "metadata": {
        "id": "42e23952-9ded-44c8-b7c6-6ffa3b149dac",
        "jp-MarkdownHeadingCollapsed": true,
        "tags": []
      },
      "source": [
        "## <b> 2. Univariate Analysis"
      ]
    },
    {
      "cell_type": "code",
      "execution_count": null,
      "id": "ef24c819-b3aa-47bb-a574-bb3b66a884b6",
      "metadata": {
        "id": "ef24c819-b3aa-47bb-a574-bb3b66a884b6"
      },
      "outputs": [],
      "source": [
        "df_stg1_1 = df_stg1.copy()"
      ]
    },
    {
      "cell_type": "code",
      "execution_count": null,
      "id": "56cb6039-a556-4b47-8368-3b7a41e83ab8",
      "metadata": {
        "id": "56cb6039-a556-4b47-8368-3b7a41e83ab8"
      },
      "outputs": [],
      "source": [
        "df_stg1_1.drop(['CustomerID'], axis=1, inplace=True) #apakah kolom perlu di hapus disini? karna akan dijadikan target saat proses pemodelan?"
      ]
    },
    {
      "cell_type": "code",
      "execution_count": null,
      "id": "bce09beb-d9f4-43d1-af75-7f82648f4b3e",
      "metadata": {
        "id": "bce09beb-d9f4-43d1-af75-7f82648f4b3e",
        "colab": {
          "base_uri": "https://localhost:8080/",
          "height": 305
        },
        "outputId": "02445392-466d-4c20-b428-a32bc74e30eb"
      },
      "outputs": [
        {
          "output_type": "execute_result",
          "data": {
            "text/plain": [
              "   Churn  Tenure PreferredLoginDevice  CityTier  WarehouseToHome  \\\n",
              "0      1     4.0         Mobile Phone         3              6.0   \n",
              "1      1     NaN                Phone         1              8.0   \n",
              "2      1     NaN                Phone         1             30.0   \n",
              "3      1     0.0                Phone         3             15.0   \n",
              "4      1     0.0                Phone         1             12.0   \n",
              "\n",
              "  PreferredPaymentMode  Gender  HourSpendOnApp  NumberOfDeviceRegistered  \\\n",
              "0           Debit Card  Female             3.0                         3   \n",
              "1                  UPI    Male             3.0                         4   \n",
              "2           Debit Card    Male             2.0                         4   \n",
              "3           Debit Card    Male             2.0                         4   \n",
              "4                   CC    Male             NaN                         3   \n",
              "\n",
              "     PreferedOrderCat  SatisfactionScore MaritalStatus  NumberOfAddress  \\\n",
              "0  Laptop & Accessory                  2        Single                9   \n",
              "1              Mobile                  3        Single                7   \n",
              "2              Mobile                  3        Single                6   \n",
              "3  Laptop & Accessory                  5        Single                8   \n",
              "4              Mobile                  5        Single                3   \n",
              "\n",
              "   Complain  OrderAmountHikeFromlastYear  CouponUsed  OrderCount  \\\n",
              "0         1                         11.0         1.0         1.0   \n",
              "1         1                         15.0         0.0         1.0   \n",
              "2         1                         14.0         0.0         1.0   \n",
              "3         0                         23.0         0.0         1.0   \n",
              "4         0                         11.0         1.0         1.0   \n",
              "\n",
              "   DaySinceLastOrder  CashbackAmount  \n",
              "0                5.0          159.93  \n",
              "1                0.0          120.90  \n",
              "2                3.0          120.28  \n",
              "3                3.0          134.07  \n",
              "4                3.0          129.60  "
            ],
            "text/html": [
              "\n",
              "  <div id=\"df-6ce2c1b0-a056-4d53-9b59-e1f268f42592\">\n",
              "    <div class=\"colab-df-container\">\n",
              "      <div>\n",
              "<style scoped>\n",
              "    .dataframe tbody tr th:only-of-type {\n",
              "        vertical-align: middle;\n",
              "    }\n",
              "\n",
              "    .dataframe tbody tr th {\n",
              "        vertical-align: top;\n",
              "    }\n",
              "\n",
              "    .dataframe thead th {\n",
              "        text-align: right;\n",
              "    }\n",
              "</style>\n",
              "<table border=\"1\" class=\"dataframe\">\n",
              "  <thead>\n",
              "    <tr style=\"text-align: right;\">\n",
              "      <th></th>\n",
              "      <th>Churn</th>\n",
              "      <th>Tenure</th>\n",
              "      <th>PreferredLoginDevice</th>\n",
              "      <th>CityTier</th>\n",
              "      <th>WarehouseToHome</th>\n",
              "      <th>PreferredPaymentMode</th>\n",
              "      <th>Gender</th>\n",
              "      <th>HourSpendOnApp</th>\n",
              "      <th>NumberOfDeviceRegistered</th>\n",
              "      <th>PreferedOrderCat</th>\n",
              "      <th>SatisfactionScore</th>\n",
              "      <th>MaritalStatus</th>\n",
              "      <th>NumberOfAddress</th>\n",
              "      <th>Complain</th>\n",
              "      <th>OrderAmountHikeFromlastYear</th>\n",
              "      <th>CouponUsed</th>\n",
              "      <th>OrderCount</th>\n",
              "      <th>DaySinceLastOrder</th>\n",
              "      <th>CashbackAmount</th>\n",
              "    </tr>\n",
              "  </thead>\n",
              "  <tbody>\n",
              "    <tr>\n",
              "      <th>0</th>\n",
              "      <td>1</td>\n",
              "      <td>4.0</td>\n",
              "      <td>Mobile Phone</td>\n",
              "      <td>3</td>\n",
              "      <td>6.0</td>\n",
              "      <td>Debit Card</td>\n",
              "      <td>Female</td>\n",
              "      <td>3.0</td>\n",
              "      <td>3</td>\n",
              "      <td>Laptop &amp; Accessory</td>\n",
              "      <td>2</td>\n",
              "      <td>Single</td>\n",
              "      <td>9</td>\n",
              "      <td>1</td>\n",
              "      <td>11.0</td>\n",
              "      <td>1.0</td>\n",
              "      <td>1.0</td>\n",
              "      <td>5.0</td>\n",
              "      <td>159.93</td>\n",
              "    </tr>\n",
              "    <tr>\n",
              "      <th>1</th>\n",
              "      <td>1</td>\n",
              "      <td>NaN</td>\n",
              "      <td>Phone</td>\n",
              "      <td>1</td>\n",
              "      <td>8.0</td>\n",
              "      <td>UPI</td>\n",
              "      <td>Male</td>\n",
              "      <td>3.0</td>\n",
              "      <td>4</td>\n",
              "      <td>Mobile</td>\n",
              "      <td>3</td>\n",
              "      <td>Single</td>\n",
              "      <td>7</td>\n",
              "      <td>1</td>\n",
              "      <td>15.0</td>\n",
              "      <td>0.0</td>\n",
              "      <td>1.0</td>\n",
              "      <td>0.0</td>\n",
              "      <td>120.90</td>\n",
              "    </tr>\n",
              "    <tr>\n",
              "      <th>2</th>\n",
              "      <td>1</td>\n",
              "      <td>NaN</td>\n",
              "      <td>Phone</td>\n",
              "      <td>1</td>\n",
              "      <td>30.0</td>\n",
              "      <td>Debit Card</td>\n",
              "      <td>Male</td>\n",
              "      <td>2.0</td>\n",
              "      <td>4</td>\n",
              "      <td>Mobile</td>\n",
              "      <td>3</td>\n",
              "      <td>Single</td>\n",
              "      <td>6</td>\n",
              "      <td>1</td>\n",
              "      <td>14.0</td>\n",
              "      <td>0.0</td>\n",
              "      <td>1.0</td>\n",
              "      <td>3.0</td>\n",
              "      <td>120.28</td>\n",
              "    </tr>\n",
              "    <tr>\n",
              "      <th>3</th>\n",
              "      <td>1</td>\n",
              "      <td>0.0</td>\n",
              "      <td>Phone</td>\n",
              "      <td>3</td>\n",
              "      <td>15.0</td>\n",
              "      <td>Debit Card</td>\n",
              "      <td>Male</td>\n",
              "      <td>2.0</td>\n",
              "      <td>4</td>\n",
              "      <td>Laptop &amp; Accessory</td>\n",
              "      <td>5</td>\n",
              "      <td>Single</td>\n",
              "      <td>8</td>\n",
              "      <td>0</td>\n",
              "      <td>23.0</td>\n",
              "      <td>0.0</td>\n",
              "      <td>1.0</td>\n",
              "      <td>3.0</td>\n",
              "      <td>134.07</td>\n",
              "    </tr>\n",
              "    <tr>\n",
              "      <th>4</th>\n",
              "      <td>1</td>\n",
              "      <td>0.0</td>\n",
              "      <td>Phone</td>\n",
              "      <td>1</td>\n",
              "      <td>12.0</td>\n",
              "      <td>CC</td>\n",
              "      <td>Male</td>\n",
              "      <td>NaN</td>\n",
              "      <td>3</td>\n",
              "      <td>Mobile</td>\n",
              "      <td>5</td>\n",
              "      <td>Single</td>\n",
              "      <td>3</td>\n",
              "      <td>0</td>\n",
              "      <td>11.0</td>\n",
              "      <td>1.0</td>\n",
              "      <td>1.0</td>\n",
              "      <td>3.0</td>\n",
              "      <td>129.60</td>\n",
              "    </tr>\n",
              "  </tbody>\n",
              "</table>\n",
              "</div>\n",
              "      <button class=\"colab-df-convert\" onclick=\"convertToInteractive('df-6ce2c1b0-a056-4d53-9b59-e1f268f42592')\"\n",
              "              title=\"Convert this dataframe to an interactive table.\"\n",
              "              style=\"display:none;\">\n",
              "        \n",
              "  <svg xmlns=\"http://www.w3.org/2000/svg\" height=\"24px\"viewBox=\"0 0 24 24\"\n",
              "       width=\"24px\">\n",
              "    <path d=\"M0 0h24v24H0V0z\" fill=\"none\"/>\n",
              "    <path d=\"M18.56 5.44l.94 2.06.94-2.06 2.06-.94-2.06-.94-.94-2.06-.94 2.06-2.06.94zm-11 1L8.5 8.5l.94-2.06 2.06-.94-2.06-.94L8.5 2.5l-.94 2.06-2.06.94zm10 10l.94 2.06.94-2.06 2.06-.94-2.06-.94-.94-2.06-.94 2.06-2.06.94z\"/><path d=\"M17.41 7.96l-1.37-1.37c-.4-.4-.92-.59-1.43-.59-.52 0-1.04.2-1.43.59L10.3 9.45l-7.72 7.72c-.78.78-.78 2.05 0 2.83L4 21.41c.39.39.9.59 1.41.59.51 0 1.02-.2 1.41-.59l7.78-7.78 2.81-2.81c.8-.78.8-2.07 0-2.86zM5.41 20L4 18.59l7.72-7.72 1.47 1.35L5.41 20z\"/>\n",
              "  </svg>\n",
              "      </button>\n",
              "      \n",
              "  <style>\n",
              "    .colab-df-container {\n",
              "      display:flex;\n",
              "      flex-wrap:wrap;\n",
              "      gap: 12px;\n",
              "    }\n",
              "\n",
              "    .colab-df-convert {\n",
              "      background-color: #E8F0FE;\n",
              "      border: none;\n",
              "      border-radius: 50%;\n",
              "      cursor: pointer;\n",
              "      display: none;\n",
              "      fill: #1967D2;\n",
              "      height: 32px;\n",
              "      padding: 0 0 0 0;\n",
              "      width: 32px;\n",
              "    }\n",
              "\n",
              "    .colab-df-convert:hover {\n",
              "      background-color: #E2EBFA;\n",
              "      box-shadow: 0px 1px 2px rgba(60, 64, 67, 0.3), 0px 1px 3px 1px rgba(60, 64, 67, 0.15);\n",
              "      fill: #174EA6;\n",
              "    }\n",
              "\n",
              "    [theme=dark] .colab-df-convert {\n",
              "      background-color: #3B4455;\n",
              "      fill: #D2E3FC;\n",
              "    }\n",
              "\n",
              "    [theme=dark] .colab-df-convert:hover {\n",
              "      background-color: #434B5C;\n",
              "      box-shadow: 0px 1px 3px 1px rgba(0, 0, 0, 0.15);\n",
              "      filter: drop-shadow(0px 1px 2px rgba(0, 0, 0, 0.3));\n",
              "      fill: #FFFFFF;\n",
              "    }\n",
              "  </style>\n",
              "\n",
              "      <script>\n",
              "        const buttonEl =\n",
              "          document.querySelector('#df-6ce2c1b0-a056-4d53-9b59-e1f268f42592 button.colab-df-convert');\n",
              "        buttonEl.style.display =\n",
              "          google.colab.kernel.accessAllowed ? 'block' : 'none';\n",
              "\n",
              "        async function convertToInteractive(key) {\n",
              "          const element = document.querySelector('#df-6ce2c1b0-a056-4d53-9b59-e1f268f42592');\n",
              "          const dataTable =\n",
              "            await google.colab.kernel.invokeFunction('convertToInteractive',\n",
              "                                                     [key], {});\n",
              "          if (!dataTable) return;\n",
              "\n",
              "          const docLinkHtml = 'Like what you see? Visit the ' +\n",
              "            '<a target=\"_blank\" href=https://colab.research.google.com/notebooks/data_table.ipynb>data table notebook</a>'\n",
              "            + ' to learn more about interactive tables.';\n",
              "          element.innerHTML = '';\n",
              "          dataTable['output_type'] = 'display_data';\n",
              "          await google.colab.output.renderOutput(dataTable, element);\n",
              "          const docLink = document.createElement('div');\n",
              "          docLink.innerHTML = docLinkHtml;\n",
              "          element.appendChild(docLink);\n",
              "        }\n",
              "      </script>\n",
              "    </div>\n",
              "  </div>\n",
              "  "
            ]
          },
          "metadata": {},
          "execution_count": 28
        }
      ],
      "source": [
        "df_stg1_1.head()"
      ]
    },
    {
      "cell_type": "code",
      "execution_count": null,
      "id": "8efe2954-f9e4-4fa2-8ac6-9f66065219e9",
      "metadata": {
        "id": "8efe2954-f9e4-4fa2-8ac6-9f66065219e9",
        "colab": {
          "base_uri": "https://localhost:8080/",
          "height": 364
        },
        "outputId": "1f83772d-69f5-4646-ca61-755468af1907"
      },
      "outputs": [
        {
          "output_type": "execute_result",
          "data": {
            "text/plain": [
              "             Churn       Tenure     CityTier  WarehouseToHome  HourSpendOnApp  \\\n",
              "count  5630.000000  5366.000000  5630.000000      5379.000000     5375.000000   \n",
              "mean      0.168384    10.189899     1.654707        15.639896        2.931535   \n",
              "std       0.374240     8.557241     0.915389         8.531475        0.721926   \n",
              "min       0.000000     0.000000     1.000000         5.000000        0.000000   \n",
              "25%       0.000000     2.000000     1.000000         9.000000        2.000000   \n",
              "50%       0.000000     9.000000     1.000000        14.000000        3.000000   \n",
              "75%       0.000000    16.000000     3.000000        20.000000        3.000000   \n",
              "max       1.000000    61.000000     3.000000       127.000000        5.000000   \n",
              "\n",
              "       NumberOfDeviceRegistered  SatisfactionScore  NumberOfAddress  \\\n",
              "count               5630.000000        5630.000000      5630.000000   \n",
              "mean                   3.688988           3.066785         4.214032   \n",
              "std                    1.023999           1.380194         2.583586   \n",
              "min                    1.000000           1.000000         1.000000   \n",
              "25%                    3.000000           2.000000         2.000000   \n",
              "50%                    4.000000           3.000000         3.000000   \n",
              "75%                    4.000000           4.000000         6.000000   \n",
              "max                    6.000000           5.000000        22.000000   \n",
              "\n",
              "          Complain  OrderAmountHikeFromlastYear   CouponUsed   OrderCount  \\\n",
              "count  5630.000000                  5365.000000  5374.000000  5372.000000   \n",
              "mean      0.284902                    15.707922     1.751023     3.008004   \n",
              "std       0.451408                     3.675485     1.894621     2.939680   \n",
              "min       0.000000                    11.000000     0.000000     1.000000   \n",
              "25%       0.000000                    13.000000     1.000000     1.000000   \n",
              "50%       0.000000                    15.000000     1.000000     2.000000   \n",
              "75%       1.000000                    18.000000     2.000000     3.000000   \n",
              "max       1.000000                    26.000000    16.000000    16.000000   \n",
              "\n",
              "       DaySinceLastOrder  CashbackAmount  \n",
              "count        5323.000000     5630.000000  \n",
              "mean            4.543491      177.223030  \n",
              "std             3.654433       49.207036  \n",
              "min             0.000000        0.000000  \n",
              "25%             2.000000      145.770000  \n",
              "50%             3.000000      163.280000  \n",
              "75%             7.000000      196.392500  \n",
              "max            46.000000      324.990000  "
            ],
            "text/html": [
              "\n",
              "  <div id=\"df-61abd7fd-e91c-4f3a-b856-da78d2c33765\">\n",
              "    <div class=\"colab-df-container\">\n",
              "      <div>\n",
              "<style scoped>\n",
              "    .dataframe tbody tr th:only-of-type {\n",
              "        vertical-align: middle;\n",
              "    }\n",
              "\n",
              "    .dataframe tbody tr th {\n",
              "        vertical-align: top;\n",
              "    }\n",
              "\n",
              "    .dataframe thead th {\n",
              "        text-align: right;\n",
              "    }\n",
              "</style>\n",
              "<table border=\"1\" class=\"dataframe\">\n",
              "  <thead>\n",
              "    <tr style=\"text-align: right;\">\n",
              "      <th></th>\n",
              "      <th>Churn</th>\n",
              "      <th>Tenure</th>\n",
              "      <th>CityTier</th>\n",
              "      <th>WarehouseToHome</th>\n",
              "      <th>HourSpendOnApp</th>\n",
              "      <th>NumberOfDeviceRegistered</th>\n",
              "      <th>SatisfactionScore</th>\n",
              "      <th>NumberOfAddress</th>\n",
              "      <th>Complain</th>\n",
              "      <th>OrderAmountHikeFromlastYear</th>\n",
              "      <th>CouponUsed</th>\n",
              "      <th>OrderCount</th>\n",
              "      <th>DaySinceLastOrder</th>\n",
              "      <th>CashbackAmount</th>\n",
              "    </tr>\n",
              "  </thead>\n",
              "  <tbody>\n",
              "    <tr>\n",
              "      <th>count</th>\n",
              "      <td>5630.000000</td>\n",
              "      <td>5366.000000</td>\n",
              "      <td>5630.000000</td>\n",
              "      <td>5379.000000</td>\n",
              "      <td>5375.000000</td>\n",
              "      <td>5630.000000</td>\n",
              "      <td>5630.000000</td>\n",
              "      <td>5630.000000</td>\n",
              "      <td>5630.000000</td>\n",
              "      <td>5365.000000</td>\n",
              "      <td>5374.000000</td>\n",
              "      <td>5372.000000</td>\n",
              "      <td>5323.000000</td>\n",
              "      <td>5630.000000</td>\n",
              "    </tr>\n",
              "    <tr>\n",
              "      <th>mean</th>\n",
              "      <td>0.168384</td>\n",
              "      <td>10.189899</td>\n",
              "      <td>1.654707</td>\n",
              "      <td>15.639896</td>\n",
              "      <td>2.931535</td>\n",
              "      <td>3.688988</td>\n",
              "      <td>3.066785</td>\n",
              "      <td>4.214032</td>\n",
              "      <td>0.284902</td>\n",
              "      <td>15.707922</td>\n",
              "      <td>1.751023</td>\n",
              "      <td>3.008004</td>\n",
              "      <td>4.543491</td>\n",
              "      <td>177.223030</td>\n",
              "    </tr>\n",
              "    <tr>\n",
              "      <th>std</th>\n",
              "      <td>0.374240</td>\n",
              "      <td>8.557241</td>\n",
              "      <td>0.915389</td>\n",
              "      <td>8.531475</td>\n",
              "      <td>0.721926</td>\n",
              "      <td>1.023999</td>\n",
              "      <td>1.380194</td>\n",
              "      <td>2.583586</td>\n",
              "      <td>0.451408</td>\n",
              "      <td>3.675485</td>\n",
              "      <td>1.894621</td>\n",
              "      <td>2.939680</td>\n",
              "      <td>3.654433</td>\n",
              "      <td>49.207036</td>\n",
              "    </tr>\n",
              "    <tr>\n",
              "      <th>min</th>\n",
              "      <td>0.000000</td>\n",
              "      <td>0.000000</td>\n",
              "      <td>1.000000</td>\n",
              "      <td>5.000000</td>\n",
              "      <td>0.000000</td>\n",
              "      <td>1.000000</td>\n",
              "      <td>1.000000</td>\n",
              "      <td>1.000000</td>\n",
              "      <td>0.000000</td>\n",
              "      <td>11.000000</td>\n",
              "      <td>0.000000</td>\n",
              "      <td>1.000000</td>\n",
              "      <td>0.000000</td>\n",
              "      <td>0.000000</td>\n",
              "    </tr>\n",
              "    <tr>\n",
              "      <th>25%</th>\n",
              "      <td>0.000000</td>\n",
              "      <td>2.000000</td>\n",
              "      <td>1.000000</td>\n",
              "      <td>9.000000</td>\n",
              "      <td>2.000000</td>\n",
              "      <td>3.000000</td>\n",
              "      <td>2.000000</td>\n",
              "      <td>2.000000</td>\n",
              "      <td>0.000000</td>\n",
              "      <td>13.000000</td>\n",
              "      <td>1.000000</td>\n",
              "      <td>1.000000</td>\n",
              "      <td>2.000000</td>\n",
              "      <td>145.770000</td>\n",
              "    </tr>\n",
              "    <tr>\n",
              "      <th>50%</th>\n",
              "      <td>0.000000</td>\n",
              "      <td>9.000000</td>\n",
              "      <td>1.000000</td>\n",
              "      <td>14.000000</td>\n",
              "      <td>3.000000</td>\n",
              "      <td>4.000000</td>\n",
              "      <td>3.000000</td>\n",
              "      <td>3.000000</td>\n",
              "      <td>0.000000</td>\n",
              "      <td>15.000000</td>\n",
              "      <td>1.000000</td>\n",
              "      <td>2.000000</td>\n",
              "      <td>3.000000</td>\n",
              "      <td>163.280000</td>\n",
              "    </tr>\n",
              "    <tr>\n",
              "      <th>75%</th>\n",
              "      <td>0.000000</td>\n",
              "      <td>16.000000</td>\n",
              "      <td>3.000000</td>\n",
              "      <td>20.000000</td>\n",
              "      <td>3.000000</td>\n",
              "      <td>4.000000</td>\n",
              "      <td>4.000000</td>\n",
              "      <td>6.000000</td>\n",
              "      <td>1.000000</td>\n",
              "      <td>18.000000</td>\n",
              "      <td>2.000000</td>\n",
              "      <td>3.000000</td>\n",
              "      <td>7.000000</td>\n",
              "      <td>196.392500</td>\n",
              "    </tr>\n",
              "    <tr>\n",
              "      <th>max</th>\n",
              "      <td>1.000000</td>\n",
              "      <td>61.000000</td>\n",
              "      <td>3.000000</td>\n",
              "      <td>127.000000</td>\n",
              "      <td>5.000000</td>\n",
              "      <td>6.000000</td>\n",
              "      <td>5.000000</td>\n",
              "      <td>22.000000</td>\n",
              "      <td>1.000000</td>\n",
              "      <td>26.000000</td>\n",
              "      <td>16.000000</td>\n",
              "      <td>16.000000</td>\n",
              "      <td>46.000000</td>\n",
              "      <td>324.990000</td>\n",
              "    </tr>\n",
              "  </tbody>\n",
              "</table>\n",
              "</div>\n",
              "      <button class=\"colab-df-convert\" onclick=\"convertToInteractive('df-61abd7fd-e91c-4f3a-b856-da78d2c33765')\"\n",
              "              title=\"Convert this dataframe to an interactive table.\"\n",
              "              style=\"display:none;\">\n",
              "        \n",
              "  <svg xmlns=\"http://www.w3.org/2000/svg\" height=\"24px\"viewBox=\"0 0 24 24\"\n",
              "       width=\"24px\">\n",
              "    <path d=\"M0 0h24v24H0V0z\" fill=\"none\"/>\n",
              "    <path d=\"M18.56 5.44l.94 2.06.94-2.06 2.06-.94-2.06-.94-.94-2.06-.94 2.06-2.06.94zm-11 1L8.5 8.5l.94-2.06 2.06-.94-2.06-.94L8.5 2.5l-.94 2.06-2.06.94zm10 10l.94 2.06.94-2.06 2.06-.94-2.06-.94-.94-2.06-.94 2.06-2.06.94z\"/><path d=\"M17.41 7.96l-1.37-1.37c-.4-.4-.92-.59-1.43-.59-.52 0-1.04.2-1.43.59L10.3 9.45l-7.72 7.72c-.78.78-.78 2.05 0 2.83L4 21.41c.39.39.9.59 1.41.59.51 0 1.02-.2 1.41-.59l7.78-7.78 2.81-2.81c.8-.78.8-2.07 0-2.86zM5.41 20L4 18.59l7.72-7.72 1.47 1.35L5.41 20z\"/>\n",
              "  </svg>\n",
              "      </button>\n",
              "      \n",
              "  <style>\n",
              "    .colab-df-container {\n",
              "      display:flex;\n",
              "      flex-wrap:wrap;\n",
              "      gap: 12px;\n",
              "    }\n",
              "\n",
              "    .colab-df-convert {\n",
              "      background-color: #E8F0FE;\n",
              "      border: none;\n",
              "      border-radius: 50%;\n",
              "      cursor: pointer;\n",
              "      display: none;\n",
              "      fill: #1967D2;\n",
              "      height: 32px;\n",
              "      padding: 0 0 0 0;\n",
              "      width: 32px;\n",
              "    }\n",
              "\n",
              "    .colab-df-convert:hover {\n",
              "      background-color: #E2EBFA;\n",
              "      box-shadow: 0px 1px 2px rgba(60, 64, 67, 0.3), 0px 1px 3px 1px rgba(60, 64, 67, 0.15);\n",
              "      fill: #174EA6;\n",
              "    }\n",
              "\n",
              "    [theme=dark] .colab-df-convert {\n",
              "      background-color: #3B4455;\n",
              "      fill: #D2E3FC;\n",
              "    }\n",
              "\n",
              "    [theme=dark] .colab-df-convert:hover {\n",
              "      background-color: #434B5C;\n",
              "      box-shadow: 0px 1px 3px 1px rgba(0, 0, 0, 0.15);\n",
              "      filter: drop-shadow(0px 1px 2px rgba(0, 0, 0, 0.3));\n",
              "      fill: #FFFFFF;\n",
              "    }\n",
              "  </style>\n",
              "\n",
              "      <script>\n",
              "        const buttonEl =\n",
              "          document.querySelector('#df-61abd7fd-e91c-4f3a-b856-da78d2c33765 button.colab-df-convert');\n",
              "        buttonEl.style.display =\n",
              "          google.colab.kernel.accessAllowed ? 'block' : 'none';\n",
              "\n",
              "        async function convertToInteractive(key) {\n",
              "          const element = document.querySelector('#df-61abd7fd-e91c-4f3a-b856-da78d2c33765');\n",
              "          const dataTable =\n",
              "            await google.colab.kernel.invokeFunction('convertToInteractive',\n",
              "                                                     [key], {});\n",
              "          if (!dataTable) return;\n",
              "\n",
              "          const docLinkHtml = 'Like what you see? Visit the ' +\n",
              "            '<a target=\"_blank\" href=https://colab.research.google.com/notebooks/data_table.ipynb>data table notebook</a>'\n",
              "            + ' to learn more about interactive tables.';\n",
              "          element.innerHTML = '';\n",
              "          dataTable['output_type'] = 'display_data';\n",
              "          await google.colab.output.renderOutput(dataTable, element);\n",
              "          const docLink = document.createElement('div');\n",
              "          docLink.innerHTML = docLinkHtml;\n",
              "          element.appendChild(docLink);\n",
              "        }\n",
              "      </script>\n",
              "    </div>\n",
              "  </div>\n",
              "  "
            ]
          },
          "metadata": {},
          "execution_count": 29
        }
      ],
      "source": [
        "df_stg1_1.describe()"
      ]
    },
    {
      "cell_type": "code",
      "execution_count": null,
      "id": "d5e2a47e-d14b-42f8-8ee4-5fd40e0d97f4",
      "metadata": {
        "id": "d5e2a47e-d14b-42f8-8ee4-5fd40e0d97f4",
        "colab": {
          "base_uri": "https://localhost:8080/",
          "height": 623
        },
        "outputId": "bd260eb4-e2cf-4a3c-d786-32d669379df0"
      },
      "outputs": [
        {
          "output_type": "display_data",
          "data": {
            "text/plain": [
              "<Figure size 2160x1440 with 12 Axes>"
            ],
            "image/png": "[encoded data removed]"
          },
          "metadata": {
            "needs_background": "light"
          }
        }
      ],
      "source": [
        "plt.figure(figsize=(30,20))\n",
        "features = nums\n",
        "for i in range(0, len(features)):\n",
        "    plt.subplot(3, 7, i+1)\n",
        "    sns.boxplot(y=df_stg1[features[i]], color='salmon', orient='v')\n",
        "    plt.xlabel(features[i])"
      ]
    },
    {
      "cell_type": "markdown",
      "id": "0a8cf29c-6406-42f7-a49f-4c3e16ed13fa",
      "metadata": {
        "id": "0a8cf29c-6406-42f7-a49f-4c3e16ed13fa"
      },
      "source": [
        "Untuk boxplot, hal paling penting yang harus kita perhatikan adalah keberadaan outlier.\n",
        "* Outlier terlihat utamanya pada kolom `CouponUsed`, `OrderCount` dan `CashbackAmount`\n",
        "* Outlier yang tidak terlalu banyak ada pada kolom `Tenure`, `WareHouseToHome`, `TimeSpendOnApp`, `NumberOfDeviceRegistered`, `OrderAmountHikeFromLastYear`\n",
        "* Dari boxplotnya juga tampak mana distribusi yang terlihat *skewed*: `Tenure`, `Couponused`, `OrderCount`                                       dan agak skewed --> `OrderAmountHikeFromlastYear` \n",
        "* Beberapa kolom sudah memiliki data distribution yang cukup baik/normal, seperti `HourSpendOnApp`, `NumberOfDeviceRegister`dan `SatisfactionScore`"
      ]
    },
    {
      "cell_type": "markdown",
      "id": "7802d34e-cd41-443b-abd5-7b4469f48012",
      "metadata": {
        "id": "7802d34e-cd41-443b-abd5-7b4469f48012"
      },
      "source": [
        "<b> Outlier ini nantinya dapat di \"Handle\" dengan Dua opsi, yaitu \n",
        "1. Menghapus Outlier berdasarkan IQR \n",
        "2. Menghapus Outlier berdasarkan Z-Score (untuk outlier yang ekstrim ----> pada data dengan sebaran/distribusi normal,, sekitar ~0,3%)"
      ]
    },
    {
      "cell_type": "code",
      "execution_count": null,
      "id": "2e9c4ba6-0112-4db7-84ac-e82b5708b19f",
      "metadata": {
        "id": "2e9c4ba6-0112-4db7-84ac-e82b5708b19f",
        "colab": {
          "base_uri": "https://localhost:8080/",
          "height": 940
        },
        "outputId": "7d1941c9-71ff-449d-c280-bcb3ad955113"
      },
      "outputs": [
        {
          "output_type": "display_data",
          "data": {
            "text/plain": [
              "<Figure size 2160x1440 with 12 Axes>"
            ],
            "image/png": "[encoded data removed]"
          },
          "metadata": {
            "needs_background": "light"
          }
        }
      ],
      "source": [
        "features = nums\n",
        "plt.figure(figsize=(30, 20))\n",
        "for i in range(0, len(features)):\n",
        "    plt.subplot(3, 5, i+1)\n",
        "    sns.kdeplot(x=df_stg1[features[i]], color='salmon')\n",
        "    plt.xlabel(features[i])"
      ]
    },
    {
      "cell_type": "markdown",
      "id": "c6fa6243-6e4a-400a-bdc4-aba2802416b7",
      "metadata": {
        "id": "c6fa6243-6e4a-400a-bdc4-aba2802416b7"
      },
      "source": [
        "grafik yang menarik dari data numeric adalah :\n",
        "1. tenure : right skewed, ada outlier disisi kanan\n",
        "2. CityTier : Normal (range 1-3). \n",
        "3. warehouse to home : right skewed, ada outlier disisi kanan\n",
        "4. HourSpendOnapp : Normal, ada outlier di kiri dan kanan\n",
        "5. NumberOfDeviceRegistered : Normal, ad outlier di kiri dan kanan\n",
        "6. SatisfactionScore : Normal, tidak ada outlier (range 1-5)\n",
        "7. days since last order : right skewed, ada outlier disisi kanan\n",
        "8. number of address : right skewed, ada outlier disisi kanan\n",
        "9. Order Amount Hike From last Year : right skewed, ada outlier disisi kanan\n",
        "10. Coupon Used: right skewed, ada outlier disisi kanan\n",
        "11. Order Count : right skewed, ada outlier disisi kanan\n",
        "12. cashback amount : right skewed, ada outlier di sisi kiri dan kanan"
      ]
    },
    {
      "cell_type": "markdown",
      "id": "1a3448d7-a30a-436e-b97b-14a79867a764",
      "metadata": {
        "id": "1a3448d7-a30a-436e-b97b-14a79867a764"
      },
      "source": [
        "<b> Untuk data dengan distribusi skew ke kanan, dapat diolah dengan \"Feature Transformation\", tepatnya dengan Log Transformation agar sebaran data menjadi normal. "
      ]
    },
    {
      "cell_type": "code",
      "execution_count": null,
      "id": "1e8c6279-5fa2-4843-84ae-409062560c80",
      "metadata": {
        "id": "1e8c6279-5fa2-4843-84ae-409062560c80"
      },
      "outputs": [],
      "source": []
    },
    {
      "cell_type": "code",
      "execution_count": null,
      "id": "b115dc71-1156-4bc6-bfea-1e0316659222",
      "metadata": {
        "id": "b115dc71-1156-4bc6-bfea-1e0316659222",
        "colab": {
          "base_uri": "https://localhost:8080/",
          "height": 554
        },
        "outputId": "82406c3d-3c07-4663-f853-c7635dd643d3"
      },
      "outputs": [
        {
          "output_type": "display_data",
          "data": {
            "text/plain": [
              "<Figure size 1224x720 with 5 Axes>"
            ],
            "image/png": "[encoded data removed]"
          },
          "metadata": {
            "needs_background": "light"
          }
        }
      ],
      "source": [
        "plt.figure(figsize=(17,10))\n",
        "for i in range(0, len(cats)):\n",
        "    plt.subplot(3, 3, i+1)\n",
        "    sns.countplot(x = df_stg1[cats[i]], color='salmon', orient='v')\n",
        "    plt.xticks(fontsize=9, rotation=45)\n",
        "    plt.tight_layout()"
      ]
    },
    {
      "cell_type": "markdown",
      "id": "e0961b87-1f08-4448-8426-7ab6e637e891",
      "metadata": {
        "id": "e0961b87-1f08-4448-8426-7ab6e637e891"
      },
      "source": [
        "1. pada feature Prefer Order Cat terdapat 2 variabel yang mirip yaitu, Phone dan Mobile Phone jika kategori tersebut sama, maka perlu di feature engineering\n",
        "2. Pada Feature Preferred Payment Mode, terdapat variabel yang mirip, yaitu CC dengan Credit Card dan COD dengan Cash On Delivery. Jika feature tersebut sama, maka perlu dilakukan Feature Engineering"
      ]
    },
    {
      "cell_type": "markdown",
      "id": "e1032c8b-7cee-4e10-b2dd-9ee9076e2499",
      "metadata": {
        "id": "e1032c8b-7cee-4e10-b2dd-9ee9076e2499",
        "tags": []
      },
      "source": [
        "## <b> 3. Multivariate Analysis"
      ]
    },
    {
      "cell_type": "code",
      "execution_count": null,
      "id": "c982fb75-384b-44b4-9fa7-b3ea28c0b68d",
      "metadata": {
        "id": "c982fb75-384b-44b4-9fa7-b3ea28c0b68d",
        "colab": {
          "base_uri": "https://localhost:8080/",
          "height": 552
        },
        "outputId": "db067141-6ceb-4f56-8187-aae72a1c047b"
      },
      "outputs": [
        {
          "output_type": "execute_result",
          "data": {
            "text/plain": [
              "                                Churn    Tenure  CityTier  WarehouseToHome  \\\n",
              "Churn                        1.000000 -0.349408  0.084703         0.076630   \n",
              "Tenure                      -0.349408  1.000000 -0.060688        -0.018218   \n",
              "CityTier                     0.084703 -0.060688  1.000000         0.010624   \n",
              "WarehouseToHome              0.076630 -0.018218  0.010624         1.000000   \n",
              "HourSpendOnApp               0.018675 -0.021226 -0.009150         0.060990   \n",
              "NumberOfDeviceRegistered     0.107939 -0.023983  0.027934         0.019071   \n",
              "SatisfactionScore            0.105481 -0.013903 -0.011554         0.007722   \n",
              "NumberOfAddress              0.043931  0.237666 -0.029440        -0.011020   \n",
              "Complain                     0.250188 -0.021268  0.003375         0.028696   \n",
              "OrderAmountHikeFromlastYear -0.010058  0.005825 -0.031408         0.038795   \n",
              "CouponUsed                  -0.008264  0.129035  0.021456        -0.003935   \n",
              "OrderCount                  -0.028697  0.186403  0.033388         0.002681   \n",
              "DaySinceLastOrder           -0.160757  0.184552  0.017525         0.017829   \n",
              "CashbackAmount              -0.154118  0.476380  0.055746        -0.009200   \n",
              "\n",
              "                             HourSpendOnApp  NumberOfDeviceRegistered  \\\n",
              "Churn                              0.018675                  0.107939   \n",
              "Tenure                            -0.021226                 -0.023983   \n",
              "CityTier                          -0.009150                  0.027934   \n",
              "WarehouseToHome                    0.060990                  0.019071   \n",
              "HourSpendOnApp                     1.000000                  0.316800   \n",
              "NumberOfDeviceRegistered           0.316800                  1.000000   \n",
              "SatisfactionScore                  0.031858                 -0.017228   \n",
              "NumberOfAddress                    0.145126                  0.084997   \n",
              "Complain                           0.006976                  0.003407   \n",
              "OrderAmountHikeFromlastYear        0.106843                  0.069475   \n",
              "CouponUsed                         0.191528                  0.151685   \n",
              "OrderCount                         0.109575                  0.103464   \n",
              "DaySinceLastOrder                  0.075716                  0.018208   \n",
              "CashbackAmount                     0.121490                  0.137183   \n",
              "\n",
              "                             SatisfactionScore  NumberOfAddress  Complain  \\\n",
              "Churn                                 0.105481         0.043931  0.250188   \n",
              "Tenure                               -0.013903         0.237666 -0.021268   \n",
              "CityTier                             -0.011554        -0.029440  0.003375   \n",
              "WarehouseToHome                       0.007722        -0.011020  0.028696   \n",
              "HourSpendOnApp                        0.031858         0.145126  0.006976   \n",
              "NumberOfDeviceRegistered             -0.017228         0.084997  0.003407   \n",
              "SatisfactionScore                     1.000000         0.053583 -0.031115   \n",
              "NumberOfAddress                       0.053583         1.000000 -0.026399   \n",
              "Complain                             -0.031115        -0.026399  1.000000   \n",
              "OrderAmountHikeFromlastYear          -0.027730         0.015533 -0.004529   \n",
              "CouponUsed                            0.017936         0.042120 -0.008174   \n",
              "OrderCount                            0.019764        -0.007609 -0.019307   \n",
              "DaySinceLastOrder                     0.032082        -0.064847 -0.043546   \n",
              "CashbackAmount                        0.003473         0.186688  0.000525   \n",
              "\n",
              "                             OrderAmountHikeFromlastYear  CouponUsed  \\\n",
              "Churn                                          -0.010058   -0.008264   \n",
              "Tenure                                          0.005825    0.129035   \n",
              "CityTier                                       -0.031408    0.021456   \n",
              "WarehouseToHome                                 0.038795   -0.003935   \n",
              "HourSpendOnApp                                  0.106843    0.191528   \n",
              "NumberOfDeviceRegistered                        0.069475    0.151685   \n",
              "SatisfactionScore                              -0.027730    0.017936   \n",
              "NumberOfAddress                                 0.015533    0.042120   \n",
              "Complain                                       -0.004529   -0.008174   \n",
              "OrderAmountHikeFromlastYear                     1.000000    0.033201   \n",
              "CouponUsed                                      0.033201    1.000000   \n",
              "OrderCount                                      0.023101    0.745245   \n",
              "DaySinceLastOrder                               0.006003    0.358930   \n",
              "CashbackAmount                                  0.017869    0.286728   \n",
              "\n",
              "                             OrderCount  DaySinceLastOrder  CashbackAmount  \n",
              "Churn                         -0.028697          -0.160757       -0.154118  \n",
              "Tenure                         0.186403           0.184552        0.476380  \n",
              "CityTier                       0.033388           0.017525        0.055746  \n",
              "WarehouseToHome                0.002681           0.017829       -0.009200  \n",
              "HourSpendOnApp                 0.109575           0.075716        0.121490  \n",
              "NumberOfDeviceRegistered       0.103464           0.018208        0.137183  \n",
              "SatisfactionScore              0.019764           0.032082        0.003473  \n",
              "NumberOfAddress               -0.007609          -0.064847        0.186688  \n",
              "Complain                      -0.019307          -0.043546        0.000525  \n",
              "OrderAmountHikeFromlastYear    0.023101           0.006003        0.017869  \n",
              "CouponUsed                     0.745245           0.358930        0.286728  \n",
              "OrderCount                     1.000000           0.497928        0.360984  \n",
              "DaySinceLastOrder              0.497928           1.000000        0.347172  \n",
              "CashbackAmount                 0.360984           0.347172        1.000000  "
            ],
            "text/html": [
              "\n",
              "  <div id=\"df-cdee2c8b-e3d1-42f4-9674-27bbcb3a698c\">\n",
              "    <div class=\"colab-df-container\">\n",
              "      <div>\n",
              "<style scoped>\n",
              "    .dataframe tbody tr th:only-of-type {\n",
              "        vertical-align: middle;\n",
              "    }\n",
              "\n",
              "    .dataframe tbody tr th {\n",
              "        vertical-align: top;\n",
              "    }\n",
              "\n",
              "    .dataframe thead th {\n",
              "        text-align: right;\n",
              "    }\n",
              "</style>\n",
              "<table border=\"1\" class=\"dataframe\">\n",
              "  <thead>\n",
              "    <tr style=\"text-align: right;\">\n",
              "      <th></th>\n",
              "      <th>Churn</th>\n",
              "      <th>Tenure</th>\n",
              "      <th>CityTier</th>\n",
              "      <th>WarehouseToHome</th>\n",
              "      <th>HourSpendOnApp</th>\n",
              "      <th>NumberOfDeviceRegistered</th>\n",
              "      <th>SatisfactionScore</th>\n",
              "      <th>NumberOfAddress</th>\n",
              "      <th>Complain</th>\n",
              "      <th>OrderAmountHikeFromlastYear</th>\n",
              "      <th>CouponUsed</th>\n",
              "      <th>OrderCount</th>\n",
              "      <th>DaySinceLastOrder</th>\n",
              "      <th>CashbackAmount</th>\n",
              "    </tr>\n",
              "  </thead>\n",
              "  <tbody>\n",
              "    <tr>\n",
              "      <th>Churn</th>\n",
              "      <td>1.000000</td>\n",
              "      <td>-0.349408</td>\n",
              "      <td>0.084703</td>\n",
              "      <td>0.076630</td>\n",
              "      <td>0.018675</td>\n",
              "      <td>0.107939</td>\n",
              "      <td>0.105481</td>\n",
              "      <td>0.043931</td>\n",
              "      <td>0.250188</td>\n",
              "      <td>-0.010058</td>\n",
              "      <td>-0.008264</td>\n",
              "      <td>-0.028697</td>\n",
              "      <td>-0.160757</td>\n",
              "      <td>-0.154118</td>\n",
              "    </tr>\n",
              "    <tr>\n",
              "      <th>Tenure</th>\n",
              "      <td>-0.349408</td>\n",
              "      <td>1.000000</td>\n",
              "      <td>-0.060688</td>\n",
              "      <td>-0.018218</td>\n",
              "      <td>-0.021226</td>\n",
              "      <td>-0.023983</td>\n",
              "      <td>-0.013903</td>\n",
              "      <td>0.237666</td>\n",
              "      <td>-0.021268</td>\n",
              "      <td>0.005825</td>\n",
              "      <td>0.129035</td>\n",
              "      <td>0.186403</td>\n",
              "      <td>0.184552</td>\n",
              "      <td>0.476380</td>\n",
              "    </tr>\n",
              "    <tr>\n",
              "      <th>CityTier</th>\n",
              "      <td>0.084703</td>\n",
              "      <td>-0.060688</td>\n",
              "      <td>1.000000</td>\n",
              "      <td>0.010624</td>\n",
              "      <td>-0.009150</td>\n",
              "      <td>0.027934</td>\n",
              "      <td>-0.011554</td>\n",
              "      <td>-0.029440</td>\n",
              "      <td>0.003375</td>\n",
              "      <td>-0.031408</td>\n",
              "      <td>0.021456</td>\n",
              "      <td>0.033388</td>\n",
              "      <td>0.017525</td>\n",
              "      <td>0.055746</td>\n",
              "    </tr>\n",
              "    <tr>\n",
              "      <th>WarehouseToHome</th>\n",
              "      <td>0.076630</td>\n",
              "      <td>-0.018218</td>\n",
              "      <td>0.010624</td>\n",
              "      <td>1.000000</td>\n",
              "      <td>0.060990</td>\n",
              "      <td>0.019071</td>\n",
              "      <td>0.007722</td>\n",
              "      <td>-0.011020</td>\n",
              "      <td>0.028696</td>\n",
              "      <td>0.038795</td>\n",
              "      <td>-0.003935</td>\n",
              "      <td>0.002681</td>\n",
              "      <td>0.017829</td>\n",
              "      <td>-0.009200</td>\n",
              "    </tr>\n",
              "    <tr>\n",
              "      <th>HourSpendOnApp</th>\n",
              "      <td>0.018675</td>\n",
              "      <td>-0.021226</td>\n",
              "      <td>-0.009150</td>\n",
              "      <td>0.060990</td>\n",
              "      <td>1.000000</td>\n",
              "      <td>0.316800</td>\n",
              "      <td>0.031858</td>\n",
              "      <td>0.145126</td>\n",
              "      <td>0.006976</td>\n",
              "      <td>0.106843</td>\n",
              "      <td>0.191528</td>\n",
              "      <td>0.109575</td>\n",
              "      <td>0.075716</td>\n",
              "      <td>0.121490</td>\n",
              "    </tr>\n",
              "    <tr>\n",
              "      <th>NumberOfDeviceRegistered</th>\n",
              "      <td>0.107939</td>\n",
              "      <td>-0.023983</td>\n",
              "      <td>0.027934</td>\n",
              "      <td>0.019071</td>\n",
              "      <td>0.316800</td>\n",
              "      <td>1.000000</td>\n",
              "      <td>-0.017228</td>\n",
              "      <td>0.084997</td>\n",
              "      <td>0.003407</td>\n",
              "      <td>0.069475</td>\n",
              "      <td>0.151685</td>\n",
              "      <td>0.103464</td>\n",
              "      <td>0.018208</td>\n",
              "      <td>0.137183</td>\n",
              "    </tr>\n",
              "    <tr>\n",
              "      <th>SatisfactionScore</th>\n",
              "      <td>0.105481</td>\n",
              "      <td>-0.013903</td>\n",
              "      <td>-0.011554</td>\n",
              "      <td>0.007722</td>\n",
              "      <td>0.031858</td>\n",
              "      <td>-0.017228</td>\n",
              "      <td>1.000000</td>\n",
              "      <td>0.053583</td>\n",
              "      <td>-0.031115</td>\n",
              "      <td>-0.027730</td>\n",
              "      <td>0.017936</td>\n",
              "      <td>0.019764</td>\n",
              "      <td>0.032082</td>\n",
              "      <td>0.003473</td>\n",
              "    </tr>\n",
              "    <tr>\n",
              "      <th>NumberOfAddress</th>\n",
              "      <td>0.043931</td>\n",
              "      <td>0.237666</td>\n",
              "      <td>-0.029440</td>\n",
              "      <td>-0.011020</td>\n",
              "      <td>0.145126</td>\n",
              "      <td>0.084997</td>\n",
              "      <td>0.053583</td>\n",
              "      <td>1.000000</td>\n",
              "      <td>-0.026399</td>\n",
              "      <td>0.015533</td>\n",
              "      <td>0.042120</td>\n",
              "      <td>-0.007609</td>\n",
              "      <td>-0.064847</td>\n",
              "      <td>0.186688</td>\n",
              "    </tr>\n",
              "    <tr>\n",
              "      <th>Complain</th>\n",
              "      <td>0.250188</td>\n",
              "      <td>-0.021268</td>\n",
              "      <td>0.003375</td>\n",
              "      <td>0.028696</td>\n",
              "      <td>0.006976</td>\n",
              "      <td>0.003407</td>\n",
              "      <td>-0.031115</td>\n",
              "      <td>-0.026399</td>\n",
              "      <td>1.000000</td>\n",
              "      <td>-0.004529</td>\n",
              "      <td>-0.008174</td>\n",
              "      <td>-0.019307</td>\n",
              "      <td>-0.043546</td>\n",
              "      <td>0.000525</td>\n",
              "    </tr>\n",
              "    <tr>\n",
              "      <th>OrderAmountHikeFromlastYear</th>\n",
              "      <td>-0.010058</td>\n",
              "      <td>0.005825</td>\n",
              "      <td>-0.031408</td>\n",
              "      <td>0.038795</td>\n",
              "      <td>0.106843</td>\n",
              "      <td>0.069475</td>\n",
              "      <td>-0.027730</td>\n",
              "      <td>0.015533</td>\n",
              "      <td>-0.004529</td>\n",
              "      <td>1.000000</td>\n",
              "      <td>0.033201</td>\n",
              "      <td>0.023101</td>\n",
              "      <td>0.006003</td>\n",
              "      <td>0.017869</td>\n",
              "    </tr>\n",
              "    <tr>\n",
              "      <th>CouponUsed</th>\n",
              "      <td>-0.008264</td>\n",
              "      <td>0.129035</td>\n",
              "      <td>0.021456</td>\n",
              "      <td>-0.003935</td>\n",
              "      <td>0.191528</td>\n",
              "      <td>0.151685</td>\n",
              "      <td>0.017936</td>\n",
              "      <td>0.042120</td>\n",
              "      <td>-0.008174</td>\n",
              "      <td>0.033201</td>\n",
              "      <td>1.000000</td>\n",
              "      <td>0.745245</td>\n",
              "      <td>0.358930</td>\n",
              "      <td>0.286728</td>\n",
              "    </tr>\n",
              "    <tr>\n",
              "      <th>OrderCount</th>\n",
              "      <td>-0.028697</td>\n",
              "      <td>0.186403</td>\n",
              "      <td>0.033388</td>\n",
              "      <td>0.002681</td>\n",
              "      <td>0.109575</td>\n",
              "      <td>0.103464</td>\n",
              "      <td>0.019764</td>\n",
              "      <td>-0.007609</td>\n",
              "      <td>-0.019307</td>\n",
              "      <td>0.023101</td>\n",
              "      <td>0.745245</td>\n",
              "      <td>1.000000</td>\n",
              "      <td>0.497928</td>\n",
              "      <td>0.360984</td>\n",
              "    </tr>\n",
              "    <tr>\n",
              "      <th>DaySinceLastOrder</th>\n",
              "      <td>-0.160757</td>\n",
              "      <td>0.184552</td>\n",
              "      <td>0.017525</td>\n",
              "      <td>0.017829</td>\n",
              "      <td>0.075716</td>\n",
              "      <td>0.018208</td>\n",
              "      <td>0.032082</td>\n",
              "      <td>-0.064847</td>\n",
              "      <td>-0.043546</td>\n",
              "      <td>0.006003</td>\n",
              "      <td>0.358930</td>\n",
              "      <td>0.497928</td>\n",
              "      <td>1.000000</td>\n",
              "      <td>0.347172</td>\n",
              "    </tr>\n",
              "    <tr>\n",
              "      <th>CashbackAmount</th>\n",
              "      <td>-0.154118</td>\n",
              "      <td>0.476380</td>\n",
              "      <td>0.055746</td>\n",
              "      <td>-0.009200</td>\n",
              "      <td>0.121490</td>\n",
              "      <td>0.137183</td>\n",
              "      <td>0.003473</td>\n",
              "      <td>0.186688</td>\n",
              "      <td>0.000525</td>\n",
              "      <td>0.017869</td>\n",
              "      <td>0.286728</td>\n",
              "      <td>0.360984</td>\n",
              "      <td>0.347172</td>\n",
              "      <td>1.000000</td>\n",
              "    </tr>\n",
              "  </tbody>\n",
              "</table>\n",
              "</div>\n",
              "      <button class=\"colab-df-convert\" onclick=\"convertToInteractive('df-cdee2c8b-e3d1-42f4-9674-27bbcb3a698c')\"\n",
              "              title=\"Convert this dataframe to an interactive table.\"\n",
              "              style=\"display:none;\">\n",
              "        \n",
              "  <svg xmlns=\"http://www.w3.org/2000/svg\" height=\"24px\"viewBox=\"0 0 24 24\"\n",
              "       width=\"24px\">\n",
              "    <path d=\"M0 0h24v24H0V0z\" fill=\"none\"/>\n",
              "    <path d=\"M18.56 5.44l.94 2.06.94-2.06 2.06-.94-2.06-.94-.94-2.06-.94 2.06-2.06.94zm-11 1L8.5 8.5l.94-2.06 2.06-.94-2.06-.94L8.5 2.5l-.94 2.06-2.06.94zm10 10l.94 2.06.94-2.06 2.06-.94-2.06-.94-.94-2.06-.94 2.06-2.06.94z\"/><path d=\"M17.41 7.96l-1.37-1.37c-.4-.4-.92-.59-1.43-.59-.52 0-1.04.2-1.43.59L10.3 9.45l-7.72 7.72c-.78.78-.78 2.05 0 2.83L4 21.41c.39.39.9.59 1.41.59.51 0 1.02-.2 1.41-.59l7.78-7.78 2.81-2.81c.8-.78.8-2.07 0-2.86zM5.41 20L4 18.59l7.72-7.72 1.47 1.35L5.41 20z\"/>\n",
              "  </svg>\n",
              "      </button>\n",
              "      \n",
              "  <style>\n",
              "    .colab-df-container {\n",
              "      display:flex;\n",
              "      flex-wrap:wrap;\n",
              "      gap: 12px;\n",
              "    }\n",
              "\n",
              "    .colab-df-convert {\n",
              "      background-color: #E8F0FE;\n",
              "      border: none;\n",
              "      border-radius: 50%;\n",
              "      cursor: pointer;\n",
              "      display: none;\n",
              "      fill: #1967D2;\n",
              "      height: 32px;\n",
              "      padding: 0 0 0 0;\n",
              "      width: 32px;\n",
              "    }\n",
              "\n",
              "    .colab-df-convert:hover {\n",
              "      background-color: #E2EBFA;\n",
              "      box-shadow: 0px 1px 2px rgba(60, 64, 67, 0.3), 0px 1px 3px 1px rgba(60, 64, 67, 0.15);\n",
              "      fill: #174EA6;\n",
              "    }\n",
              "\n",
              "    [theme=dark] .colab-df-convert {\n",
              "      background-color: #3B4455;\n",
              "      fill: #D2E3FC;\n",
              "    }\n",
              "\n",
              "    [theme=dark] .colab-df-convert:hover {\n",
              "      background-color: #434B5C;\n",
              "      box-shadow: 0px 1px 3px 1px rgba(0, 0, 0, 0.15);\n",
              "      filter: drop-shadow(0px 1px 2px rgba(0, 0, 0, 0.3));\n",
              "      fill: #FFFFFF;\n",
              "    }\n",
              "  </style>\n",
              "\n",
              "      <script>\n",
              "        const buttonEl =\n",
              "          document.querySelector('#df-cdee2c8b-e3d1-42f4-9674-27bbcb3a698c button.colab-df-convert');\n",
              "        buttonEl.style.display =\n",
              "          google.colab.kernel.accessAllowed ? 'block' : 'none';\n",
              "\n",
              "        async function convertToInteractive(key) {\n",
              "          const element = document.querySelector('#df-cdee2c8b-e3d1-42f4-9674-27bbcb3a698c');\n",
              "          const dataTable =\n",
              "            await google.colab.kernel.invokeFunction('convertToInteractive',\n",
              "                                                     [key], {});\n",
              "          if (!dataTable) return;\n",
              "\n",
              "          const docLinkHtml = 'Like what you see? Visit the ' +\n",
              "            '<a target=\"_blank\" href=https://colab.research.google.com/notebooks/data_table.ipynb>data table notebook</a>'\n",
              "            + ' to learn more about interactive tables.';\n",
              "          element.innerHTML = '';\n",
              "          dataTable['output_type'] = 'display_data';\n",
              "          await google.colab.output.renderOutput(dataTable, element);\n",
              "          const docLink = document.createElement('div');\n",
              "          docLink.innerHTML = docLinkHtml;\n",
              "          element.appendChild(docLink);\n",
              "        }\n",
              "      </script>\n",
              "    </div>\n",
              "  </div>\n",
              "  "
            ]
          },
          "metadata": {},
          "execution_count": 33
        }
      ],
      "source": [
        "df_stg1_1.corr()"
      ]
    },
    {
      "cell_type": "code",
      "execution_count": null,
      "id": "9bab318b-c7a9-44b6-9f37-ac39d79b1953",
      "metadata": {
        "id": "9bab318b-c7a9-44b6-9f37-ac39d79b1953",
        "colab": {
          "base_uri": "https://localhost:8080/",
          "height": 455
        },
        "outputId": "8074dded-c789-4e9b-c482-0092e0d32f3a"
      },
      "outputs": [
        {
          "output_type": "execute_result",
          "data": {
            "text/plain": [
              "Text(0.5, 1.0, 'Korelasi')"
            ]
          },
          "metadata": {},
          "execution_count": 34
        },
        {
          "output_type": "display_data",
          "data": {
            "text/plain": [
              "<Figure size 432x288 with 2 Axes>"
            ],
            "image/png": "[encoded data removed]"
          },
          "metadata": {
            "needs_background": "light"
          }
        }
      ],
      "source": [
        "#mask = np.triu(np.ones_like(df_stg1[nums].corr(), dtype=np.bool_))\n",
        "heatmaps=sns.heatmap(df_stg1_1.corr(),cmap='Blues', annot=True, fmt='.2f')\n",
        "heatmaps.set_title('Korelasi', fontdict={'fontsize':18}, pad=16)"
      ]
    },
    {
      "cell_type": "markdown",
      "id": "e5574720-43a7-4172-b0b3-15d96a0c0677",
      "metadata": {
        "id": "e5574720-43a7-4172-b0b3-15d96a0c0677"
      },
      "source": [
        "##### Dari correlation heatmap diatas, ada beberapa feature yang memilki korelasi lemah dengan target kita (Churn), yaitu :\n",
        "\n",
        "1. number of Device Registration 0.11\n",
        "2. satisfaction Score 0.11\n",
        "3. complaint 0.25\n",
        "4. tenure -0.35 (kuat, tetapi korelasi negatif)\n",
        "5. Days Since Last Order -0.16\n",
        "6. CashbackAmount -0.15"
      ]
    },
    {
      "cell_type": "markdown",
      "id": "a630c8e0-9679-4a2c-9daf-28fdd61c4a7f",
      "metadata": {
        "id": "a630c8e0-9679-4a2c-9daf-28fdd61c4a7f"
      },
      "source": [
        "#####  Dari *correlation heatmap* di atas dapat dilihat bahwa:\n",
        "* Target kita `churn` korelasi positif lemah dengan `complain`, `SatisfactionScore`, `NumberOfDeviceRegistered` dan `CityTier` (decent potential feature)\n",
        "* Sedangkan korelasi `Churn` dengan `HourSpendOnApp` dan `NumberOfAddress` sangat lemah ~0, ini menandakan bisa jadi mereka bukan fitur yang potensial\n",
        "* `Tenure` memiliki korelasi positif cukup kuat dengan `CashbackAmount`(0.48); `CustomerID` dengan `HourSpendOnApp` (0.6) ; `CouponUsed` dengan `OrderCount`(0.75), `OrderCount` dengan `DaySinceLastOrder` (0.5), Ada kemungkinan *feature* ini redundan (dipilih salah satunya saja untuk training data)"
      ]
    },
    {
      "cell_type": "markdown",
      "id": "425f7ee2-5143-4991-84aa-626d32d42811",
      "metadata": {
        "id": "425f7ee2-5143-4991-84aa-626d32d42811"
      },
      "source": [
        "##### Korelasi lainnya \n",
        "1. `Churn` berkorelasi negatif dengan `tenure` (korelasi = -0.35), artinya Churn cenderung terjadi pada customer dengan loyalitas yang rendah atau tidak terlalu lama menggunakan layanan. \n",
        "2. `Tenure` berkorelasi positif kuat dengan `CashbackAmount`(0.48). Artinya loyalitas dari customer dipengaruhi oleh jumlah cashback yang diberikan oleh E-commerce.  \n",
        "3. `CashbackAmount` berkorelasi positif dengan `OrderCount`(0.36) dan `DaySinceLastOrder` (0.35). Tentu saja Pemberian dan jumlah cashback sangat mempengaruhi jumlah belanja atau jumlah orderan customer. \n",
        "4. `OrderCount` Berkorelasi positif kuat dengan `CouponUsed` (0.75)\n",
        "5. `CouponUsed` berkorelasi positif dengan `DaySinceLastOrder` (0.36)"
      ]
    },
    {
      "cell_type": "markdown",
      "id": "69e2a88f-766c-4959-be8f-b615e38b12e7",
      "metadata": {
        "id": "69e2a88f-766c-4959-be8f-b615e38b12e7",
        "tags": []
      },
      "source": [
        "## <b> 4. Business Insight"
      ]
    },
    {
      "cell_type": "markdown",
      "id": "651a186f-7a8b-47a0-80bb-1ee17fa0cba0",
      "metadata": {
        "id": "651a186f-7a8b-47a0-80bb-1ee17fa0cba0",
        "jp-MarkdownHeadingCollapsed": true,
        "tags": []
      },
      "source": [
        "### 1. Churn by Tenure"
      ]
    },
    {
      "cell_type": "code",
      "execution_count": null,
      "id": "d69ee68f-b86a-4077-bcb1-0704c01dd0fc",
      "metadata": {
        "id": "d69ee68f-b86a-4077-bcb1-0704c01dd0fc",
        "colab": {
          "base_uri": "https://localhost:8080/",
          "height": 446
        },
        "outputId": "277caf67-0de4-49f0-aed8-24f0fe3195cf"
      },
      "outputs": [
        {
          "output_type": "display_data",
          "data": {
            "text/plain": [
              "<Figure size 720x504 with 1 Axes>"
            ],
            "image/png": "[encoded data removed]"
          },
          "metadata": {
            "needs_background": "light"
          }
        }
      ],
      "source": [
        "fig, ax = plt.subplots(figsize=(10,7))\n",
        "\n",
        "sns.kdeplot(df_stg1[df_stg1['Churn']==0]['Tenure'].dropna(),color='navy',label='Churn: No', ax=ax)\n",
        "sns.kdeplot(df_stg1[df_stg1['Churn']==1]['Tenure'].dropna(),color='orange',label='Churn: Yes', ax=ax)\n",
        "plt.legend() ; "
      ]
    },
    {
      "cell_type": "code",
      "execution_count": null,
      "id": "110d1ab3-c2c0-483d-9fdc-309bf2b7167b",
      "metadata": {
        "colab": {
          "base_uri": "https://localhost:8080/",
          "height": 465
        },
        "id": "110d1ab3-c2c0-483d-9fdc-309bf2b7167b",
        "outputId": "525703e8-e175-48c2-dbe1-d9fc200790dd"
      },
      "outputs": [
        {
          "output_type": "execute_result",
          "data": {
            "text/plain": [
              "<matplotlib.legend.Legend at 0x7fe113583250>"
            ]
          },
          "metadata": {},
          "execution_count": 49
        },
        {
          "output_type": "display_data",
          "data": {
            "text/plain": [
              "<Figure size 720x504 with 1 Axes>"
            ],
            "image/png": "[encoded data removed]"
          },
          "metadata": {
            "needs_background": "light"
          }
        }
      ],
      "source": [
        "fig, ax = plt.subplots(figsize=(10,7))\n",
        "\n",
        "sns.histplot(df_stg1[df_stg1['Churn']==0]['Tenure'].dropna(),color='navy',label='Churn: No', ax=ax)\n",
        "sns.histplot(df_stg1[df_stg1['Churn']==1]['Tenure'].dropna(),color='orange',label='Churn: Yes', ax=ax)\n",
        "plt.legend()"
      ]
    },
    {
      "cell_type": "markdown",
      "id": "5cd9e281-17f3-4ca9-8277-1446800624fa",
      "metadata": {
        "id": "5cd9e281-17f3-4ca9-8277-1446800624fa"
      },
      "source": [
        "<b> INSIGHT :\n",
        "Churn cenderung terjadi pada customer dengan loyalitas yang rendah atau belum terlalu lama menggunakan layanan. kemungkinan customer dengan loyalitas rendah ini adalah customer yang hanya menikmati flash sale atau promo singkat, dll. Perlu dibuat fitur baru dalam layanan e-commerce seperti 'Gaining Poin or Coin' atau game mengumpulkan coin/poin tersebut yang nantinya dapat ditukar, atau lotre-lotre dari hasil penukaran point dan coin untuk meningkatkan rasa penasaran, experience dan ambisi dari customer sehingga dapat meningkatkan retensi dari pelanggan."
      ]
    },
    {
      "cell_type": "markdown",
      "id": "0263ec6f-adfb-471a-ad1e-22d0e610f8b8",
      "metadata": {
        "tags": [],
        "id": "0263ec6f-adfb-471a-ad1e-22d0e610f8b8"
      },
      "source": [
        "### 2. Kategori Produk yang paling banyak diminati"
      ]
    },
    {
      "cell_type": "code",
      "execution_count": null,
      "id": "1bc15348-0626-4c51-8102-39f81535c8a0",
      "metadata": {
        "colab": {
          "base_uri": "https://localhost:8080/",
          "height": 426
        },
        "id": "1bc15348-0626-4c51-8102-39f81535c8a0",
        "outputId": "fc701779-5070-4154-ec03-7d5da6e454d8"
      },
      "outputs": [
        {
          "output_type": "execute_result",
          "data": {
            "text/plain": [
              "      PreferedOrderCat  Churn  CustomerID  ratio\n",
              "0              Fashion      0         698  12.40\n",
              "1              Fashion      1         128   2.27\n",
              "2              Grocery      0         390   6.93\n",
              "3              Grocery      1          20   0.36\n",
              "4   Laptop & Accessory      0        1840  32.68\n",
              "5   Laptop & Accessory      1         210   3.73\n",
              "6               Mobile      0         589  10.46\n",
              "7               Mobile      1         220   3.91\n",
              "8         Mobile Phone      0         921  16.36\n",
              "9         Mobile Phone      1         350   6.22\n",
              "10              Others      0         244   4.33\n",
              "11              Others      1          20   0.36"
            ],
            "text/html": [
              "\n",
              "  <div id=\"df-9fe19d88-a46a-4d0e-b5a2-2e8c6a5132c5\">\n",
              "    <div class=\"colab-df-container\">\n",
              "      <div>\n",
              "<style scoped>\n",
              "    .dataframe tbody tr th:only-of-type {\n",
              "        vertical-align: middle;\n",
              "    }\n",
              "\n",
              "    .dataframe tbody tr th {\n",
              "        vertical-align: top;\n",
              "    }\n",
              "\n",
              "    .dataframe thead th {\n",
              "        text-align: right;\n",
              "    }\n",
              "</style>\n",
              "<table border=\"1\" class=\"dataframe\">\n",
              "  <thead>\n",
              "    <tr style=\"text-align: right;\">\n",
              "      <th></th>\n",
              "      <th>PreferedOrderCat</th>\n",
              "      <th>Churn</th>\n",
              "      <th>CustomerID</th>\n",
              "      <th>ratio</th>\n",
              "    </tr>\n",
              "  </thead>\n",
              "  <tbody>\n",
              "    <tr>\n",
              "      <th>0</th>\n",
              "      <td>Fashion</td>\n",
              "      <td>0</td>\n",
              "      <td>698</td>\n",
              "      <td>12.40</td>\n",
              "    </tr>\n",
              "    <tr>\n",
              "      <th>1</th>\n",
              "      <td>Fashion</td>\n",
              "      <td>1</td>\n",
              "      <td>128</td>\n",
              "      <td>2.27</td>\n",
              "    </tr>\n",
              "    <tr>\n",
              "      <th>2</th>\n",
              "      <td>Grocery</td>\n",
              "      <td>0</td>\n",
              "      <td>390</td>\n",
              "      <td>6.93</td>\n",
              "    </tr>\n",
              "    <tr>\n",
              "      <th>3</th>\n",
              "      <td>Grocery</td>\n",
              "      <td>1</td>\n",
              "      <td>20</td>\n",
              "      <td>0.36</td>\n",
              "    </tr>\n",
              "    <tr>\n",
              "      <th>4</th>\n",
              "      <td>Laptop &amp; Accessory</td>\n",
              "      <td>0</td>\n",
              "      <td>1840</td>\n",
              "      <td>32.68</td>\n",
              "    </tr>\n",
              "    <tr>\n",
              "      <th>5</th>\n",
              "      <td>Laptop &amp; Accessory</td>\n",
              "      <td>1</td>\n",
              "      <td>210</td>\n",
              "      <td>3.73</td>\n",
              "    </tr>\n",
              "    <tr>\n",
              "      <th>6</th>\n",
              "      <td>Mobile</td>\n",
              "      <td>0</td>\n",
              "      <td>589</td>\n",
              "      <td>10.46</td>\n",
              "    </tr>\n",
              "    <tr>\n",
              "      <th>7</th>\n",
              "      <td>Mobile</td>\n",
              "      <td>1</td>\n",
              "      <td>220</td>\n",
              "      <td>3.91</td>\n",
              "    </tr>\n",
              "    <tr>\n",
              "      <th>8</th>\n",
              "      <td>Mobile Phone</td>\n",
              "      <td>0</td>\n",
              "      <td>921</td>\n",
              "      <td>16.36</td>\n",
              "    </tr>\n",
              "    <tr>\n",
              "      <th>9</th>\n",
              "      <td>Mobile Phone</td>\n",
              "      <td>1</td>\n",
              "      <td>350</td>\n",
              "      <td>6.22</td>\n",
              "    </tr>\n",
              "    <tr>\n",
              "      <th>10</th>\n",
              "      <td>Others</td>\n",
              "      <td>0</td>\n",
              "      <td>244</td>\n",
              "      <td>4.33</td>\n",
              "    </tr>\n",
              "    <tr>\n",
              "      <th>11</th>\n",
              "      <td>Others</td>\n",
              "      <td>1</td>\n",
              "      <td>20</td>\n",
              "      <td>0.36</td>\n",
              "    </tr>\n",
              "  </tbody>\n",
              "</table>\n",
              "</div>\n",
              "      <button class=\"colab-df-convert\" onclick=\"convertToInteractive('df-9fe19d88-a46a-4d0e-b5a2-2e8c6a5132c5')\"\n",
              "              title=\"Convert this dataframe to an interactive table.\"\n",
              "              style=\"display:none;\">\n",
              "        \n",
              "  <svg xmlns=\"http://www.w3.org/2000/svg\" height=\"24px\"viewBox=\"0 0 24 24\"\n",
              "       width=\"24px\">\n",
              "    <path d=\"M0 0h24v24H0V0z\" fill=\"none\"/>\n",
              "    <path d=\"M18.56 5.44l.94 2.06.94-2.06 2.06-.94-2.06-.94-.94-2.06-.94 2.06-2.06.94zm-11 1L8.5 8.5l.94-2.06 2.06-.94-2.06-.94L8.5 2.5l-.94 2.06-2.06.94zm10 10l.94 2.06.94-2.06 2.06-.94-2.06-.94-.94-2.06-.94 2.06-2.06.94z\"/><path d=\"M17.41 7.96l-1.37-1.37c-.4-.4-.92-.59-1.43-.59-.52 0-1.04.2-1.43.59L10.3 9.45l-7.72 7.72c-.78.78-.78 2.05 0 2.83L4 21.41c.39.39.9.59 1.41.59.51 0 1.02-.2 1.41-.59l7.78-7.78 2.81-2.81c.8-.78.8-2.07 0-2.86zM5.41 20L4 18.59l7.72-7.72 1.47 1.35L5.41 20z\"/>\n",
              "  </svg>\n",
              "      </button>\n",
              "      \n",
              "  <style>\n",
              "    .colab-df-container {\n",
              "      display:flex;\n",
              "      flex-wrap:wrap;\n",
              "      gap: 12px;\n",
              "    }\n",
              "\n",
              "    .colab-df-convert {\n",
              "      background-color: #E8F0FE;\n",
              "      border: none;\n",
              "      border-radius: 50%;\n",
              "      cursor: pointer;\n",
              "      display: none;\n",
              "      fill: #1967D2;\n",
              "      height: 32px;\n",
              "      padding: 0 0 0 0;\n",
              "      width: 32px;\n",
              "    }\n",
              "\n",
              "    .colab-df-convert:hover {\n",
              "      background-color: #E2EBFA;\n",
              "      box-shadow: 0px 1px 2px rgba(60, 64, 67, 0.3), 0px 1px 3px 1px rgba(60, 64, 67, 0.15);\n",
              "      fill: #174EA6;\n",
              "    }\n",
              "\n",
              "    [theme=dark] .colab-df-convert {\n",
              "      background-color: #3B4455;\n",
              "      fill: #D2E3FC;\n",
              "    }\n",
              "\n",
              "    [theme=dark] .colab-df-convert:hover {\n",
              "      background-color: #434B5C;\n",
              "      box-shadow: 0px 1px 3px 1px rgba(0, 0, 0, 0.15);\n",
              "      filter: drop-shadow(0px 1px 2px rgba(0, 0, 0, 0.3));\n",
              "      fill: #FFFFFF;\n",
              "    }\n",
              "  </style>\n",
              "\n",
              "      <script>\n",
              "        const buttonEl =\n",
              "          document.querySelector('#df-9fe19d88-a46a-4d0e-b5a2-2e8c6a5132c5 button.colab-df-convert');\n",
              "        buttonEl.style.display =\n",
              "          google.colab.kernel.accessAllowed ? 'block' : 'none';\n",
              "\n",
              "        async function convertToInteractive(key) {\n",
              "          const element = document.querySelector('#df-9fe19d88-a46a-4d0e-b5a2-2e8c6a5132c5');\n",
              "          const dataTable =\n",
              "            await google.colab.kernel.invokeFunction('convertToInteractive',\n",
              "                                                     [key], {});\n",
              "          if (!dataTable) return;\n",
              "\n",
              "          const docLinkHtml = 'Like what you see? Visit the ' +\n",
              "            '<a target=\"_blank\" href=https://colab.research.google.com/notebooks/data_table.ipynb>data table notebook</a>'\n",
              "            + ' to learn more about interactive tables.';\n",
              "          element.innerHTML = '';\n",
              "          dataTable['output_type'] = 'display_data';\n",
              "          await google.colab.output.renderOutput(dataTable, element);\n",
              "          const docLink = document.createElement('div');\n",
              "          docLink.innerHTML = docLinkHtml;\n",
              "          element.appendChild(docLink);\n",
              "        }\n",
              "      </script>\n",
              "    </div>\n",
              "  </div>\n",
              "  "
            ]
          },
          "metadata": {},
          "execution_count": 50
        }
      ],
      "source": [
        "df_pref_order = df_stg1.groupby(['PreferedOrderCat','Churn']).agg({'CustomerID':'count'}).reset_index()\n",
        "df_pref_order['ratio']=df_pref_order['CustomerID'].apply(lambda x:round( x*100.0/(df_pref_order['CustomerID'].sum()),2))\n",
        "df_pref_order"
      ]
    },
    {
      "cell_type": "code",
      "execution_count": null,
      "id": "f5442ecb-5b7a-4093-9a5a-cb95110c1de0",
      "metadata": {
        "colab": {
          "base_uri": "https://localhost:8080/",
          "height": 392
        },
        "id": "f5442ecb-5b7a-4093-9a5a-cb95110c1de0",
        "outputId": "270f47ed-f3d2-4e04-fa68-152549bc7e8d"
      },
      "outputs": [
        {
          "output_type": "display_data",
          "data": {
            "text/plain": [
              "<Figure size 864x432 with 1 Axes>"
            ],
            "image/png": "[encoded data removed]"
          },
          "metadata": {
            "needs_background": "light"
          }
        }
      ],
      "source": [
        "sns.barplot(x='PreferedOrderCat', y='CustomerID',hue='Churn', data=df_pref_order);"
      ]
    },
    {
      "cell_type": "markdown",
      "id": "073a336f-9fee-421f-906c-babaceabf86d",
      "metadata": {
        "id": "073a336f-9fee-421f-906c-babaceabf86d"
      },
      "source": [
        "<b> Kategori laptop&accesory dan mobile Phone menjadi yang paling banyak diburu. untuk kategori barang yang ingin dijual perlu ditingkatkan lagi atau diseimbangkan lagi. Seperti contohnya untuk fashion, dengan meningkatkan jumlah customer wanita diharapkan penjualan barang dengan kategori Fashion ini dapat ditingkatkan. atau barang dengan kategori others, dengan melakukan marketing campaign seperti flash sale diharapkan mampu menaikkan popularitas barang ini dan meningkatkan penjualannya, sehingga penjualan tidak hanya terfokus pada satu kategori saja.  "
      ]
    },
    {
      "cell_type": "markdown",
      "id": "e5a12283-4018-4263-a2e2-552d01ed9552",
      "metadata": {
        "id": "e5a12283-4018-4263-a2e2-552d01ed9552",
        "tags": []
      },
      "source": [
        "### 3. Churn by Gender"
      ]
    },
    {
      "cell_type": "code",
      "execution_count": null,
      "id": "b4637e02-e43d-4485-8411-1b2f5533e0d4",
      "metadata": {
        "id": "b4637e02-e43d-4485-8411-1b2f5533e0d4",
        "colab": {
          "base_uri": "https://localhost:8080/",
          "height": 175
        },
        "outputId": "ca57acc1-e54c-4f67-feb8-89b53f730319"
      },
      "outputs": [
        {
          "output_type": "execute_result",
          "data": {
            "text/plain": [
              "   Gender  Churn  CustomerID  ratio\n",
              "0  Female      0        1898  33.71\n",
              "1  Female      1         348   6.18\n",
              "2    Male      0        2784  49.45\n",
              "3    Male      1         600  10.66"
            ],
            "text/html": [
              "\n",
              "  <div id=\"df-478e6361-3aef-4b12-807b-adcf9883dcd9\">\n",
              "    <div class=\"colab-df-container\">\n",
              "      <div>\n",
              "<style scoped>\n",
              "    .dataframe tbody tr th:only-of-type {\n",
              "        vertical-align: middle;\n",
              "    }\n",
              "\n",
              "    .dataframe tbody tr th {\n",
              "        vertical-align: top;\n",
              "    }\n",
              "\n",
              "    .dataframe thead th {\n",
              "        text-align: right;\n",
              "    }\n",
              "</style>\n",
              "<table border=\"1\" class=\"dataframe\">\n",
              "  <thead>\n",
              "    <tr style=\"text-align: right;\">\n",
              "      <th></th>\n",
              "      <th>Gender</th>\n",
              "      <th>Churn</th>\n",
              "      <th>CustomerID</th>\n",
              "      <th>ratio</th>\n",
              "    </tr>\n",
              "  </thead>\n",
              "  <tbody>\n",
              "    <tr>\n",
              "      <th>0</th>\n",
              "      <td>Female</td>\n",
              "      <td>0</td>\n",
              "      <td>1898</td>\n",
              "      <td>33.71</td>\n",
              "    </tr>\n",
              "    <tr>\n",
              "      <th>1</th>\n",
              "      <td>Female</td>\n",
              "      <td>1</td>\n",
              "      <td>348</td>\n",
              "      <td>6.18</td>\n",
              "    </tr>\n",
              "    <tr>\n",
              "      <th>2</th>\n",
              "      <td>Male</td>\n",
              "      <td>0</td>\n",
              "      <td>2784</td>\n",
              "      <td>49.45</td>\n",
              "    </tr>\n",
              "    <tr>\n",
              "      <th>3</th>\n",
              "      <td>Male</td>\n",
              "      <td>1</td>\n",
              "      <td>600</td>\n",
              "      <td>10.66</td>\n",
              "    </tr>\n",
              "  </tbody>\n",
              "</table>\n",
              "</div>\n",
              "      <button class=\"colab-df-convert\" onclick=\"convertToInteractive('df-478e6361-3aef-4b12-807b-adcf9883dcd9')\"\n",
              "              title=\"Convert this dataframe to an interactive table.\"\n",
              "              style=\"display:none;\">\n",
              "        \n",
              "  <svg xmlns=\"http://www.w3.org/2000/svg\" height=\"24px\"viewBox=\"0 0 24 24\"\n",
              "       width=\"24px\">\n",
              "    <path d=\"M0 0h24v24H0V0z\" fill=\"none\"/>\n",
              "    <path d=\"M18.56 5.44l.94 2.06.94-2.06 2.06-.94-2.06-.94-.94-2.06-.94 2.06-2.06.94zm-11 1L8.5 8.5l.94-2.06 2.06-.94-2.06-.94L8.5 2.5l-.94 2.06-2.06.94zm10 10l.94 2.06.94-2.06 2.06-.94-2.06-.94-.94-2.06-.94 2.06-2.06.94z\"/><path d=\"M17.41 7.96l-1.37-1.37c-.4-.4-.92-.59-1.43-.59-.52 0-1.04.2-1.43.59L10.3 9.45l-7.72 7.72c-.78.78-.78 2.05 0 2.83L4 21.41c.39.39.9.59 1.41.59.51 0 1.02-.2 1.41-.59l7.78-7.78 2.81-2.81c.8-.78.8-2.07 0-2.86zM5.41 20L4 18.59l7.72-7.72 1.47 1.35L5.41 20z\"/>\n",
              "  </svg>\n",
              "      </button>\n",
              "      \n",
              "  <style>\n",
              "    .colab-df-container {\n",
              "      display:flex;\n",
              "      flex-wrap:wrap;\n",
              "      gap: 12px;\n",
              "    }\n",
              "\n",
              "    .colab-df-convert {\n",
              "      background-color: #E8F0FE;\n",
              "      border: none;\n",
              "      border-radius: 50%;\n",
              "      cursor: pointer;\n",
              "      display: none;\n",
              "      fill: #1967D2;\n",
              "      height: 32px;\n",
              "      padding: 0 0 0 0;\n",
              "      width: 32px;\n",
              "    }\n",
              "\n",
              "    .colab-df-convert:hover {\n",
              "      background-color: #E2EBFA;\n",
              "      box-shadow: 0px 1px 2px rgba(60, 64, 67, 0.3), 0px 1px 3px 1px rgba(60, 64, 67, 0.15);\n",
              "      fill: #174EA6;\n",
              "    }\n",
              "\n",
              "    [theme=dark] .colab-df-convert {\n",
              "      background-color: #3B4455;\n",
              "      fill: #D2E3FC;\n",
              "    }\n",
              "\n",
              "    [theme=dark] .colab-df-convert:hover {\n",
              "      background-color: #434B5C;\n",
              "      box-shadow: 0px 1px 3px 1px rgba(0, 0, 0, 0.15);\n",
              "      filter: drop-shadow(0px 1px 2px rgba(0, 0, 0, 0.3));\n",
              "      fill: #FFFFFF;\n",
              "    }\n",
              "  </style>\n",
              "\n",
              "      <script>\n",
              "        const buttonEl =\n",
              "          document.querySelector('#df-478e6361-3aef-4b12-807b-adcf9883dcd9 button.colab-df-convert');\n",
              "        buttonEl.style.display =\n",
              "          google.colab.kernel.accessAllowed ? 'block' : 'none';\n",
              "\n",
              "        async function convertToInteractive(key) {\n",
              "          const element = document.querySelector('#df-478e6361-3aef-4b12-807b-adcf9883dcd9');\n",
              "          const dataTable =\n",
              "            await google.colab.kernel.invokeFunction('convertToInteractive',\n",
              "                                                     [key], {});\n",
              "          if (!dataTable) return;\n",
              "\n",
              "          const docLinkHtml = 'Like what you see? Visit the ' +\n",
              "            '<a target=\"_blank\" href=https://colab.research.google.com/notebooks/data_table.ipynb>data table notebook</a>'\n",
              "            + ' to learn more about interactive tables.';\n",
              "          element.innerHTML = '';\n",
              "          dataTable['output_type'] = 'display_data';\n",
              "          await google.colab.output.renderOutput(dataTable, element);\n",
              "          const docLink = document.createElement('div');\n",
              "          docLink.innerHTML = docLinkHtml;\n",
              "          element.appendChild(docLink);\n",
              "        }\n",
              "      </script>\n",
              "    </div>\n",
              "  </div>\n",
              "  "
            ]
          },
          "metadata": {},
          "execution_count": 52
        }
      ],
      "source": [
        "df_group = df_stg1.groupby(['Gender','Churn']).agg({'CustomerID':'count'}).reset_index()\n",
        "df_group['ratio']=df_group['CustomerID'].apply(lambda x:round( x*100.0/(df_group['CustomerID'].sum()),2))\n",
        "df_group"
      ]
    },
    {
      "cell_type": "code",
      "execution_count": null,
      "id": "c1c8d418-f60d-42b0-93c3-82fdb23552d9",
      "metadata": {
        "id": "c1c8d418-f60d-42b0-93c3-82fdb23552d9"
      },
      "outputs": [],
      "source": [
        "df_gender = df_stg1.groupby(['Churn', 'Gender']).agg({'CustomerID':'count'}).reset_index()\n",
        "df_churn = df_stg1.groupby('Churn').agg({'CustomerID':'count'}).reset_index()"
      ]
    },
    {
      "cell_type": "code",
      "execution_count": null,
      "id": "684618c8-6dc4-4e6f-8714-101d9d5639c5",
      "metadata": {
        "colab": {
          "base_uri": "https://localhost:8080/",
          "height": 175
        },
        "id": "684618c8-6dc4-4e6f-8714-101d9d5639c5",
        "outputId": "e1c7fb98-2588-458b-89c7-04f5cc9f59c1"
      },
      "outputs": [
        {
          "output_type": "execute_result",
          "data": {
            "text/plain": [
              "   Churn  Gender  CustomerID_x  CustomerID_y\n",
              "0      0  Female          1898          4682\n",
              "1      0    Male          2784          4682\n",
              "2      1  Female           348           948\n",
              "3      1    Male           600           948"
            ],
            "text/html": [
              "\n",
              "  <div id=\"df-db9aab00-f2eb-4f3d-9301-307223d482b2\">\n",
              "    <div class=\"colab-df-container\">\n",
              "      <div>\n",
              "<style scoped>\n",
              "    .dataframe tbody tr th:only-of-type {\n",
              "        vertical-align: middle;\n",
              "    }\n",
              "\n",
              "    .dataframe tbody tr th {\n",
              "        vertical-align: top;\n",
              "    }\n",
              "\n",
              "    .dataframe thead th {\n",
              "        text-align: right;\n",
              "    }\n",
              "</style>\n",
              "<table border=\"1\" class=\"dataframe\">\n",
              "  <thead>\n",
              "    <tr style=\"text-align: right;\">\n",
              "      <th></th>\n",
              "      <th>Churn</th>\n",
              "      <th>Gender</th>\n",
              "      <th>CustomerID_x</th>\n",
              "      <th>CustomerID_y</th>\n",
              "    </tr>\n",
              "  </thead>\n",
              "  <tbody>\n",
              "    <tr>\n",
              "      <th>0</th>\n",
              "      <td>0</td>\n",
              "      <td>Female</td>\n",
              "      <td>1898</td>\n",
              "      <td>4682</td>\n",
              "    </tr>\n",
              "    <tr>\n",
              "      <th>1</th>\n",
              "      <td>0</td>\n",
              "      <td>Male</td>\n",
              "      <td>2784</td>\n",
              "      <td>4682</td>\n",
              "    </tr>\n",
              "    <tr>\n",
              "      <th>2</th>\n",
              "      <td>1</td>\n",
              "      <td>Female</td>\n",
              "      <td>348</td>\n",
              "      <td>948</td>\n",
              "    </tr>\n",
              "    <tr>\n",
              "      <th>3</th>\n",
              "      <td>1</td>\n",
              "      <td>Male</td>\n",
              "      <td>600</td>\n",
              "      <td>948</td>\n",
              "    </tr>\n",
              "  </tbody>\n",
              "</table>\n",
              "</div>\n",
              "      <button class=\"colab-df-convert\" onclick=\"convertToInteractive('df-db9aab00-f2eb-4f3d-9301-307223d482b2')\"\n",
              "              title=\"Convert this dataframe to an interactive table.\"\n",
              "              style=\"display:none;\">\n",
              "        \n",
              "  <svg xmlns=\"http://www.w3.org/2000/svg\" height=\"24px\"viewBox=\"0 0 24 24\"\n",
              "       width=\"24px\">\n",
              "    <path d=\"M0 0h24v24H0V0z\" fill=\"none\"/>\n",
              "    <path d=\"M18.56 5.44l.94 2.06.94-2.06 2.06-.94-2.06-.94-.94-2.06-.94 2.06-2.06.94zm-11 1L8.5 8.5l.94-2.06 2.06-.94-2.06-.94L8.5 2.5l-.94 2.06-2.06.94zm10 10l.94 2.06.94-2.06 2.06-.94-2.06-.94-.94-2.06-.94 2.06-2.06.94z\"/><path d=\"M17.41 7.96l-1.37-1.37c-.4-.4-.92-.59-1.43-.59-.52 0-1.04.2-1.43.59L10.3 9.45l-7.72 7.72c-.78.78-.78 2.05 0 2.83L4 21.41c.39.39.9.59 1.41.59.51 0 1.02-.2 1.41-.59l7.78-7.78 2.81-2.81c.8-.78.8-2.07 0-2.86zM5.41 20L4 18.59l7.72-7.72 1.47 1.35L5.41 20z\"/>\n",
              "  </svg>\n",
              "      </button>\n",
              "      \n",
              "  <style>\n",
              "    .colab-df-container {\n",
              "      display:flex;\n",
              "      flex-wrap:wrap;\n",
              "      gap: 12px;\n",
              "    }\n",
              "\n",
              "    .colab-df-convert {\n",
              "      background-color: #E8F0FE;\n",
              "      border: none;\n",
              "      border-radius: 50%;\n",
              "      cursor: pointer;\n",
              "      display: none;\n",
              "      fill: #1967D2;\n",
              "      height: 32px;\n",
              "      padding: 0 0 0 0;\n",
              "      width: 32px;\n",
              "    }\n",
              "\n",
              "    .colab-df-convert:hover {\n",
              "      background-color: #E2EBFA;\n",
              "      box-shadow: 0px 1px 2px rgba(60, 64, 67, 0.3), 0px 1px 3px 1px rgba(60, 64, 67, 0.15);\n",
              "      fill: #174EA6;\n",
              "    }\n",
              "\n",
              "    [theme=dark] .colab-df-convert {\n",
              "      background-color: #3B4455;\n",
              "      fill: #D2E3FC;\n",
              "    }\n",
              "\n",
              "    [theme=dark] .colab-df-convert:hover {\n",
              "      background-color: #434B5C;\n",
              "      box-shadow: 0px 1px 3px 1px rgba(0, 0, 0, 0.15);\n",
              "      filter: drop-shadow(0px 1px 2px rgba(0, 0, 0, 0.3));\n",
              "      fill: #FFFFFF;\n",
              "    }\n",
              "  </style>\n",
              "\n",
              "      <script>\n",
              "        const buttonEl =\n",
              "          document.querySelector('#df-db9aab00-f2eb-4f3d-9301-307223d482b2 button.colab-df-convert');\n",
              "        buttonEl.style.display =\n",
              "          google.colab.kernel.accessAllowed ? 'block' : 'none';\n",
              "\n",
              "        async function convertToInteractive(key) {\n",
              "          const element = document.querySelector('#df-db9aab00-f2eb-4f3d-9301-307223d482b2');\n",
              "          const dataTable =\n",
              "            await google.colab.kernel.invokeFunction('convertToInteractive',\n",
              "                                                     [key], {});\n",
              "          if (!dataTable) return;\n",
              "\n",
              "          const docLinkHtml = 'Like what you see? Visit the ' +\n",
              "            '<a target=\"_blank\" href=https://colab.research.google.com/notebooks/data_table.ipynb>data table notebook</a>'\n",
              "            + ' to learn more about interactive tables.';\n",
              "          element.innerHTML = '';\n",
              "          dataTable['output_type'] = 'display_data';\n",
              "          await google.colab.output.renderOutput(dataTable, element);\n",
              "          const docLink = document.createElement('div');\n",
              "          docLink.innerHTML = docLinkHtml;\n",
              "          element.appendChild(docLink);\n",
              "        }\n",
              "      </script>\n",
              "    </div>\n",
              "  </div>\n",
              "  "
            ]
          },
          "metadata": {},
          "execution_count": 54
        }
      ],
      "source": [
        "df_gender_intotal = df_gender.merge(df_churn, on = 'Churn', how = 'left')\n",
        "df_gender_intotal"
      ]
    },
    {
      "cell_type": "code",
      "execution_count": null,
      "id": "2d440c03-51b2-4ef7-92b0-130f897ea9b6",
      "metadata": {
        "colab": {
          "base_uri": "https://localhost:8080/",
          "height": 175
        },
        "id": "2d440c03-51b2-4ef7-92b0-130f897ea9b6",
        "outputId": "3b91cf4a-3983-46c8-cebf-b780c8c7d7dd"
      },
      "outputs": [
        {
          "output_type": "execute_result",
          "data": {
            "text/plain": [
              "   Churn  Gender  CustomerID_x  CustomerID_y  Rasio (%)\n",
              "0      0  Female          1898          4682  40.538232\n",
              "1      0    Male          2784          4682  59.461768\n",
              "2      1  Female           348           948  36.708861\n",
              "3      1    Male           600           948  63.291139"
            ],
            "text/html": [
              "\n",
              "  <div id=\"df-09f2cff4-8b55-4ece-90bd-84d10fb9c2e5\">\n",
              "    <div class=\"colab-df-container\">\n",
              "      <div>\n",
              "<style scoped>\n",
              "    .dataframe tbody tr th:only-of-type {\n",
              "        vertical-align: middle;\n",
              "    }\n",
              "\n",
              "    .dataframe tbody tr th {\n",
              "        vertical-align: top;\n",
              "    }\n",
              "\n",
              "    .dataframe thead th {\n",
              "        text-align: right;\n",
              "    }\n",
              "</style>\n",
              "<table border=\"1\" class=\"dataframe\">\n",
              "  <thead>\n",
              "    <tr style=\"text-align: right;\">\n",
              "      <th></th>\n",
              "      <th>Churn</th>\n",
              "      <th>Gender</th>\n",
              "      <th>CustomerID_x</th>\n",
              "      <th>CustomerID_y</th>\n",
              "      <th>Rasio (%)</th>\n",
              "    </tr>\n",
              "  </thead>\n",
              "  <tbody>\n",
              "    <tr>\n",
              "      <th>0</th>\n",
              "      <td>0</td>\n",
              "      <td>Female</td>\n",
              "      <td>1898</td>\n",
              "      <td>4682</td>\n",
              "      <td>40.538232</td>\n",
              "    </tr>\n",
              "    <tr>\n",
              "      <th>1</th>\n",
              "      <td>0</td>\n",
              "      <td>Male</td>\n",
              "      <td>2784</td>\n",
              "      <td>4682</td>\n",
              "      <td>59.461768</td>\n",
              "    </tr>\n",
              "    <tr>\n",
              "      <th>2</th>\n",
              "      <td>1</td>\n",
              "      <td>Female</td>\n",
              "      <td>348</td>\n",
              "      <td>948</td>\n",
              "      <td>36.708861</td>\n",
              "    </tr>\n",
              "    <tr>\n",
              "      <th>3</th>\n",
              "      <td>1</td>\n",
              "      <td>Male</td>\n",
              "      <td>600</td>\n",
              "      <td>948</td>\n",
              "      <td>63.291139</td>\n",
              "    </tr>\n",
              "  </tbody>\n",
              "</table>\n",
              "</div>\n",
              "      <button class=\"colab-df-convert\" onclick=\"convertToInteractive('df-09f2cff4-8b55-4ece-90bd-84d10fb9c2e5')\"\n",
              "              title=\"Convert this dataframe to an interactive table.\"\n",
              "              style=\"display:none;\">\n",
              "        \n",
              "  <svg xmlns=\"http://www.w3.org/2000/svg\" height=\"24px\"viewBox=\"0 0 24 24\"\n",
              "       width=\"24px\">\n",
              "    <path d=\"M0 0h24v24H0V0z\" fill=\"none\"/>\n",
              "    <path d=\"M18.56 5.44l.94 2.06.94-2.06 2.06-.94-2.06-.94-.94-2.06-.94 2.06-2.06.94zm-11 1L8.5 8.5l.94-2.06 2.06-.94-2.06-.94L8.5 2.5l-.94 2.06-2.06.94zm10 10l.94 2.06.94-2.06 2.06-.94-2.06-.94-.94-2.06-.94 2.06-2.06.94z\"/><path d=\"M17.41 7.96l-1.37-1.37c-.4-.4-.92-.59-1.43-.59-.52 0-1.04.2-1.43.59L10.3 9.45l-7.72 7.72c-.78.78-.78 2.05 0 2.83L4 21.41c.39.39.9.59 1.41.59.51 0 1.02-.2 1.41-.59l7.78-7.78 2.81-2.81c.8-.78.8-2.07 0-2.86zM5.41 20L4 18.59l7.72-7.72 1.47 1.35L5.41 20z\"/>\n",
              "  </svg>\n",
              "      </button>\n",
              "      \n",
              "  <style>\n",
              "    .colab-df-container {\n",
              "      display:flex;\n",
              "      flex-wrap:wrap;\n",
              "      gap: 12px;\n",
              "    }\n",
              "\n",
              "    .colab-df-convert {\n",
              "      background-color: #E8F0FE;\n",
              "      border: none;\n",
              "      border-radius: 50%;\n",
              "      cursor: pointer;\n",
              "      display: none;\n",
              "      fill: #1967D2;\n",
              "      height: 32px;\n",
              "      padding: 0 0 0 0;\n",
              "      width: 32px;\n",
              "    }\n",
              "\n",
              "    .colab-df-convert:hover {\n",
              "      background-color: #E2EBFA;\n",
              "      box-shadow: 0px 1px 2px rgba(60, 64, 67, 0.3), 0px 1px 3px 1px rgba(60, 64, 67, 0.15);\n",
              "      fill: #174EA6;\n",
              "    }\n",
              "\n",
              "    [theme=dark] .colab-df-convert {\n",
              "      background-color: #3B4455;\n",
              "      fill: #D2E3FC;\n",
              "    }\n",
              "\n",
              "    [theme=dark] .colab-df-convert:hover {\n",
              "      background-color: #434B5C;\n",
              "      box-shadow: 0px 1px 3px 1px rgba(0, 0, 0, 0.15);\n",
              "      filter: drop-shadow(0px 1px 2px rgba(0, 0, 0, 0.3));\n",
              "      fill: #FFFFFF;\n",
              "    }\n",
              "  </style>\n",
              "\n",
              "      <script>\n",
              "        const buttonEl =\n",
              "          document.querySelector('#df-09f2cff4-8b55-4ece-90bd-84d10fb9c2e5 button.colab-df-convert');\n",
              "        buttonEl.style.display =\n",
              "          google.colab.kernel.accessAllowed ? 'block' : 'none';\n",
              "\n",
              "        async function convertToInteractive(key) {\n",
              "          const element = document.querySelector('#df-09f2cff4-8b55-4ece-90bd-84d10fb9c2e5');\n",
              "          const dataTable =\n",
              "            await google.colab.kernel.invokeFunction('convertToInteractive',\n",
              "                                                     [key], {});\n",
              "          if (!dataTable) return;\n",
              "\n",
              "          const docLinkHtml = 'Like what you see? Visit the ' +\n",
              "            '<a target=\"_blank\" href=https://colab.research.google.com/notebooks/data_table.ipynb>data table notebook</a>'\n",
              "            + ' to learn more about interactive tables.';\n",
              "          element.innerHTML = '';\n",
              "          dataTable['output_type'] = 'display_data';\n",
              "          await google.colab.output.renderOutput(dataTable, element);\n",
              "          const docLink = document.createElement('div');\n",
              "          docLink.innerHTML = docLinkHtml;\n",
              "          element.appendChild(docLink);\n",
              "        }\n",
              "      </script>\n",
              "    </div>\n",
              "  </div>\n",
              "  "
            ]
          },
          "metadata": {},
          "execution_count": 55
        }
      ],
      "source": [
        "df_gender_intotal['Rasio (%)'] = df_gender_intotal['CustomerID_x']/df_gender_intotal['CustomerID_y']*100\n",
        "df_gender_intotal"
      ]
    },
    {
      "cell_type": "code",
      "execution_count": null,
      "id": "d9347424-1c59-452a-a125-e68e9c1aa836",
      "metadata": {
        "id": "d9347424-1c59-452a-a125-e68e9c1aa836",
        "colab": {
          "base_uri": "https://localhost:8080/",
          "height": 627
        },
        "outputId": "824d6e60-4fd4-4de4-e24d-7513c04a1c17"
      },
      "outputs": [
        {
          "output_type": "execute_result",
          "data": {
            "text/plain": [
              "<matplotlib.legend.Legend at 0x7fe1133f1710>"
            ]
          },
          "metadata": {},
          "execution_count": 56
        },
        {
          "output_type": "display_data",
          "data": {
            "text/plain": [
              "<Figure size 1008x720 with 1 Axes>"
            ],
            "image/png": "[encoded data removed]"
          },
          "metadata": {
            "needs_background": "light"
          }
        }
      ],
      "source": [
        "plt.figure(figsize = (14,10))\n",
        "sns.barplot(x='Gender', y='Rasio (%)', hue='Churn', data=df_gender_intotal)\n",
        "plt.legend()"
      ]
    },
    {
      "cell_type": "markdown",
      "id": "425399f6-6a51-486a-8261-a72a4d5a8d04",
      "metadata": {
        "id": "425399f6-6a51-486a-8261-a72a4d5a8d04"
      },
      "source": [
        "<b> Jumlah Customer pria lebih banyak dibandingkan wanita, akan tetapi jumolah customer pria yang chun justru lebih banyak dari wanita. Menurut artikel yang dikutip dari mag for woman, wanita lebih suka berbelanja dan merupakan customer yang lebih baik dibandingkan pria. Salah satu alasan wanita menyukai 'shopping' atau berbelanja adalah naluri wanita yang selalu ingin mengumpulkan sesuatu. pada case ini, jumlah customer wanita lebih sedikit dibandingkan wanita, tetapi persentase yang churn justru lebih sedikit dari pria karena wanita memang lebih setia dalam hal berbelanja. Sedangkan pria dalam hal ini kemungkinan mereka hanya mengejar promo dan cashback dari e-commerce ketika berbelanja. Perlu dilakukan marketting campaign untuk menarik wanita dan menambah produk2 yang dapat menarik wanita untuk berbelanja pada platform kita. "
      ]
    },
    {
      "cell_type": "markdown",
      "id": "dbe30440-5a66-4069-bdeb-0bbbe096e563",
      "metadata": {
        "id": "dbe30440-5a66-4069-bdeb-0bbbe096e563",
        "tags": []
      },
      "source": [
        "### 4. Churn by Complain"
      ]
    },
    {
      "cell_type": "code",
      "execution_count": null,
      "id": "d77df2d9-2e18-4bae-ba3b-1696ba056b5c",
      "metadata": {
        "id": "d77df2d9-2e18-4bae-ba3b-1696ba056b5c"
      },
      "outputs": [],
      "source": [
        "df_group2 = df_stg1.groupby(['Complain','Churn']).agg({'CustomerID':'count'}).reset_index()\n",
        "df_group_complain = df_stg1.groupby('Complain').agg({'CustomerID':'count'}).reset_index()"
      ]
    },
    {
      "cell_type": "code",
      "execution_count": null,
      "id": "525969c3-bf1f-4f83-9cd3-bee16a79214a",
      "metadata": {
        "colab": {
          "base_uri": "https://localhost:8080/",
          "height": 175
        },
        "id": "525969c3-bf1f-4f83-9cd3-bee16a79214a",
        "outputId": "bfea2162-9411-403f-fe3c-17e557cec946"
      },
      "outputs": [
        {
          "output_type": "execute_result",
          "data": {
            "text/plain": [
              "   Complain  Churn  CustomerID_x  CustomerID_y\n",
              "0         0      0          3586          4026\n",
              "1         0      1           440          4026\n",
              "2         1      0          1096          1604\n",
              "3         1      1           508          1604"
            ],
            "text/html": [
              "\n",
              "  <div id=\"df-d1fd610c-543a-44c5-994d-f8d9dbe19f61\">\n",
              "    <div class=\"colab-df-container\">\n",
              "      <div>\n",
              "<style scoped>\n",
              "    .dataframe tbody tr th:only-of-type {\n",
              "        vertical-align: middle;\n",
              "    }\n",
              "\n",
              "    .dataframe tbody tr th {\n",
              "        vertical-align: top;\n",
              "    }\n",
              "\n",
              "    .dataframe thead th {\n",
              "        text-align: right;\n",
              "    }\n",
              "</style>\n",
              "<table border=\"1\" class=\"dataframe\">\n",
              "  <thead>\n",
              "    <tr style=\"text-align: right;\">\n",
              "      <th></th>\n",
              "      <th>Complain</th>\n",
              "      <th>Churn</th>\n",
              "      <th>CustomerID_x</th>\n",
              "      <th>CustomerID_y</th>\n",
              "    </tr>\n",
              "  </thead>\n",
              "  <tbody>\n",
              "    <tr>\n",
              "      <th>0</th>\n",
              "      <td>0</td>\n",
              "      <td>0</td>\n",
              "      <td>3586</td>\n",
              "      <td>4026</td>\n",
              "    </tr>\n",
              "    <tr>\n",
              "      <th>1</th>\n",
              "      <td>0</td>\n",
              "      <td>1</td>\n",
              "      <td>440</td>\n",
              "      <td>4026</td>\n",
              "    </tr>\n",
              "    <tr>\n",
              "      <th>2</th>\n",
              "      <td>1</td>\n",
              "      <td>0</td>\n",
              "      <td>1096</td>\n",
              "      <td>1604</td>\n",
              "    </tr>\n",
              "    <tr>\n",
              "      <th>3</th>\n",
              "      <td>1</td>\n",
              "      <td>1</td>\n",
              "      <td>508</td>\n",
              "      <td>1604</td>\n",
              "    </tr>\n",
              "  </tbody>\n",
              "</table>\n",
              "</div>\n",
              "      <button class=\"colab-df-convert\" onclick=\"convertToInteractive('df-d1fd610c-543a-44c5-994d-f8d9dbe19f61')\"\n",
              "              title=\"Convert this dataframe to an interactive table.\"\n",
              "              style=\"display:none;\">\n",
              "        \n",
              "  <svg xmlns=\"http://www.w3.org/2000/svg\" height=\"24px\"viewBox=\"0 0 24 24\"\n",
              "       width=\"24px\">\n",
              "    <path d=\"M0 0h24v24H0V0z\" fill=\"none\"/>\n",
              "    <path d=\"M18.56 5.44l.94 2.06.94-2.06 2.06-.94-2.06-.94-.94-2.06-.94 2.06-2.06.94zm-11 1L8.5 8.5l.94-2.06 2.06-.94-2.06-.94L8.5 2.5l-.94 2.06-2.06.94zm10 10l.94 2.06.94-2.06 2.06-.94-2.06-.94-.94-2.06-.94 2.06-2.06.94z\"/><path d=\"M17.41 7.96l-1.37-1.37c-.4-.4-.92-.59-1.43-.59-.52 0-1.04.2-1.43.59L10.3 9.45l-7.72 7.72c-.78.78-.78 2.05 0 2.83L4 21.41c.39.39.9.59 1.41.59.51 0 1.02-.2 1.41-.59l7.78-7.78 2.81-2.81c.8-.78.8-2.07 0-2.86zM5.41 20L4 18.59l7.72-7.72 1.47 1.35L5.41 20z\"/>\n",
              "  </svg>\n",
              "      </button>\n",
              "      \n",
              "  <style>\n",
              "    .colab-df-container {\n",
              "      display:flex;\n",
              "      flex-wrap:wrap;\n",
              "      gap: 12px;\n",
              "    }\n",
              "\n",
              "    .colab-df-convert {\n",
              "      background-color: #E8F0FE;\n",
              "      border: none;\n",
              "      border-radius: 50%;\n",
              "      cursor: pointer;\n",
              "      display: none;\n",
              "      fill: #1967D2;\n",
              "      height: 32px;\n",
              "      padding: 0 0 0 0;\n",
              "      width: 32px;\n",
              "    }\n",
              "\n",
              "    .colab-df-convert:hover {\n",
              "      background-color: #E2EBFA;\n",
              "      box-shadow: 0px 1px 2px rgba(60, 64, 67, 0.3), 0px 1px 3px 1px rgba(60, 64, 67, 0.15);\n",
              "      fill: #174EA6;\n",
              "    }\n",
              "\n",
              "    [theme=dark] .colab-df-convert {\n",
              "      background-color: #3B4455;\n",
              "      fill: #D2E3FC;\n",
              "    }\n",
              "\n",
              "    [theme=dark] .colab-df-convert:hover {\n",
              "      background-color: #434B5C;\n",
              "      box-shadow: 0px 1px 3px 1px rgba(0, 0, 0, 0.15);\n",
              "      filter: drop-shadow(0px 1px 2px rgba(0, 0, 0, 0.3));\n",
              "      fill: #FFFFFF;\n",
              "    }\n",
              "  </style>\n",
              "\n",
              "      <script>\n",
              "        const buttonEl =\n",
              "          document.querySelector('#df-d1fd610c-543a-44c5-994d-f8d9dbe19f61 button.colab-df-convert');\n",
              "        buttonEl.style.display =\n",
              "          google.colab.kernel.accessAllowed ? 'block' : 'none';\n",
              "\n",
              "        async function convertToInteractive(key) {\n",
              "          const element = document.querySelector('#df-d1fd610c-543a-44c5-994d-f8d9dbe19f61');\n",
              "          const dataTable =\n",
              "            await google.colab.kernel.invokeFunction('convertToInteractive',\n",
              "                                                     [key], {});\n",
              "          if (!dataTable) return;\n",
              "\n",
              "          const docLinkHtml = 'Like what you see? Visit the ' +\n",
              "            '<a target=\"_blank\" href=https://colab.research.google.com/notebooks/data_table.ipynb>data table notebook</a>'\n",
              "            + ' to learn more about interactive tables.';\n",
              "          element.innerHTML = '';\n",
              "          dataTable['output_type'] = 'display_data';\n",
              "          await google.colab.output.renderOutput(dataTable, element);\n",
              "          const docLink = document.createElement('div');\n",
              "          docLink.innerHTML = docLinkHtml;\n",
              "          element.appendChild(docLink);\n",
              "        }\n",
              "      </script>\n",
              "    </div>\n",
              "  </div>\n",
              "  "
            ]
          },
          "metadata": {},
          "execution_count": 58
        }
      ],
      "source": [
        "data_complain = df_group2.merge(df_group_complain, on = 'Complain', how = 'left')\n",
        "data_complain"
      ]
    },
    {
      "cell_type": "code",
      "execution_count": null,
      "id": "498de67a-7130-49a9-bf64-0c3cd3223de4",
      "metadata": {
        "colab": {
          "base_uri": "https://localhost:8080/",
          "height": 175
        },
        "id": "498de67a-7130-49a9-bf64-0c3cd3223de4",
        "outputId": "38755587-91c0-4786-81c4-0f5ca2fa9505"
      },
      "outputs": [
        {
          "output_type": "execute_result",
          "data": {
            "text/plain": [
              "   Complain  Churn  CustomerID_x  CustomerID_y  Rasio (%)\n",
              "0         0      0          3586          4026  89.071038\n",
              "1         0      1           440          4026  10.928962\n",
              "2         1      0          1096          1604  68.329177\n",
              "3         1      1           508          1604  31.670823"
            ],
            "text/html": [
              "\n",
              "  <div id=\"df-a8689369-7fa8-4176-9661-e88a32b71d58\">\n",
              "    <div class=\"colab-df-container\">\n",
              "      <div>\n",
              "<style scoped>\n",
              "    .dataframe tbody tr th:only-of-type {\n",
              "        vertical-align: middle;\n",
              "    }\n",
              "\n",
              "    .dataframe tbody tr th {\n",
              "        vertical-align: top;\n",
              "    }\n",
              "\n",
              "    .dataframe thead th {\n",
              "        text-align: right;\n",
              "    }\n",
              "</style>\n",
              "<table border=\"1\" class=\"dataframe\">\n",
              "  <thead>\n",
              "    <tr style=\"text-align: right;\">\n",
              "      <th></th>\n",
              "      <th>Complain</th>\n",
              "      <th>Churn</th>\n",
              "      <th>CustomerID_x</th>\n",
              "      <th>CustomerID_y</th>\n",
              "      <th>Rasio (%)</th>\n",
              "    </tr>\n",
              "  </thead>\n",
              "  <tbody>\n",
              "    <tr>\n",
              "      <th>0</th>\n",
              "      <td>0</td>\n",
              "      <td>0</td>\n",
              "      <td>3586</td>\n",
              "      <td>4026</td>\n",
              "      <td>89.071038</td>\n",
              "    </tr>\n",
              "    <tr>\n",
              "      <th>1</th>\n",
              "      <td>0</td>\n",
              "      <td>1</td>\n",
              "      <td>440</td>\n",
              "      <td>4026</td>\n",
              "      <td>10.928962</td>\n",
              "    </tr>\n",
              "    <tr>\n",
              "      <th>2</th>\n",
              "      <td>1</td>\n",
              "      <td>0</td>\n",
              "      <td>1096</td>\n",
              "      <td>1604</td>\n",
              "      <td>68.329177</td>\n",
              "    </tr>\n",
              "    <tr>\n",
              "      <th>3</th>\n",
              "      <td>1</td>\n",
              "      <td>1</td>\n",
              "      <td>508</td>\n",
              "      <td>1604</td>\n",
              "      <td>31.670823</td>\n",
              "    </tr>\n",
              "  </tbody>\n",
              "</table>\n",
              "</div>\n",
              "      <button class=\"colab-df-convert\" onclick=\"convertToInteractive('df-a8689369-7fa8-4176-9661-e88a32b71d58')\"\n",
              "              title=\"Convert this dataframe to an interactive table.\"\n",
              "              style=\"display:none;\">\n",
              "        \n",
              "  <svg xmlns=\"http://www.w3.org/2000/svg\" height=\"24px\"viewBox=\"0 0 24 24\"\n",
              "       width=\"24px\">\n",
              "    <path d=\"M0 0h24v24H0V0z\" fill=\"none\"/>\n",
              "    <path d=\"M18.56 5.44l.94 2.06.94-2.06 2.06-.94-2.06-.94-.94-2.06-.94 2.06-2.06.94zm-11 1L8.5 8.5l.94-2.06 2.06-.94-2.06-.94L8.5 2.5l-.94 2.06-2.06.94zm10 10l.94 2.06.94-2.06 2.06-.94-2.06-.94-.94-2.06-.94 2.06-2.06.94z\"/><path d=\"M17.41 7.96l-1.37-1.37c-.4-.4-.92-.59-1.43-.59-.52 0-1.04.2-1.43.59L10.3 9.45l-7.72 7.72c-.78.78-.78 2.05 0 2.83L4 21.41c.39.39.9.59 1.41.59.51 0 1.02-.2 1.41-.59l7.78-7.78 2.81-2.81c.8-.78.8-2.07 0-2.86zM5.41 20L4 18.59l7.72-7.72 1.47 1.35L5.41 20z\"/>\n",
              "  </svg>\n",
              "      </button>\n",
              "      \n",
              "  <style>\n",
              "    .colab-df-container {\n",
              "      display:flex;\n",
              "      flex-wrap:wrap;\n",
              "      gap: 12px;\n",
              "    }\n",
              "\n",
              "    .colab-df-convert {\n",
              "      background-color: #E8F0FE;\n",
              "      border: none;\n",
              "      border-radius: 50%;\n",
              "      cursor: pointer;\n",
              "      display: none;\n",
              "      fill: #1967D2;\n",
              "      height: 32px;\n",
              "      padding: 0 0 0 0;\n",
              "      width: 32px;\n",
              "    }\n",
              "\n",
              "    .colab-df-convert:hover {\n",
              "      background-color: #E2EBFA;\n",
              "      box-shadow: 0px 1px 2px rgba(60, 64, 67, 0.3), 0px 1px 3px 1px rgba(60, 64, 67, 0.15);\n",
              "      fill: #174EA6;\n",
              "    }\n",
              "\n",
              "    [theme=dark] .colab-df-convert {\n",
              "      background-color: #3B4455;\n",
              "      fill: #D2E3FC;\n",
              "    }\n",
              "\n",
              "    [theme=dark] .colab-df-convert:hover {\n",
              "      background-color: #434B5C;\n",
              "      box-shadow: 0px 1px 3px 1px rgba(0, 0, 0, 0.15);\n",
              "      filter: drop-shadow(0px 1px 2px rgba(0, 0, 0, 0.3));\n",
              "      fill: #FFFFFF;\n",
              "    }\n",
              "  </style>\n",
              "\n",
              "      <script>\n",
              "        const buttonEl =\n",
              "          document.querySelector('#df-a8689369-7fa8-4176-9661-e88a32b71d58 button.colab-df-convert');\n",
              "        buttonEl.style.display =\n",
              "          google.colab.kernel.accessAllowed ? 'block' : 'none';\n",
              "\n",
              "        async function convertToInteractive(key) {\n",
              "          const element = document.querySelector('#df-a8689369-7fa8-4176-9661-e88a32b71d58');\n",
              "          const dataTable =\n",
              "            await google.colab.kernel.invokeFunction('convertToInteractive',\n",
              "                                                     [key], {});\n",
              "          if (!dataTable) return;\n",
              "\n",
              "          const docLinkHtml = 'Like what you see? Visit the ' +\n",
              "            '<a target=\"_blank\" href=https://colab.research.google.com/notebooks/data_table.ipynb>data table notebook</a>'\n",
              "            + ' to learn more about interactive tables.';\n",
              "          element.innerHTML = '';\n",
              "          dataTable['output_type'] = 'display_data';\n",
              "          await google.colab.output.renderOutput(dataTable, element);\n",
              "          const docLink = document.createElement('div');\n",
              "          docLink.innerHTML = docLinkHtml;\n",
              "          element.appendChild(docLink);\n",
              "        }\n",
              "      </script>\n",
              "    </div>\n",
              "  </div>\n",
              "  "
            ]
          },
          "metadata": {},
          "execution_count": 59
        }
      ],
      "source": [
        "data_complain['Rasio (%)'] = data_complain['CustomerID_x']/data_complain['CustomerID_y']*100\n",
        "data_complain"
      ]
    },
    {
      "cell_type": "code",
      "execution_count": null,
      "id": "79d3fcf3-ad24-447a-8598-b7c8f7b670fe",
      "metadata": {
        "id": "79d3fcf3-ad24-447a-8598-b7c8f7b670fe",
        "colab": {
          "base_uri": "https://localhost:8080/",
          "height": 434
        },
        "outputId": "36b5f142-0a54-4447-c0f2-25563e65b3e3"
      },
      "outputs": [
        {
          "output_type": "execute_result",
          "data": {
            "text/plain": [
              "Text(0.5, 1.0, 'Complain X Churn')"
            ]
          },
          "metadata": {},
          "execution_count": 60
        },
        {
          "output_type": "display_data",
          "data": {
            "text/plain": [
              "<Figure size 864x432 with 1 Axes>"
            ],
            "image/png": "[encoded data removed]"
          },
          "metadata": {
            "needs_background": "light"
          }
        }
      ],
      "source": [
        "conc1= \"Persentase Customer  yang Churn dilihat dari Complain\"\n",
        "sns.barplot(x='Complain', y='Rasio (%)', hue='Churn', data=data_complain)\n",
        "plt.title('Complain X Churn', size = 24)"
      ]
    },
    {
      "cell_type": "markdown",
      "id": "59d82df9-3b6c-4620-8917-803529be9161",
      "metadata": {
        "id": "59d82df9-3b6c-4620-8917-803529be9161"
      },
      "source": [
        "<b> Customer yang melakukan complain meiliki persentase 31.67% terhadap customer yang churn sehingga dibutuhkan perbaikan dalam penanganan complain (resolve complain)."
      ]
    },
    {
      "cell_type": "markdown",
      "source": [
        "#PRE-PROCESSING"
      ],
      "metadata": {
        "id": "RpFuLg_0UW8f"
      },
      "id": "RpFuLg_0UW8f"
    },
    {
      "cell_type": "markdown",
      "source": [
        "##Data Cleansing"
      ],
      "metadata": {
        "id": "2O4AoxKKUdqh"
      },
      "id": "2O4AoxKKUdqh"
    },
    {
      "cell_type": "markdown",
      "source": [
        "###Handle missing values"
      ],
      "metadata": {
        "id": "MHYyyHe3UwmD"
      },
      "id": "MHYyyHe3UwmD"
    },
    {
      "cell_type": "code",
      "source": [
        "# jumlah entry NULL di setiap kolom\n",
        "df_stg1.isna().sum()"
      ],
      "metadata": {
        "colab": {
          "base_uri": "https://localhost:8080/"
        },
        "id": "Ym0UpIhr6h08",
        "outputId": "171a1696-bd88-4ab0-c80d-e0d54134e44a"
      },
      "id": "Ym0UpIhr6h08",
      "execution_count": null,
      "outputs": [
        {
          "output_type": "execute_result",
          "data": {
            "text/plain": [
              "CustomerID                       0\n",
              "Churn                            0\n",
              "Tenure                         264\n",
              "PreferredLoginDevice             0\n",
              "CityTier                         0\n",
              "WarehouseToHome                251\n",
              "PreferredPaymentMode             0\n",
              "Gender                           0\n",
              "HourSpendOnApp                 255\n",
              "NumberOfDeviceRegistered         0\n",
              "PreferedOrderCat                 0\n",
              "SatisfactionScore                0\n",
              "MaritalStatus                    0\n",
              "NumberOfAddress                  0\n",
              "Complain                         0\n",
              "OrderAmountHikeFromlastYear    265\n",
              "CouponUsed                     256\n",
              "OrderCount                     258\n",
              "DaySinceLastOrder              307\n",
              "CashbackAmount                   0\n",
              "dtype: int64"
            ]
          },
          "metadata": {},
          "execution_count": 31
        }
      ]
    },
    {
      "cell_type": "code",
      "source": [
        "percentage_of_null_values = ((df_stg1.isnull().sum())*100/len(df)).sort_values(ascending = False)\n",
        "percentage_of_null_values"
      ],
      "metadata": {
        "id": "ciJuW12MUcVb",
        "colab": {
          "base_uri": "https://localhost:8080/"
        },
        "outputId": "e915f4e9-e515-4d03-929b-a67eab3652ab"
      },
      "id": "ciJuW12MUcVb",
      "execution_count": null,
      "outputs": [
        {
          "output_type": "execute_result",
          "data": {
            "text/plain": [
              "DaySinceLastOrder              5.452931\n",
              "OrderAmountHikeFromlastYear    4.706927\n",
              "Tenure                         4.689165\n",
              "OrderCount                     4.582593\n",
              "CouponUsed                     4.547069\n",
              "HourSpendOnApp                 4.529307\n",
              "WarehouseToHome                4.458259\n",
              "CustomerID                     0.000000\n",
              "MaritalStatus                  0.000000\n",
              "Complain                       0.000000\n",
              "NumberOfAddress                0.000000\n",
              "PreferedOrderCat               0.000000\n",
              "SatisfactionScore              0.000000\n",
              "Churn                          0.000000\n",
              "NumberOfDeviceRegistered       0.000000\n",
              "Gender                         0.000000\n",
              "PreferredPaymentMode           0.000000\n",
              "CityTier                       0.000000\n",
              "PreferredLoginDevice           0.000000\n",
              "CashbackAmount                 0.000000\n",
              "dtype: float64"
            ]
          },
          "metadata": {},
          "execution_count": 32
        }
      ]
    },
    {
      "cell_type": "markdown",
      "source": [
        "<b> Untuk kolom/feature yang memiliki missing value, karena nilai null > 5% data, maka akan dilakukan imputation berdasarkan sebaran/distribusi datanya. jika data skew ke kanan (mean>median), maka digunakan nilai median karena nilai median robust terhadap outlier. atau opsi lain, digunakan nilai IQR (Q3-Q1) yang juga robust terhadap outlier. "
      ],
      "metadata": {
        "id": "1UG4c7Up3Vyw"
      },
      "id": "1UG4c7Up3Vyw"
    },
    {
      "cell_type": "code",
      "source": [
        "# drop feature dengan missing value <5%\n",
        "df_stg1 = df_stg1.dropna(subset=['WarehouseToHome','HourSpendOnApp','CouponUsed','OrderCount','Tenure','OrderAmountHikeFromlastYear'])\n",
        "df_stg1.isna().sum()"
      ],
      "metadata": {
        "colab": {
          "base_uri": "https://localhost:8080/"
        },
        "id": "t0-OJaaT6nwA",
        "outputId": "bfa4bda2-b7d8-4e58-a81d-3c27a3e61406"
      },
      "id": "t0-OJaaT6nwA",
      "execution_count": null,
      "outputs": [
        {
          "output_type": "execute_result",
          "data": {
            "text/plain": [
              "CustomerID                       0\n",
              "Churn                            0\n",
              "Tenure                           0\n",
              "PreferredLoginDevice             0\n",
              "CityTier                         0\n",
              "WarehouseToHome                  0\n",
              "PreferredPaymentMode             0\n",
              "Gender                           0\n",
              "HourSpendOnApp                   0\n",
              "NumberOfDeviceRegistered         0\n",
              "PreferedOrderCat                 0\n",
              "SatisfactionScore                0\n",
              "MaritalStatus                    0\n",
              "NumberOfAddress                  0\n",
              "Complain                         0\n",
              "OrderAmountHikeFromlastYear      0\n",
              "CouponUsed                       0\n",
              "OrderCount                       0\n",
              "DaySinceLastOrder              307\n",
              "CashbackAmount                   0\n",
              "dtype: int64"
            ]
          },
          "metadata": {},
          "execution_count": 33
        }
      ]
    },
    {
      "cell_type": "code",
      "source": [
        "# impute DaySinceLastOrder\n",
        "df_stg1['DaySinceLastOrder'].fillna(df_stg1['DaySinceLastOrder'].median(), inplace=True)"
      ],
      "metadata": {
        "id": "uidEkgdP7uYW"
      },
      "id": "uidEkgdP7uYW",
      "execution_count": null,
      "outputs": []
    },
    {
      "cell_type": "code",
      "source": [
        "# cek jumlah missing data setelah preprocessing\n",
        "df_stg1.isna().sum()"
      ],
      "metadata": {
        "colab": {
          "base_uri": "https://localhost:8080/"
        },
        "id": "lEZL7Tqe9VXB",
        "outputId": "25794104-6685-425a-d569-ab3e4d77c53f"
      },
      "id": "lEZL7Tqe9VXB",
      "execution_count": null,
      "outputs": [
        {
          "output_type": "execute_result",
          "data": {
            "text/plain": [
              "CustomerID                     0\n",
              "Churn                          0\n",
              "Tenure                         0\n",
              "PreferredLoginDevice           0\n",
              "CityTier                       0\n",
              "WarehouseToHome                0\n",
              "PreferredPaymentMode           0\n",
              "Gender                         0\n",
              "HourSpendOnApp                 0\n",
              "NumberOfDeviceRegistered       0\n",
              "PreferedOrderCat               0\n",
              "SatisfactionScore              0\n",
              "MaritalStatus                  0\n",
              "NumberOfAddress                0\n",
              "Complain                       0\n",
              "OrderAmountHikeFromlastYear    0\n",
              "CouponUsed                     0\n",
              "OrderCount                     0\n",
              "DaySinceLastOrder              0\n",
              "CashbackAmount                 0\n",
              "dtype: int64"
            ]
          },
          "metadata": {},
          "execution_count": 35
        }
      ]
    },
    {
      "cell_type": "code",
      "source": [
        "df_stg1.info()"
      ],
      "metadata": {
        "colab": {
          "base_uri": "https://localhost:8080/"
        },
        "id": "n74Oba7RbGca",
        "outputId": "6a965ecc-e2b3-482a-bd59-80dc937c91e0"
      },
      "id": "n74Oba7RbGca",
      "execution_count": null,
      "outputs": [
        {
          "output_type": "stream",
          "name": "stdout",
          "text": [
            "<class 'pandas.core.frame.DataFrame'>\n",
            "Int64Index: 4081 entries, 0 to 5629\n",
            "Data columns (total 20 columns):\n",
            " #   Column                       Non-Null Count  Dtype  \n",
            "---  ------                       --------------  -----  \n",
            " 0   CustomerID                   4081 non-null   int64  \n",
            " 1   Churn                        4081 non-null   int64  \n",
            " 2   Tenure                       4081 non-null   float64\n",
            " 3   PreferredLoginDevice         4081 non-null   object \n",
            " 4   CityTier                     4081 non-null   int64  \n",
            " 5   PreferredPaymentMode         4081 non-null   object \n",
            " 6   Gender                       4081 non-null   object \n",
            " 7   HourSpendOnApp               4081 non-null   float64\n",
            " 8   NumberOfDeviceRegistered     4081 non-null   int64  \n",
            " 9   PreferedOrderCat             4081 non-null   object \n",
            " 10  SatisfactionScore            4081 non-null   int64  \n",
            " 11  MaritalStatus                4081 non-null   object \n",
            " 12  NumberOfAddress              4081 non-null   int64  \n",
            " 13  Complain                     4081 non-null   int64  \n",
            " 14  OrderAmountHikeFromlastYear  4081 non-null   float64\n",
            " 15  CouponUsed                   4081 non-null   float64\n",
            " 16  OrderCount                   4081 non-null   float64\n",
            " 17  CashbackAmount               4081 non-null   float64\n",
            " 18  log_WarehouseToHome          4081 non-null   float64\n",
            " 19  log_DaySinceLastOrder        4081 non-null   float64\n",
            "dtypes: float64(8), int64(7), object(5)\n",
            "memory usage: 669.5+ KB\n"
          ]
        }
      ]
    },
    {
      "cell_type": "markdown",
      "source": [
        "###Handle duplicated data"
      ],
      "metadata": {
        "id": "gYdK2_YX0Kvk"
      },
      "id": "gYdK2_YX0Kvk"
    },
    {
      "cell_type": "code",
      "source": [
        "print('Data yang duplikat = ', df_stg1.duplicated().sum())"
      ],
      "metadata": {
        "colab": {
          "base_uri": "https://localhost:8080/"
        },
        "id": "uhj5eya60UNK",
        "outputId": "f6638244-1c95-49db-bf56-80e9b87c5dc9"
      },
      "id": "uhj5eya60UNK",
      "execution_count": null,
      "outputs": [
        {
          "output_type": "stream",
          "name": "stdout",
          "text": [
            "Data yang duplikat =  0\n"
          ]
        }
      ]
    },
    {
      "cell_type": "markdown",
      "source": [
        "Data yang duplikat 0 sehingga tidak perlu di handling"
      ],
      "metadata": {
        "id": "ZLvK-OOv9gqy"
      },
      "id": "ZLvK-OOv9gqy"
    },
    {
      "cell_type": "markdown",
      "source": [
        "###Handle outliers"
      ],
      "metadata": {
        "id": "6uHoy0rJ0Xkz"
      },
      "id": "6uHoy0rJ0Xkz"
    },
    {
      "cell_type": "code",
      "source": [
        "#WarehouseToHome dan DaySinceLastOrder\n",
        "# distribusi WarehouseToHome (nilai asli)\n",
        "sns.kdeplot(df_stg1['WarehouseToHome'])\n",
        "# distribusi DaySinceLastOrder (nilai asli)\n",
        "sns.kdeplot(df_stg1['DaySinceLastOrder'])"
      ],
      "metadata": {
        "colab": {
          "base_uri": "https://localhost:8080/",
          "height": 299
        },
        "id": "RqFrQRTX0ePm",
        "outputId": "8b1f5601-7912-4515-c6a7-6f387e393285"
      },
      "id": "RqFrQRTX0ePm",
      "execution_count": null,
      "outputs": [
        {
          "output_type": "execute_result",
          "data": {
            "text/plain": [
              "<matplotlib.axes._subplots.AxesSubplot at 0x7f68b96a0f50>"
            ]
          },
          "metadata": {},
          "execution_count": 19
        },
        {
          "output_type": "display_data",
          "data": {
            "text/plain": [
              "<Figure size 432x288 with 1 Axes>"
            ],
            "image/png": "[encoded data removed]"
          },
          "metadata": {
            "needs_background": "light"
          }
        }
      ]
    },
    {
      "cell_type": "code",
      "source": [
        "# distribusi WarehouseToHome (setelah log transformation)\n",
        "sns.kdeplot(np.log(df_stg1['WarehouseToHome']))\n",
        "# distribusi DaySinceLastOrder (setelah log transformation)\n",
        "sns.kdeplot(np.log(df_stg1['DaySinceLastOrder']))"
      ],
      "metadata": {
        "colab": {
          "base_uri": "https://localhost:8080/",
          "height": 298
        },
        "id": "06Ai2B4GAdM0",
        "outputId": "03d1df93-3a19-4a30-f170-fe5d02dafc3f"
      },
      "id": "06Ai2B4GAdM0",
      "execution_count": null,
      "outputs": [
        {
          "output_type": "execute_result",
          "data": {
            "text/plain": [
              "<matplotlib.axes._subplots.AxesSubplot at 0x7f68b9615c90>"
            ]
          },
          "metadata": {},
          "execution_count": 20
        },
        {
          "output_type": "display_data",
          "data": {
            "text/plain": [
              "<Figure size 432x288 with 1 Axes>"
            ],
            "image/png": "[encoded data removed]"
          },
          "metadata": {
            "needs_background": "light"
          }
        }
      ]
    },
    {
      "cell_type": "code",
      "source": [
        "# maka kita transform\n",
        "df_stg1['log_WarehouseToHome'] = np.log(df_stg1['WarehouseToHome'])\n",
        "df_stg1['log_DaySinceLastOrder'] = np.log(df_stg1['DaySinceLastOrder'])"
      ],
      "metadata": {
        "colab": {
          "base_uri": "https://localhost:8080/",
          "height": 501
        },
        "id": "S3kkrDR8Azl_",
        "outputId": "f0ce5540-d388-45ed-a856-c9d1c8ba4959"
      },
      "id": "S3kkrDR8Azl_",
      "execution_count": null,
      "outputs": [
        {
          "output_type": "error",
          "ename": "KeyError",
          "evalue": "ignored",
          "traceback": [
            "\u001b[0;31m---------------------------------------------------------------------------\u001b[0m",
            "\u001b[0;31mKeyError\u001b[0m                                  Traceback (most recent call last)",
            "\u001b[0;32m/usr/local/lib/python3.7/dist-packages/pandas/core/indexes/base.py\u001b[0m in \u001b[0;36mget_loc\u001b[0;34m(self, key, method, tolerance)\u001b[0m\n\u001b[1;32m   3360\u001b[0m             \u001b[0;32mtry\u001b[0m\u001b[0;34m:\u001b[0m\u001b[0;34m\u001b[0m\u001b[0;34m\u001b[0m\u001b[0m\n\u001b[0;32m-> 3361\u001b[0;31m                 \u001b[0;32mreturn\u001b[0m \u001b[0mself\u001b[0m\u001b[0;34m.\u001b[0m\u001b[0m_engine\u001b[0m\u001b[0;34m.\u001b[0m\u001b[0mget_loc\u001b[0m\u001b[0;34m(\u001b[0m\u001b[0mcasted_key\u001b[0m\u001b[0;34m)\u001b[0m\u001b[0;34m\u001b[0m\u001b[0;34m\u001b[0m\u001b[0m\n\u001b[0m\u001b[1;32m   3362\u001b[0m             \u001b[0;32mexcept\u001b[0m \u001b[0mKeyError\u001b[0m \u001b[0;32mas\u001b[0m \u001b[0merr\u001b[0m\u001b[0;34m:\u001b[0m\u001b[0;34m\u001b[0m\u001b[0;34m\u001b[0m\u001b[0m\n",
            "\u001b[0;32m/usr/local/lib/python3.7/dist-packages/pandas/_libs/index.pyx\u001b[0m in \u001b[0;36mpandas._libs.index.IndexEngine.get_loc\u001b[0;34m()\u001b[0m\n",
            "\u001b[0;32m/usr/local/lib/python3.7/dist-packages/pandas/_libs/index.pyx\u001b[0m in \u001b[0;36mpandas._libs.index.IndexEngine.get_loc\u001b[0;34m()\u001b[0m\n",
            "\u001b[0;32mpandas/_libs/hashtable_class_helper.pxi\u001b[0m in \u001b[0;36mpandas._libs.hashtable.PyObjectHashTable.get_item\u001b[0;34m()\u001b[0m\n",
            "\u001b[0;32mpandas/_libs/hashtable_class_helper.pxi\u001b[0m in \u001b[0;36mpandas._libs.hashtable.PyObjectHashTable.get_item\u001b[0;34m()\u001b[0m\n",
            "\u001b[0;31mKeyError\u001b[0m: 'DaySinceLastOrder'",
            "\nThe above exception was the direct cause of the following exception:\n",
            "\u001b[0;31mKeyError\u001b[0m                                  Traceback (most recent call last)",
            "\u001b[0;32m<ipython-input-42-96a99c545f00>\u001b[0m in \u001b[0;36m<module>\u001b[0;34m()\u001b[0m\n\u001b[1;32m      1\u001b[0m \u001b[0;31m# maka kita transform\u001b[0m\u001b[0;34m\u001b[0m\u001b[0;34m\u001b[0m\u001b[0;34m\u001b[0m\u001b[0m\n\u001b[1;32m      2\u001b[0m \u001b[0;34m\u001b[0m\u001b[0m\n\u001b[0;32m----> 3\u001b[0;31m \u001b[0mdf_stg1\u001b[0m\u001b[0;34m[\u001b[0m\u001b[0;34m'log_DaySinceLastOrder'\u001b[0m\u001b[0;34m]\u001b[0m \u001b[0;34m=\u001b[0m \u001b[0mnp\u001b[0m\u001b[0;34m.\u001b[0m\u001b[0mlog\u001b[0m\u001b[0;34m(\u001b[0m\u001b[0mdf_stg1\u001b[0m\u001b[0;34m[\u001b[0m\u001b[0;34m'DaySinceLastOrder'\u001b[0m\u001b[0;34m]\u001b[0m\u001b[0;34m)\u001b[0m\u001b[0;34m\u001b[0m\u001b[0;34m\u001b[0m\u001b[0m\n\u001b[0m",
            "\u001b[0;32m/usr/local/lib/python3.7/dist-packages/pandas/core/frame.py\u001b[0m in \u001b[0;36m__getitem__\u001b[0;34m(self, key)\u001b[0m\n\u001b[1;32m   3456\u001b[0m             \u001b[0;32mif\u001b[0m \u001b[0mself\u001b[0m\u001b[0;34m.\u001b[0m\u001b[0mcolumns\u001b[0m\u001b[0;34m.\u001b[0m\u001b[0mnlevels\u001b[0m \u001b[0;34m>\u001b[0m \u001b[0;36m1\u001b[0m\u001b[0;34m:\u001b[0m\u001b[0;34m\u001b[0m\u001b[0;34m\u001b[0m\u001b[0m\n\u001b[1;32m   3457\u001b[0m                 \u001b[0;32mreturn\u001b[0m \u001b[0mself\u001b[0m\u001b[0;34m.\u001b[0m\u001b[0m_getitem_multilevel\u001b[0m\u001b[0;34m(\u001b[0m\u001b[0mkey\u001b[0m\u001b[0;34m)\u001b[0m\u001b[0;34m\u001b[0m\u001b[0;34m\u001b[0m\u001b[0m\n\u001b[0;32m-> 3458\u001b[0;31m             \u001b[0mindexer\u001b[0m \u001b[0;34m=\u001b[0m \u001b[0mself\u001b[0m\u001b[0;34m.\u001b[0m\u001b[0mcolumns\u001b[0m\u001b[0;34m.\u001b[0m\u001b[0mget_loc\u001b[0m\u001b[0;34m(\u001b[0m\u001b[0mkey\u001b[0m\u001b[0;34m)\u001b[0m\u001b[0;34m\u001b[0m\u001b[0;34m\u001b[0m\u001b[0m\n\u001b[0m\u001b[1;32m   3459\u001b[0m             \u001b[0;32mif\u001b[0m \u001b[0mis_integer\u001b[0m\u001b[0;34m(\u001b[0m\u001b[0mindexer\u001b[0m\u001b[0;34m)\u001b[0m\u001b[0;34m:\u001b[0m\u001b[0;34m\u001b[0m\u001b[0;34m\u001b[0m\u001b[0m\n\u001b[1;32m   3460\u001b[0m                 \u001b[0mindexer\u001b[0m \u001b[0;34m=\u001b[0m \u001b[0;34m[\u001b[0m\u001b[0mindexer\u001b[0m\u001b[0;34m]\u001b[0m\u001b[0;34m\u001b[0m\u001b[0;34m\u001b[0m\u001b[0m\n",
            "\u001b[0;32m/usr/local/lib/python3.7/dist-packages/pandas/core/indexes/base.py\u001b[0m in \u001b[0;36mget_loc\u001b[0;34m(self, key, method, tolerance)\u001b[0m\n\u001b[1;32m   3361\u001b[0m                 \u001b[0;32mreturn\u001b[0m \u001b[0mself\u001b[0m\u001b[0;34m.\u001b[0m\u001b[0m_engine\u001b[0m\u001b[0;34m.\u001b[0m\u001b[0mget_loc\u001b[0m\u001b[0;34m(\u001b[0m\u001b[0mcasted_key\u001b[0m\u001b[0;34m)\u001b[0m\u001b[0;34m\u001b[0m\u001b[0;34m\u001b[0m\u001b[0m\n\u001b[1;32m   3362\u001b[0m             \u001b[0;32mexcept\u001b[0m \u001b[0mKeyError\u001b[0m \u001b[0;32mas\u001b[0m \u001b[0merr\u001b[0m\u001b[0;34m:\u001b[0m\u001b[0;34m\u001b[0m\u001b[0;34m\u001b[0m\u001b[0m\n\u001b[0;32m-> 3363\u001b[0;31m                 \u001b[0;32mraise\u001b[0m \u001b[0mKeyError\u001b[0m\u001b[0;34m(\u001b[0m\u001b[0mkey\u001b[0m\u001b[0;34m)\u001b[0m \u001b[0;32mfrom\u001b[0m \u001b[0merr\u001b[0m\u001b[0;34m\u001b[0m\u001b[0;34m\u001b[0m\u001b[0m\n\u001b[0m\u001b[1;32m   3364\u001b[0m \u001b[0;34m\u001b[0m\u001b[0m\n\u001b[1;32m   3365\u001b[0m         \u001b[0;32mif\u001b[0m \u001b[0mis_scalar\u001b[0m\u001b[0;34m(\u001b[0m\u001b[0mkey\u001b[0m\u001b[0;34m)\u001b[0m \u001b[0;32mand\u001b[0m \u001b[0misna\u001b[0m\u001b[0;34m(\u001b[0m\u001b[0mkey\u001b[0m\u001b[0;34m)\u001b[0m \u001b[0;32mand\u001b[0m \u001b[0;32mnot\u001b[0m \u001b[0mself\u001b[0m\u001b[0;34m.\u001b[0m\u001b[0mhasnans\u001b[0m\u001b[0;34m:\u001b[0m\u001b[0;34m\u001b[0m\u001b[0;34m\u001b[0m\u001b[0m\n",
            "\u001b[0;31mKeyError\u001b[0m: 'DaySinceLastOrder'"
          ]
        }
      ]
    },
    {
      "cell_type": "code",
      "source": [
        "# drop kolom gaji original\n",
        "df_stg1 = df_stg1.drop(columns=['WarehouseToHome','DaySinceLastOrder'])"
      ],
      "metadata": {
        "colab": {
          "base_uri": "https://localhost:8080/",
          "height": 328
        },
        "id": "G5OYv8CEBMhp",
        "outputId": "b8fedebb-e634-4cc3-996a-c6e084216150"
      },
      "id": "G5OYv8CEBMhp",
      "execution_count": null,
      "outputs": [
        {
          "output_type": "error",
          "ename": "KeyError",
          "evalue": "ignored",
          "traceback": [
            "\u001b[0;31m---------------------------------------------------------------------------\u001b[0m",
            "\u001b[0;31mKeyError\u001b[0m                                  Traceback (most recent call last)",
            "\u001b[0;32m<ipython-input-44-0d27cd0e2418>\u001b[0m in \u001b[0;36m<module>\u001b[0;34m()\u001b[0m\n\u001b[1;32m      1\u001b[0m \u001b[0;31m# drop kolom gaji original\u001b[0m\u001b[0;34m\u001b[0m\u001b[0;34m\u001b[0m\u001b[0;34m\u001b[0m\u001b[0m\n\u001b[0;32m----> 2\u001b[0;31m \u001b[0mdf_stg1\u001b[0m \u001b[0;34m=\u001b[0m \u001b[0mdf_stg1\u001b[0m\u001b[0;34m.\u001b[0m\u001b[0mdrop\u001b[0m\u001b[0;34m(\u001b[0m\u001b[0mcolumns\u001b[0m\u001b[0;34m=\u001b[0m\u001b[0;34m[\u001b[0m\u001b[0;34m'WarehouseToHome'\u001b[0m\u001b[0;34m,\u001b[0m\u001b[0;34m'DaySinceLastOrder'\u001b[0m\u001b[0;34m]\u001b[0m\u001b[0;34m)\u001b[0m\u001b[0;34m\u001b[0m\u001b[0;34m\u001b[0m\u001b[0m\n\u001b[0m",
            "\u001b[0;32m/usr/local/lib/python3.7/dist-packages/pandas/util/_decorators.py\u001b[0m in \u001b[0;36mwrapper\u001b[0;34m(*args, **kwargs)\u001b[0m\n\u001b[1;32m    309\u001b[0m                     \u001b[0mstacklevel\u001b[0m\u001b[0;34m=\u001b[0m\u001b[0mstacklevel\u001b[0m\u001b[0;34m,\u001b[0m\u001b[0;34m\u001b[0m\u001b[0;34m\u001b[0m\u001b[0m\n\u001b[1;32m    310\u001b[0m                 )\n\u001b[0;32m--> 311\u001b[0;31m             \u001b[0;32mreturn\u001b[0m \u001b[0mfunc\u001b[0m\u001b[0;34m(\u001b[0m\u001b[0;34m*\u001b[0m\u001b[0margs\u001b[0m\u001b[0;34m,\u001b[0m \u001b[0;34m**\u001b[0m\u001b[0mkwargs\u001b[0m\u001b[0;34m)\u001b[0m\u001b[0;34m\u001b[0m\u001b[0;34m\u001b[0m\u001b[0m\n\u001b[0m\u001b[1;32m    312\u001b[0m \u001b[0;34m\u001b[0m\u001b[0m\n\u001b[1;32m    313\u001b[0m         \u001b[0;32mreturn\u001b[0m \u001b[0mwrapper\u001b[0m\u001b[0;34m\u001b[0m\u001b[0;34m\u001b[0m\u001b[0m\n",
            "\u001b[0;32m/usr/local/lib/python3.7/dist-packages/pandas/core/frame.py\u001b[0m in \u001b[0;36mdrop\u001b[0;34m(self, labels, axis, index, columns, level, inplace, errors)\u001b[0m\n\u001b[1;32m   4911\u001b[0m             \u001b[0mlevel\u001b[0m\u001b[0;34m=\u001b[0m\u001b[0mlevel\u001b[0m\u001b[0;34m,\u001b[0m\u001b[0;34m\u001b[0m\u001b[0;34m\u001b[0m\u001b[0m\n\u001b[1;32m   4912\u001b[0m             \u001b[0minplace\u001b[0m\u001b[0;34m=\u001b[0m\u001b[0minplace\u001b[0m\u001b[0;34m,\u001b[0m\u001b[0;34m\u001b[0m\u001b[0;34m\u001b[0m\u001b[0m\n\u001b[0;32m-> 4913\u001b[0;31m             \u001b[0merrors\u001b[0m\u001b[0;34m=\u001b[0m\u001b[0merrors\u001b[0m\u001b[0;34m,\u001b[0m\u001b[0;34m\u001b[0m\u001b[0;34m\u001b[0m\u001b[0m\n\u001b[0m\u001b[1;32m   4914\u001b[0m         )\n\u001b[1;32m   4915\u001b[0m \u001b[0;34m\u001b[0m\u001b[0m\n",
            "\u001b[0;32m/usr/local/lib/python3.7/dist-packages/pandas/core/generic.py\u001b[0m in \u001b[0;36mdrop\u001b[0;34m(self, labels, axis, index, columns, level, inplace, errors)\u001b[0m\n\u001b[1;32m   4148\u001b[0m         \u001b[0;32mfor\u001b[0m \u001b[0maxis\u001b[0m\u001b[0;34m,\u001b[0m \u001b[0mlabels\u001b[0m \u001b[0;32min\u001b[0m \u001b[0maxes\u001b[0m\u001b[0;34m.\u001b[0m\u001b[0mitems\u001b[0m\u001b[0;34m(\u001b[0m\u001b[0;34m)\u001b[0m\u001b[0;34m:\u001b[0m\u001b[0;34m\u001b[0m\u001b[0;34m\u001b[0m\u001b[0m\n\u001b[1;32m   4149\u001b[0m             \u001b[0;32mif\u001b[0m \u001b[0mlabels\u001b[0m \u001b[0;32mis\u001b[0m \u001b[0;32mnot\u001b[0m \u001b[0;32mNone\u001b[0m\u001b[0;34m:\u001b[0m\u001b[0;34m\u001b[0m\u001b[0;34m\u001b[0m\u001b[0m\n\u001b[0;32m-> 4150\u001b[0;31m                 \u001b[0mobj\u001b[0m \u001b[0;34m=\u001b[0m \u001b[0mobj\u001b[0m\u001b[0;34m.\u001b[0m\u001b[0m_drop_axis\u001b[0m\u001b[0;34m(\u001b[0m\u001b[0mlabels\u001b[0m\u001b[0;34m,\u001b[0m \u001b[0maxis\u001b[0m\u001b[0;34m,\u001b[0m \u001b[0mlevel\u001b[0m\u001b[0;34m=\u001b[0m\u001b[0mlevel\u001b[0m\u001b[0;34m,\u001b[0m \u001b[0merrors\u001b[0m\u001b[0;34m=\u001b[0m\u001b[0merrors\u001b[0m\u001b[0;34m)\u001b[0m\u001b[0;34m\u001b[0m\u001b[0;34m\u001b[0m\u001b[0m\n\u001b[0m\u001b[1;32m   4151\u001b[0m \u001b[0;34m\u001b[0m\u001b[0m\n\u001b[1;32m   4152\u001b[0m         \u001b[0;32mif\u001b[0m \u001b[0minplace\u001b[0m\u001b[0;34m:\u001b[0m\u001b[0;34m\u001b[0m\u001b[0;34m\u001b[0m\u001b[0m\n",
            "\u001b[0;32m/usr/local/lib/python3.7/dist-packages/pandas/core/generic.py\u001b[0m in \u001b[0;36m_drop_axis\u001b[0;34m(self, labels, axis, level, errors)\u001b[0m\n\u001b[1;32m   4183\u001b[0m                 \u001b[0mnew_axis\u001b[0m \u001b[0;34m=\u001b[0m \u001b[0maxis\u001b[0m\u001b[0;34m.\u001b[0m\u001b[0mdrop\u001b[0m\u001b[0;34m(\u001b[0m\u001b[0mlabels\u001b[0m\u001b[0;34m,\u001b[0m \u001b[0mlevel\u001b[0m\u001b[0;34m=\u001b[0m\u001b[0mlevel\u001b[0m\u001b[0;34m,\u001b[0m \u001b[0merrors\u001b[0m\u001b[0;34m=\u001b[0m\u001b[0merrors\u001b[0m\u001b[0;34m)\u001b[0m\u001b[0;34m\u001b[0m\u001b[0;34m\u001b[0m\u001b[0m\n\u001b[1;32m   4184\u001b[0m             \u001b[0;32melse\u001b[0m\u001b[0;34m:\u001b[0m\u001b[0;34m\u001b[0m\u001b[0;34m\u001b[0m\u001b[0m\n\u001b[0;32m-> 4185\u001b[0;31m                 \u001b[0mnew_axis\u001b[0m \u001b[0;34m=\u001b[0m \u001b[0maxis\u001b[0m\u001b[0;34m.\u001b[0m\u001b[0mdrop\u001b[0m\u001b[0;34m(\u001b[0m\u001b[0mlabels\u001b[0m\u001b[0;34m,\u001b[0m \u001b[0merrors\u001b[0m\u001b[0;34m=\u001b[0m\u001b[0merrors\u001b[0m\u001b[0;34m)\u001b[0m\u001b[0;34m\u001b[0m\u001b[0;34m\u001b[0m\u001b[0m\n\u001b[0m\u001b[1;32m   4186\u001b[0m             \u001b[0mresult\u001b[0m \u001b[0;34m=\u001b[0m \u001b[0mself\u001b[0m\u001b[0;34m.\u001b[0m\u001b[0mreindex\u001b[0m\u001b[0;34m(\u001b[0m\u001b[0;34m**\u001b[0m\u001b[0;34m{\u001b[0m\u001b[0maxis_name\u001b[0m\u001b[0;34m:\u001b[0m \u001b[0mnew_axis\u001b[0m\u001b[0;34m}\u001b[0m\u001b[0;34m)\u001b[0m\u001b[0;34m\u001b[0m\u001b[0;34m\u001b[0m\u001b[0m\n\u001b[1;32m   4187\u001b[0m \u001b[0;34m\u001b[0m\u001b[0m\n",
            "\u001b[0;32m/usr/local/lib/python3.7/dist-packages/pandas/core/indexes/base.py\u001b[0m in \u001b[0;36mdrop\u001b[0;34m(self, labels, errors)\u001b[0m\n\u001b[1;32m   6015\u001b[0m         \u001b[0;32mif\u001b[0m \u001b[0mmask\u001b[0m\u001b[0;34m.\u001b[0m\u001b[0many\u001b[0m\u001b[0;34m(\u001b[0m\u001b[0;34m)\u001b[0m\u001b[0;34m:\u001b[0m\u001b[0;34m\u001b[0m\u001b[0;34m\u001b[0m\u001b[0m\n\u001b[1;32m   6016\u001b[0m             \u001b[0;32mif\u001b[0m \u001b[0merrors\u001b[0m \u001b[0;34m!=\u001b[0m \u001b[0;34m\"ignore\"\u001b[0m\u001b[0;34m:\u001b[0m\u001b[0;34m\u001b[0m\u001b[0;34m\u001b[0m\u001b[0m\n\u001b[0;32m-> 6017\u001b[0;31m                 \u001b[0;32mraise\u001b[0m \u001b[0mKeyError\u001b[0m\u001b[0;34m(\u001b[0m\u001b[0;34mf\"{labels[mask]} not found in axis\"\u001b[0m\u001b[0;34m)\u001b[0m\u001b[0;34m\u001b[0m\u001b[0;34m\u001b[0m\u001b[0m\n\u001b[0m\u001b[1;32m   6018\u001b[0m             \u001b[0mindexer\u001b[0m \u001b[0;34m=\u001b[0m \u001b[0mindexer\u001b[0m\u001b[0;34m[\u001b[0m\u001b[0;34m~\u001b[0m\u001b[0mmask\u001b[0m\u001b[0;34m]\u001b[0m\u001b[0;34m\u001b[0m\u001b[0;34m\u001b[0m\u001b[0m\n\u001b[1;32m   6019\u001b[0m         \u001b[0;32mreturn\u001b[0m \u001b[0mself\u001b[0m\u001b[0;34m.\u001b[0m\u001b[0mdelete\u001b[0m\u001b[0;34m(\u001b[0m\u001b[0mindexer\u001b[0m\u001b[0;34m)\u001b[0m\u001b[0;34m\u001b[0m\u001b[0;34m\u001b[0m\u001b[0m\n",
            "\u001b[0;31mKeyError\u001b[0m: \"['WarehouseToHome' 'DaySinceLastOrder'] not found in axis\""
          ]
        }
      ]
    },
    {
      "cell_type": "code",
      "source": [
        "nums_updated = ['Tenure','CityTier', 'log_WarehouseToHome', 'HourSpendOnApp', 'NumberOfDeviceRegistered','SatisfactionScore', 'log_DaySinceLastOrder','NumberOfAddress', 'OrderAmountHikeFromlastYear', 'CouponUsed', 'OrderCount', 'CashbackAmount']"
      ],
      "metadata": {
        "id": "JgpKjMK8CCMS"
      },
      "id": "JgpKjMK8CCMS",
      "execution_count": null,
      "outputs": []
    },
    {
      "cell_type": "code",
      "source": [
        "zscore = abs(stats.zscore(df_stg1[col]))\n",
        "zscore"
      ],
      "metadata": {
        "colab": {
          "base_uri": "https://localhost:8080/"
        },
        "id": "pBW0Ij77UVfR",
        "outputId": "5936bde8-4f29-4f1d-ac6f-cafe6589de7b"
      },
      "id": "pBW0Ij77UVfR",
      "execution_count": null,
      "outputs": [
        {
          "output_type": "execute_result",
          "data": {
            "text/plain": [
              "array([nan, nan, nan, ..., nan, nan, nan])"
            ]
          },
          "metadata": {},
          "execution_count": 26
        }
      ]
    },
    {
      "cell_type": "code",
      "source": [
        "from scipy import stats\n",
        "\n",
        "print(f'Jumlah baris sebelum memfilter outlier: {len(df_stg1)}')\n",
        "\n",
        "filtered_entries = np.array([True] * len(df_stg1))\n",
        "\n",
        "for col in nums_updated:\n",
        "    zscore = abs(stats.zscore(df_stg1[col])) # hitung absolute z-scorenya\n",
        "    filtered_entries = (zscore < 3) & filtered_entries # keep yang kurang dari 3 absolute z-scorenya\n",
        "    \n",
        "df_stg1 = df_stg1[filtered_entries] # filter, cuma ambil yang z-scorenya dibawah 3\n",
        "\n",
        "print(f'Jumlah baris setelah memfilter outlier: {len(df_stg1)}')"
      ],
      "metadata": {
        "colab": {
          "base_uri": "https://localhost:8080/"
        },
        "id": "FC8aN0uZCk1j",
        "outputId": "7e6dc8dd-6c6d-4bb8-fb90-a726fb1d4091"
      },
      "id": "FC8aN0uZCk1j",
      "execution_count": null,
      "outputs": [
        {
          "output_type": "stream",
          "name": "stdout",
          "text": [
            "Jumlah baris sebelum memfilter outlier: 5630\n",
            "Jumlah baris setelah memfilter outlier: 0\n"
          ]
        }
      ]
    },
    {
      "cell_type": "markdown",
      "source": [
        "###Feature transformation"
      ],
      "metadata": {
        "id": "eYj6fgbl0fDm"
      },
      "id": "eYj6fgbl0fDm"
    },
    {
      "cell_type": "code",
      "source": [],
      "metadata": {
        "id": "dEuL0IEX0kR-"
      },
      "id": "dEuL0IEX0kR-",
      "execution_count": null,
      "outputs": []
    },
    {
      "cell_type": "markdown",
      "source": [
        "###Feature encoding"
      ],
      "metadata": {
        "id": "x177e2xl0kzZ"
      },
      "id": "x177e2xl0kzZ"
    },
    {
      "cell_type": "code",
      "source": [],
      "metadata": {
        "id": "nTghXDpy0o-l"
      },
      "id": "nTghXDpy0o-l",
      "execution_count": null,
      "outputs": []
    },
    {
      "cell_type": "markdown",
      "source": [
        "###Handle class imbalance"
      ],
      "metadata": {
        "id": "wBGj7JR10phi"
      },
      "id": "wBGj7JR10phi"
    },
    {
      "cell_type": "code",
      "source": [],
      "metadata": {
        "id": "0ztUtJtz0tKv"
      },
      "id": "0ztUtJtz0tKv",
      "execution_count": null,
      "outputs": []
    },
    {
      "cell_type": "markdown",
      "source": [
        "##Feature Engineering"
      ],
      "metadata": {
        "id": "luCm7o1s08AE"
      },
      "id": "luCm7o1s08AE"
    },
    {
      "cell_type": "markdown",
      "source": [
        "###Feature selection"
      ],
      "metadata": {
        "id": "dd-2cH0Y1C-M"
      },
      "id": "dd-2cH0Y1C-M"
    },
    {
      "cell_type": "code",
      "source": [],
      "metadata": {
        "id": "yfh7fcXM08jE"
      },
      "id": "yfh7fcXM08jE",
      "execution_count": null,
      "outputs": []
    },
    {
      "cell_type": "markdown",
      "source": [
        "###Feature extraction"
      ],
      "metadata": {
        "id": "Rr3wJ4MJ1Qo0"
      },
      "id": "Rr3wJ4MJ1Qo0"
    },
    {
      "cell_type": "code",
      "source": [],
      "metadata": {
        "id": "2MPqXOzl1Rau"
      },
      "id": "2MPqXOzl1Rau",
      "execution_count": null,
      "outputs": []
    },
    {
      "cell_type": "markdown",
      "source": [
        "###4 feature tambahan\n",
        "(selain yang sudah tersedia di dataset) yang \n",
        "mungkin akan sangat membantu membuat performansi model semakin bagus (ini hanya \n",
        "ide saja, untuk menguji kreativitas teman-teman, tidak perlu benar-benar dicari datanya dan tidak perlu diimplementasikan)"
      ],
      "metadata": {
        "id": "o24WntxN1Zlp"
      },
      "id": "o24WntxN1Zlp"
    },
    {
      "cell_type": "code",
      "source": [],
      "metadata": {
        "id": "mXQrcgcX1eEH"
      },
      "id": "mXQrcgcX1eEH",
      "execution_count": null,
      "outputs": []
    }
  ],
  "metadata": {
    "colab": {
      "collapsed_sections": [
        "57465064-4829-4e8d-9dde-fb481d7cb817",
        "d0bb1ea5-cedc-4538-838f-75ee9f58d8b9",
        "42e23952-9ded-44c8-b7c6-6ffa3b149dac",
        "e1032c8b-7cee-4e10-b2dd-9ee9076e2499",
        "69e2a88f-766c-4959-be8f-b615e38b12e7",
        "651a186f-7a8b-47a0-80bb-1ee17fa0cba0",
        "0263ec6f-adfb-471a-ad1e-22d0e610f8b8",
        "e5a12283-4018-4263-a2e2-552d01ed9552",
        "dbe30440-5a66-4069-bdeb-0bbbe096e563",
        "MHYyyHe3UwmD",
        "6uHoy0rJ0Xkz"
      ],
      "provenance": [],
      "include_colab_link": true
    },
    "kernelspec": {
      "display_name": "Python 3 (ipykernel)",
      "language": "python",
      "name": "python3"
    },
    "language_info": {
      "codemirror_mode": {
        "name": "ipython",
        "version": 3
      },
      "file_extension": ".py",
      "mimetype": "text/x-python",
      "name": "python",
      "nbconvert_exporter": "python",
      "pygments_lexer": "ipython3",
      "version": "3.9.7"
    }
  },
  "nbformat": 4,
  "nbformat_minor": 5
}